{
  "cells": [
    {
      "cell_type": "markdown",
      "metadata": {
        "id": "hqS8U_lFAEae"
      },
      "source": [
        "# [0.3] Optimization & Hyperparameters (exercises)\n",
        "\n",
        "> **ARENA [Streamlit Page](https://arena-chapter0-fundamentals.streamlit.app/03_[0.3]_Optimization)**\n",
        ">\n",
        "> **Colab: [exercises](https://colab.research.google.com/github/callummcdougall/ARENA_3.0/blob/main/chapter0_fundamentals/exercises/part3_optimization/0.3_Optimization_exercises.ipynb?t=20250527) | [solutions](https://colab.research.google.com/github/callummcdougall/ARENA_3.0/blob/main/chapter0_fundamentals/exercises/part3_optimization/0.3_Optimization_solutions.ipynb?t=20250527)**\n",
        "\n",
        "Please send any problems / bugs on the `#errata` channel in the [Slack group](https://join.slack.com/t/arena-uk/shared_invite/zt-39iwnhbj4-pMWUvZkkt2wpvaxkvJ0q2rRQ), and ask any questions on the dedicated channels for this chapter of material.\n",
        "\n",
        "You can collapse each section so only the headers are visible, by clicking the arrow symbol on the left hand side of the markdown header cells.\n",
        "\n",
        "Links to all other chapters: [(0) Fundamentals](https://arena-chapter0-fundamentals.streamlit.app/), [(1) Transformer Interpretability](https://arena-chapter1-transformer-interp.streamlit.app/), [(2) RL](https://arena-chapter2-rl.streamlit.app/)."
      ]
    },
    {
      "cell_type": "markdown",
      "metadata": {
        "id": "09rkWLGeAEam"
      },
      "source": [
        "<img src=\"https://raw.githubusercontent.com/info-arena/ARENA_img/main/misc/headers/header-03.png\" width=\"350\">"
      ]
    },
    {
      "cell_type": "markdown",
      "metadata": {
        "id": "hxNxq2J1AEam"
      },
      "source": [
        "# Introduction"
      ]
    },
    {
      "cell_type": "markdown",
      "metadata": {
        "id": "6JkXg58wAEam"
      },
      "source": [
        "In today's exercises, we will explore various optimization algorithms and their roles in training deep learning models. We will delve into the inner workings of different optimization techniques such as Stochastic Gradient Descent (SGD), RMSprop, and Adam, and learn how to implement them using code. Additionally, we will discuss the concept of loss landscapes and their significance in visualizing the challenges faced during the optimization process. By the end of this set of exercises, you will have a solid understanding of optimization algorithms and their impact on model performance. We'll also take a look at Weights and Biases, a tool that can be used to track and visualize the training process, and test different values of hyperparameters to find the most effective ones.\n",
        "\n",
        "> Note - the third set of exercises in this section are on distributed training, and have different requirements: specifically, you'll need to SSH into a virtual machine which has multiple GPUs, and run the exercises from a Python file (not notebook or Colab). However you can still treat the first 2 sections as normal and then make this switch for the third section."
      ]
    },
    {
      "cell_type": "markdown",
      "metadata": {
        "id": "fd85ss3hAEan"
      },
      "source": [
        "## Content & Learning Objectives\n",
        "\n",
        "### 1️⃣ Optimizers\n",
        "\n",
        "These exercises will take you through how different optimization algorithms work (specifically SGD, RMSprop and Adam). You'll write your own optimisers, and use plotting functions to visualise gradient descent on loss landscapes.\n",
        "\n",
        "> ##### Learning Objectives\n",
        ">\n",
        "> * Understand how different optimization algorithms work\n",
        "> * Translate pseudocode for these algorithms into code\n",
        "> * Understand the idea of loss landscapes, and how they can visualize specific challenges in the optimization process\n",
        "\n",
        "### 2️⃣ Weights and Biases\n",
        "\n",
        "In this section, we'll look at methods for choosing hyperparameters effectively. You'll learn how to use **Weights and Biases**, a useful tool for hyperparameter search. By the end of today, you should be able to use Weights and Biases to train the ResNet you created in the last set of exercises.\n",
        "\n",
        "> ##### Learning Objectives\n",
        ">\n",
        "> * Write modular, extensible code for training models\n",
        "> * Learn what the most important hyperparameters are, and methods for efficiently searching over hyperparameter space\n",
        "> * Learn how to use Weights & Biases for logging your runs\n",
        "> * Adapt your code from yesterday to log training runs to Weights & Biases, and use this service to run **hyperparameter sweeps**\n",
        "\n",
        "### 3️⃣ Distributed Training\n",
        "\n",
        "In this section, we'll take you through the basics of distributed training, which is the process via which training is split over multiple separate GPUs to improve efficiency and capacity.\n",
        "\n",
        "> ##### Learning Objectives\n",
        ">\n",
        "> * Understand the different kinds of parallelization used in deep learning (data, pipeline, tensor)\n",
        "> * Understand how primitive operations in `torch.distributed` work, and how they come together to enable distributed training\n",
        "> * Launch and benchmark your own distributed training runs, to train your implementation of `ResNet34` from scratch\n",
        "\n",
        "### 4️⃣ Bonus\n",
        "\n",
        "This section gives you suggestions for further exploration of optimizers, and Weights & Biases."
      ]
    },
    {
      "cell_type": "markdown",
      "metadata": {
        "id": "ozrPs3yzAEan"
      },
      "source": [
        "## Setup code"
      ]
    },
    {
      "cell_type": "code",
      "source": [],
      "metadata": {
        "id": "4nbOcu26DmN0"
      },
      "execution_count": null,
      "outputs": []
    },
    {
      "cell_type": "code",
      "execution_count": 2,
      "metadata": {
        "id": "BWd7b_zwAEan",
        "outputId": "67307b45-2651-4d4c-f95e-ec25e2d9a96c",
        "colab": {
          "base_uri": "https://localhost:8080/"
        }
      },
      "outputs": [
        {
          "output_type": "stream",
          "name": "stdout",
          "text": [
            "Requirement already satisfied: einops in /usr/local/lib/python3.11/dist-packages (0.8.1)\n",
            "Collecting jaxtyping\n",
            "  Downloading jaxtyping-0.3.2-py3-none-any.whl.metadata (7.0 kB)\n",
            "Collecting torchinfo\n",
            "  Downloading torchinfo-1.8.0-py3-none-any.whl.metadata (21 kB)\n",
            "Requirement already satisfied: wandb in /usr/local/lib/python3.11/dist-packages (0.21.0)\n",
            "Collecting wadler-lindig>=0.1.3 (from jaxtyping)\n",
            "  Downloading wadler_lindig-0.1.7-py3-none-any.whl.metadata (17 kB)\n",
            "Requirement already satisfied: click!=8.0.0,>=7.1 in /usr/local/lib/python3.11/dist-packages (from wandb) (8.2.1)\n",
            "Requirement already satisfied: gitpython!=3.1.29,>=1.0.0 in /usr/local/lib/python3.11/dist-packages (from wandb) (3.1.44)\n",
            "Requirement already satisfied: packaging in /usr/local/lib/python3.11/dist-packages (from wandb) (24.2)\n",
            "Requirement already satisfied: platformdirs in /usr/local/lib/python3.11/dist-packages (from wandb) (4.3.8)\n",
            "Requirement already satisfied: protobuf!=4.21.0,!=5.28.0,<7,>=3.19.0 in /usr/local/lib/python3.11/dist-packages (from wandb) (5.29.5)\n",
            "Requirement already satisfied: pydantic<3 in /usr/local/lib/python3.11/dist-packages (from wandb) (2.11.7)\n",
            "Requirement already satisfied: pyyaml in /usr/local/lib/python3.11/dist-packages (from wandb) (6.0.2)\n",
            "Requirement already satisfied: requests<3,>=2.0.0 in /usr/local/lib/python3.11/dist-packages (from wandb) (2.32.3)\n",
            "Requirement already satisfied: sentry-sdk>=2.0.0 in /usr/local/lib/python3.11/dist-packages (from wandb) (2.32.0)\n",
            "Requirement already satisfied: typing-extensions<5,>=4.8 in /usr/local/lib/python3.11/dist-packages (from wandb) (4.14.1)\n",
            "Requirement already satisfied: gitdb<5,>=4.0.1 in /usr/local/lib/python3.11/dist-packages (from gitpython!=3.1.29,>=1.0.0->wandb) (4.0.12)\n",
            "Requirement already satisfied: annotated-types>=0.6.0 in /usr/local/lib/python3.11/dist-packages (from pydantic<3->wandb) (0.7.0)\n",
            "Requirement already satisfied: pydantic-core==2.33.2 in /usr/local/lib/python3.11/dist-packages (from pydantic<3->wandb) (2.33.2)\n",
            "Requirement already satisfied: typing-inspection>=0.4.0 in /usr/local/lib/python3.11/dist-packages (from pydantic<3->wandb) (0.4.1)\n",
            "Requirement already satisfied: charset-normalizer<4,>=2 in /usr/local/lib/python3.11/dist-packages (from requests<3,>=2.0.0->wandb) (3.4.2)\n",
            "Requirement already satisfied: idna<4,>=2.5 in /usr/local/lib/python3.11/dist-packages (from requests<3,>=2.0.0->wandb) (3.10)\n",
            "Requirement already satisfied: urllib3<3,>=1.21.1 in /usr/local/lib/python3.11/dist-packages (from requests<3,>=2.0.0->wandb) (2.4.0)\n",
            "Requirement already satisfied: certifi>=2017.4.17 in /usr/local/lib/python3.11/dist-packages (from requests<3,>=2.0.0->wandb) (2025.7.9)\n",
            "Requirement already satisfied: smmap<6,>=3.0.1 in /usr/local/lib/python3.11/dist-packages (from gitdb<5,>=4.0.1->gitpython!=3.1.29,>=1.0.0->wandb) (5.0.2)\n",
            "Downloading jaxtyping-0.3.2-py3-none-any.whl (55 kB)\n",
            "\u001b[2K   \u001b[90m━━━━━━━━━━━━━━━━━━━━━━━━━━━━━━━━━━━━━━━━\u001b[0m \u001b[32m55.4/55.4 kB\u001b[0m \u001b[31m3.2 MB/s\u001b[0m eta \u001b[36m0:00:00\u001b[0m\n",
            "\u001b[?25hDownloading torchinfo-1.8.0-py3-none-any.whl (23 kB)\n",
            "Downloading wadler_lindig-0.1.7-py3-none-any.whl (20 kB)\n",
            "Installing collected packages: wadler-lindig, torchinfo, jaxtyping\n",
            "Successfully installed jaxtyping-0.3.2 torchinfo-1.8.0 wadler-lindig-0.1.7\n",
            "--2025-07-14 18:25:28--  https://github.com/callummcdougall/ARENA_3.0/archive/refs/heads/main.zip\n",
            "Resolving github.com (github.com)... 140.82.114.3\n",
            "Connecting to github.com (github.com)|140.82.114.3|:443... connected.\n",
            "HTTP request sent, awaiting response... 302 Found\n",
            "Location: https://codeload.github.com/callummcdougall/ARENA_3.0/zip/refs/heads/main [following]\n",
            "--2025-07-14 18:25:28--  https://codeload.github.com/callummcdougall/ARENA_3.0/zip/refs/heads/main\n",
            "Resolving codeload.github.com (codeload.github.com)... 140.82.114.10\n",
            "Connecting to codeload.github.com (codeload.github.com)|140.82.114.10|:443... connected.\n",
            "HTTP request sent, awaiting response... 200 OK\n",
            "Length: unspecified [application/zip]\n",
            "Saving to: ‘/content/main.zip’\n",
            "\n",
            "main.zip                [          <=>       ]  21.13M  8.68MB/s    in 2.4s    \n",
            "\n",
            "2025-07-14 18:25:31 (8.68 MB/s) - ‘/content/main.zip’ saved [22153157]\n",
            "\n",
            "Archive:  /content/main.zip\n",
            "81b8af60e61afe1f804a8323932b89ec2ccfb38c\n",
            "   creating: /content/ARENA_3.0-main/chapter0_fundamentals/exercises/\n",
            "   creating: /content/ARENA_3.0-main/chapter0_fundamentals/exercises/part0_prereqs/\n",
            "  inflating: /content/ARENA_3.0-main/chapter0_fundamentals/exercises/part0_prereqs/0.0_Prerequisites_exercises.ipynb  \n",
            "  inflating: /content/ARENA_3.0-main/chapter0_fundamentals/exercises/part0_prereqs/0.0_Prerequisites_solutions.ipynb  \n",
            "  inflating: /content/ARENA_3.0-main/chapter0_fundamentals/exercises/part0_prereqs/numbers.npy  \n",
            "  inflating: /content/ARENA_3.0-main/chapter0_fundamentals/exercises/part0_prereqs/solutions.py  \n",
            "  inflating: /content/ARENA_3.0-main/chapter0_fundamentals/exercises/part0_prereqs/tests.py  \n",
            "  inflating: /content/ARENA_3.0-main/chapter0_fundamentals/exercises/part0_prereqs/utils.py  \n",
            "   creating: /content/ARENA_3.0-main/chapter0_fundamentals/exercises/part1_ray_tracing/\n",
            "  inflating: /content/ARENA_3.0-main/chapter0_fundamentals/exercises/part1_ray_tracing/0.1_Ray_Tracing_exercises.ipynb  \n",
            "  inflating: /content/ARENA_3.0-main/chapter0_fundamentals/exercises/part1_ray_tracing/0.1_Ray_Tracing_solutions.ipynb  \n",
            "  inflating: /content/ARENA_3.0-main/chapter0_fundamentals/exercises/part1_ray_tracing/pikachu.pt  \n",
            "  inflating: /content/ARENA_3.0-main/chapter0_fundamentals/exercises/part1_ray_tracing/pikachu.stl  \n",
            "  inflating: /content/ARENA_3.0-main/chapter0_fundamentals/exercises/part1_ray_tracing/solutions.py  \n",
            "  inflating: /content/ARENA_3.0-main/chapter0_fundamentals/exercises/part1_ray_tracing/test_with_pytest.py  \n",
            "  inflating: /content/ARENA_3.0-main/chapter0_fundamentals/exercises/part1_ray_tracing/tests.py  \n",
            "  inflating: /content/ARENA_3.0-main/chapter0_fundamentals/exercises/part1_ray_tracing/utils.py  \n",
            "   creating: /content/ARENA_3.0-main/chapter0_fundamentals/exercises/part2_cnns/\n",
            "  inflating: /content/ARENA_3.0-main/chapter0_fundamentals/exercises/part2_cnns/0.2_CNNs_&_ResNets_exercises.ipynb  \n",
            "  inflating: /content/ARENA_3.0-main/chapter0_fundamentals/exercises/part2_cnns/0.2_CNNs_&_ResNets_solutions.ipynb  \n",
            "  inflating: /content/ARENA_3.0-main/chapter0_fundamentals/exercises/part2_cnns/imagenet_labels.json  \n",
            "   creating: /content/ARENA_3.0-main/chapter0_fundamentals/exercises/part2_cnns/resnet_inputs/\n",
            "  inflating: /content/ARENA_3.0-main/chapter0_fundamentals/exercises/part2_cnns/resnet_inputs/astronaut.jpg  \n",
            "  inflating: /content/ARENA_3.0-main/chapter0_fundamentals/exercises/part2_cnns/resnet_inputs/chimpanzee.jpg  \n",
            "  inflating: /content/ARENA_3.0-main/chapter0_fundamentals/exercises/part2_cnns/resnet_inputs/dragonfly.jpg  \n",
            "  inflating: /content/ARENA_3.0-main/chapter0_fundamentals/exercises/part2_cnns/resnet_inputs/fireworks.jpg  \n",
            "  inflating: /content/ARENA_3.0-main/chapter0_fundamentals/exercises/part2_cnns/resnet_inputs/frogs.jpg  \n",
            "  inflating: /content/ARENA_3.0-main/chapter0_fundamentals/exercises/part2_cnns/resnet_inputs/golden_retriever.jpg  \n",
            "  inflating: /content/ARENA_3.0-main/chapter0_fundamentals/exercises/part2_cnns/resnet_inputs/goofy.jpg  \n",
            "  inflating: /content/ARENA_3.0-main/chapter0_fundamentals/exercises/part2_cnns/resnet_inputs/hourglass.jpg  \n",
            "  inflating: /content/ARENA_3.0-main/chapter0_fundamentals/exercises/part2_cnns/resnet_inputs/iguana.jpg  \n",
            "  inflating: /content/ARENA_3.0-main/chapter0_fundamentals/exercises/part2_cnns/resnet_inputs/platypus.jpg  \n",
            "  inflating: /content/ARENA_3.0-main/chapter0_fundamentals/exercises/part2_cnns/resnet_inputs/volcano.jpg  \n",
            "  inflating: /content/ARENA_3.0-main/chapter0_fundamentals/exercises/part2_cnns/solutions.py  \n",
            "  inflating: /content/ARENA_3.0-main/chapter0_fundamentals/exercises/part2_cnns/tests.py  \n",
            "  inflating: /content/ARENA_3.0-main/chapter0_fundamentals/exercises/part2_cnns/utils.py  \n",
            "   creating: /content/ARENA_3.0-main/chapter0_fundamentals/exercises/part3_optimization/\n",
            "  inflating: /content/ARENA_3.0-main/chapter0_fundamentals/exercises/part3_optimization/0.3_Optimization_exercises.ipynb  \n",
            "  inflating: /content/ARENA_3.0-main/chapter0_fundamentals/exercises/part3_optimization/0.3_Optimization_solutions.ipynb  \n",
            "  inflating: /content/ARENA_3.0-main/chapter0_fundamentals/exercises/part3_optimization/solutions.py  \n",
            "  inflating: /content/ARENA_3.0-main/chapter0_fundamentals/exercises/part3_optimization/tests.py  \n",
            "  inflating: /content/ARENA_3.0-main/chapter0_fundamentals/exercises/part3_optimization/utils.py  \n",
            "   creating: /content/ARENA_3.0-main/chapter0_fundamentals/exercises/part4_backprop/\n",
            "  inflating: /content/ARENA_3.0-main/chapter0_fundamentals/exercises/part4_backprop/0.4_Backprop_exercises.ipynb  \n",
            "  inflating: /content/ARENA_3.0-main/chapter0_fundamentals/exercises/part4_backprop/0.4_Backprop_solutions.ipynb  \n",
            "  inflating: /content/ARENA_3.0-main/chapter0_fundamentals/exercises/part4_backprop/solutions.py  \n",
            "  inflating: /content/ARENA_3.0-main/chapter0_fundamentals/exercises/part4_backprop/tests.py  \n",
            "  inflating: /content/ARENA_3.0-main/chapter0_fundamentals/exercises/part4_backprop/utils.py  \n",
            "   creating: /content/ARENA_3.0-main/chapter0_fundamentals/exercises/part5_vaes_and_gans/\n",
            "  inflating: /content/ARENA_3.0-main/chapter0_fundamentals/exercises/part5_vaes_and_gans/0.5_VAEs_&_GANs_exercises.ipynb  \n",
            "  inflating: /content/ARENA_3.0-main/chapter0_fundamentals/exercises/part5_vaes_and_gans/0.5_VAEs_&_GANs_solutions.ipynb  \n",
            "  inflating: /content/ARENA_3.0-main/chapter0_fundamentals/exercises/part5_vaes_and_gans/solutions.py  \n",
            "  inflating: /content/ARENA_3.0-main/chapter0_fundamentals/exercises/part5_vaes_and_gans/tests.py  \n",
            "  inflating: /content/ARENA_3.0-main/chapter0_fundamentals/exercises/part5_vaes_and_gans/utils.py  \n",
            "  inflating: /content/ARENA_3.0-main/chapter0_fundamentals/exercises/plotly_utils.py  \n"
          ]
        }
      ],
      "source": [
        "import os\n",
        "import sys\n",
        "from pathlib import Path\n",
        "\n",
        "IN_COLAB = \"google.colab\" in sys.modules\n",
        "\n",
        "chapter = \"chapter0_fundamentals\"\n",
        "repo = \"ARENA_3.0\"\n",
        "branch = \"main\"\n",
        "\n",
        "# Install dependencies\n",
        "try:\n",
        "    import jaxtyping\n",
        "except:\n",
        "    %pip install einops jaxtyping torchinfo wandb\n",
        "\n",
        "# Get root directory, handling 3 different cases: (1) Colab, (2) notebook not in ARENA repo, (3) notebook in ARENA repo\n",
        "root = (\n",
        "    \"/content\"\n",
        "    if IN_COLAB\n",
        "    else \"/root\"\n",
        "    if repo not in os.getcwd()\n",
        "    else str(next(p for p in Path.cwd().parents if p.name == repo))\n",
        ")\n",
        "\n",
        "if Path(root).exists() and not Path(f\"{root}/{chapter}\").exists():\n",
        "    if not IN_COLAB:\n",
        "        !sudo apt-get install unzip\n",
        "        %pip install jupyter ipython --upgrade\n",
        "\n",
        "    if not os.path.exists(f\"{root}/{chapter}\"):\n",
        "        !wget -P {root} https://github.com/callummcdougall/ARENA_3.0/archive/refs/heads/{branch}.zip\n",
        "        !unzip {root}/{branch}.zip '{repo}-{branch}/{chapter}/exercises/*' -d {root}\n",
        "        !mv {root}/{repo}-{branch}/{chapter} {root}/{chapter}\n",
        "        !rm {root}/{branch}.zip\n",
        "        !rmdir {root}/{repo}-{branch}\n",
        "\n",
        "\n",
        "assert Path(f\"{root}/{chapter}/exercises\").exists(), \"Unexpected error: please manually clone ARENA repo into `root`\"\n",
        "\n",
        "if f\"{root}/{chapter}/exercises\" not in sys.path:\n",
        "    sys.path.append(f\"{root}/{chapter}/exercises\")\n",
        "\n",
        "os.chdir(f\"{root}/{chapter}/exercises\")"
      ]
    },
    {
      "cell_type": "code",
      "execution_count": 4,
      "metadata": {
        "id": "SkxU9bskAEao"
      },
      "outputs": [],
      "source": [
        "import importlib\n",
        "import os\n",
        "import sys\n",
        "import time\n",
        "from dataclasses import dataclass, replace\n",
        "from pathlib import Path\n",
        "from typing import Callable, Iterable, Literal\n",
        "\n",
        "import numpy as np\n",
        "import torch as t\n",
        "import torch.distributed as dist\n",
        "import torch.multiprocessing as mp\n",
        "import torch.nn.functional as F\n",
        "import wandb\n",
        "from IPython.core.display import HTML\n",
        "from IPython.display import display\n",
        "from jaxtyping import Float, Int\n",
        "from torch import Tensor, optim\n",
        "from torch.utils.data import DataLoader, DistributedSampler\n",
        "from torchvision import datasets, transforms\n",
        "from tqdm import tqdm\n",
        "\n",
        "# Make sure exercises are in the path\n",
        "chapter = \"chapter0_fundamentals\"\n",
        "section = \"part3_optimization\"\n",
        "root_dir = next(p for p in Path.cwd().parents if (p / chapter).exists())\n",
        "exercises_dir = root_dir / chapter / \"exercises\"\n",
        "section_dir = exercises_dir / section\n",
        "if str(exercises_dir) not in sys.path:\n",
        "    sys.path.append(str(exercises_dir))\n",
        "\n",
        "from torch.optim import Adam, AdamW, SGD, RMSprop\n",
        "\n",
        "import part3_optimization.tests as tests\n",
        "from part2_cnns.solutions import Linear, ResNet34, get_resnet_for_feature_extraction\n",
        "from part3_optimization.utils import plot_fn, plot_fn_with_points\n",
        "from plotly_utils import bar, imshow, line\n",
        "\n",
        "device = t.device(\"mps\" if t.backends.mps.is_available() else \"cuda\" if t.cuda.is_available() else \"cpu\")"
      ]
    },
    {
      "cell_type": "markdown",
      "metadata": {
        "id": "_LhsLQOAAEao"
      },
      "source": [
        "<details>\n",
        "<summary>Help - I get a NumPy-related error</summary>\n",
        "\n",
        "This is an annoying colab-related issue which I haven't been able to find a satisfying fix for. If you restart runtime (but don't delete runtime), and run just the imports cell above again (but not the `%pip install` cell), the problem should go away.\n",
        "</details>"
      ]
    },
    {
      "cell_type": "markdown",
      "metadata": {
        "id": "fW_L8Be3AEap"
      },
      "source": [
        "# 1️⃣ Optimizers\n",
        "\n",
        "> ##### Learning Objectives\n",
        ">\n",
        "> * Understand how different optimization algorithms work\n",
        "> * Translate pseudocode for these algorithms into code\n",
        "> * Understand the idea of loss landscapes, and how they can visualize specific challenges in the optimization process"
      ]
    },
    {
      "cell_type": "markdown",
      "metadata": {
        "id": "QQIBHcMjAEap"
      },
      "source": [
        "## Reading\n",
        "\n",
        "Some of these are strongly recommended, while others are optional. If you like, you can jump back to some of these videos while you're going through the material, if you feel like you need to.\n",
        "\n",
        "* Andrew Ng's video series on gradient descent variants: [Gradient Descent With Momentum](https://www.youtube.com/watch?v=k8fTYJPd3_I) (9 mins), [RMSProp](https://www.youtube.com/watch?v=_e-LFe_igno) (7 mins), [Adam](https://www.youtube.com/watch?v=JXQT_vxqwIs&list=PLkDaE6sCZn6Hn0vK8co82zjQtt3T2Nkqc&index=23) (7 mins)\n",
        "    * These videos are strongly recommended, especially the RMSProp video\n",
        "* [A Visual Explanation of Gradient Descent Methods](https://medium.com/towards-data-science/a-visual-explanation-of-gradient-descent-methods-momentum-adagrad-rmsprop-adam-f898b102325c)\n",
        "    * This is also strongly recommended; if you only want to read/watch one thing, make it this\n",
        "* [Why Momentum Really Works (distill.pub)](https://distill.pub/2017/momentum/)\n",
        "    * This is optional, but a fascinating read if you have time and are interested in engaging with the mathematical details of optimization"
      ]
    },
    {
      "cell_type": "markdown",
      "metadata": {
        "id": "AXeM6xOZAEap"
      },
      "source": [
        "## Gradient Descent\n",
        "\n",
        "Tomorrow, we'll look in detail about how the backpropagation algorithm works. But for now, let's take it as read that calling `loss.backward()` on a scalar `loss` will result in the computation of the gradients $\\frac{\\partial loss}{\\partial w}$ for every parameter `w` in the model, and store these values in `w.grad`. How do we use these gradients to update our parameters in a way which decreases loss?"
      ]
    },
    {
      "cell_type": "markdown",
      "metadata": {
        "id": "13CHHVY9AEap"
      },
      "source": [
        "A loss function can be any differentiable function such that we prefer a lower value. To apply gradient descent, we start by initializing the parameters to random values (the details of this are subtle), and then repeatedly compute the gradient of the loss with respect to the model parameters. It [can be proven](https://tutorial.math.lamar.edu/Classes/CalcIII/DirectionalDeriv.aspx) that for an infinitesimal step, moving in the direction of the gradient would increase the loss by the largest amount out of all possible directions.\n",
        "\n",
        "We actually want to decrease the loss, so we subtract the gradient to go in the opposite direction. Taking infinitesimal steps is no good, so we pick some learning rate $\\lambda$ (also called the step size) and scale our step by that amount to obtain the update rule for gradient descent:\n",
        "\n",
        "$$\\theta_t \\leftarrow \\theta_{t-1} - \\lambda \\nabla L(\\theta_{t-1})$$\n",
        "\n",
        "We know that an infinitesimal step will decrease the loss, but a finite step will only do so if the loss function is linear enough in the neighbourhood of the current parameters. If the loss function is too curved, we might actually increase our loss.\n",
        "\n",
        "The biggest advantage of this algorithm is that for N bytes of parameters, you only need N additional bytes of memory to store the gradients, which are of the same shape as the parameters. GPU memory is very limited, so this is an extremely relevant consideration. The amount of computation needed is also minimal: one multiply and one add per parameter.\n",
        "\n",
        "The biggest disadvantage is that we're completely ignoring the curvature of the loss function, not captured by the gradient consisting of partial derivatives. Intuitively, we can take a larger step if the loss function is flat in some direction or a smaller step if it is very curved. Generally, you could represent this by some matrix P that pre-multiplies the gradients to rescale them to account for the curvature. $P$ is called a preconditioner, and gradient descent is equivalent to approximating $P$ by an identity matrix, which is a very bad approximation.\n",
        "\n",
        "Most competing optimizers can be interpreted as trying to do something more sensible for $P$, subject to the constraint that GPU memory is at a premium. In particular, constructing $P$ explicitly is infeasible, since it's an $N \\times N$ matrix and N can be hundreds of billions. One idea is to use a diagonal $P$, which only requires N additional memory. An example of a more sophisticated scheme is [Shampoo](https://arxiv.org/pdf/1802.09568.pdf)."
      ]
    },
    {
      "cell_type": "markdown",
      "metadata": {
        "id": "P3be-cY5AEap"
      },
      "source": [
        "> The algorithm is called **Shampoo** because you put shampoo on your hair before using conditioner, and this method is a pre-conditioner.\n",
        ">     \n",
        "> If you take away just one thing from this entire curriculum, please don't let it be this."
      ]
    },
    {
      "cell_type": "markdown",
      "metadata": {
        "id": "ef2DNI93AEap"
      },
      "source": [
        "## Stochastic Gradient Descent\n",
        "\n",
        "The terms gradient descent and SGD are used loosely in deep learning. To be technical, there are three variations:\n",
        "\n",
        "- Batch gradient descent - the loss function is the loss over the entire dataset. This requires too much computation unless the dataset is small, so it is rarely used in deep learning.\n",
        "- Stochastic gradient descent - the loss function is the loss on a randomly selected example. Any particular loss may be completely in the wrong direction of the loss on the entire dataset, but in expectation it's in the right direction. This has some nice properties but doesn't parallelize well, so it is rarely used in deep learning.\n",
        "- Mini-batch gradient descent - the loss function is the loss on a batch of examples of size `batch_size`. This is the standard in deep learning.\n",
        "\n",
        "The class `torch.optim.SGD` can be used for any of these by varying the number of examples passed in. We will be using only mini-batch gradient descent in this course."
      ]
    },
    {
      "cell_type": "markdown",
      "metadata": {
        "id": "UdnYe1KQAEaq"
      },
      "source": [
        "## Batch Size\n",
        "\n",
        "In addition to choosing a learning rate or learning rate schedule, we need to choose the batch size or batch size schedule as well. Intuitively, using a larger batch means that the estimate of the gradient is closer to that of the true gradient over the entire dataset, but this requires more compute. Each element of the batch can be computed in parallel so with sufficient compute, one can increase the batch size without increasing wall-clock time. For small-scale experiments, a good heuristic is thus \"fill up all of your GPU memory\".\n",
        "\n",
        "At a larger scale, we would expect diminishing returns of increasing the batch size, but empirically it's worse than that - a batch size that is too large generalizes more poorly in many scenarios. The intuition that a closer approximation to the true gradient is always better is therefore incorrect. See [this paper](https://arxiv.org/pdf/1706.02677.pdf) for one discussion of this.\n",
        "\n",
        "For a batch size schedule, most commonly you'll see batch sizes increase over the course of training. The intuition is that a rough estimate of the proper direction is good enough early in training, but later in training it's important to preserve our progress and not \"bounce around\" too much.\n",
        "\n",
        "You will commonly see batch sizes that are a multiple of 32. One motivation for this is that when using CUDA, threads are grouped into \"warps\" of 32 threads which execute the same instructions in parallel. So a batch size of 64 would allow two warps to be fully utilized, whereas a size of 65 would require waiting for a third warp to finish. As batch sizes become larger, this wastage becomes less important.\n",
        "\n",
        "Powers of two are also common - the idea here is that work can be recursively divided up among different GPUs or within a GPU. For example, a matrix multiplication can be expressed by recursively dividing each matrix into four equal blocks and performing eight smaller matrix multiplications between the blocks.\n",
        "\n",
        "In tomorrow's exercises, you'll have the option to expore batch sizes in more detail."
      ]
    },
    {
      "cell_type": "markdown",
      "metadata": {
        "id": "2VOpW5G7AEaq"
      },
      "source": [
        "## Common Themes in Gradient-Based Optimizers"
      ]
    },
    {
      "cell_type": "markdown",
      "metadata": {
        "id": "tUP5yfiuAEaq"
      },
      "source": [
        "### Weight Decay\n",
        "\n",
        "Weight decay means that on each iteration, in addition to a regular step, we also shrink each parameter very slightly towards 0 by multiplying a scaling factor close to 1, e.g. 0.9999. Empirically, this seems to help but there are no proofs that apply to deep neural networks.\n",
        "\n",
        "In the case of linear regression, weight decay is mathematically equivalent to having a prior that each parameter is Gaussian distributed - in other words it's very unlikely that the true parameter values are very positive or very negative. This is an example of \"**inductive bias**\" - we make an assumption that helps us in the case where it's justified, and hurts us in the case where it's not justified.\n",
        "\n",
        "For a `Linear` layer, it's common practice to apply weight decay only to the weight and not the bias. It's also common to not apply weight decay to the parameters of a batch normalization layer. Again, there is empirical evidence (such as [Jai et al 2018](https://arxiv.org/pdf/1807.11205.pdf)) and there are heuristic arguments to justify these choices, but no rigorous proofs. Note that PyTorch will implement weight decay on the weights *and* biases of linear layers by default - see the bonus exercises tomorrow for more on this."
      ]
    },
    {
      "cell_type": "markdown",
      "metadata": {
        "id": "-9UXyGiCAEaq"
      },
      "source": [
        "### Momentum\n",
        "\n",
        "Momentum means that the step includes a term proportional to a moving average of past gradients. [Distill.pub](https://distill.pub/2017/momentum/) has a great article on momentum, which you should definitely read if you have time. Don't worry if you don't understand all of it; skimming parts of it can be very informative. For instance, the first half discusses the **conditioning number** (a very important concept to understand in optimisation), and concludes by giving an intuitive argument for why we generally set the momentum parameter close to 1 for ill-conditioned problems (those with a very large conditioning number)."
      ]
    },
    {
      "cell_type": "markdown",
      "metadata": {
        "id": "AbNk7C3cAEaq"
      },
      "source": [
        "## Visualising optimization with pathological curvatures\n",
        "\n",
        "A pathological curvature is a type of surface that is similar to ravines and is particularly tricky for plain SGD optimization. In words, pathological curvatures typically have a steep gradient in one direction with an optimum at the center, while in a second direction we have a slower gradient towards a (global) optimum. Let’s first create an example surface of this and visualize it. The code below creates 2 visualizations (3D and 2D) and also adds the minimum point to the plot (note this is the min in the visible region, not the global minimum)."
      ]
    },
    {
      "cell_type": "code",
      "execution_count": null,
      "metadata": {
        "id": "0JuAQhckAEaq"
      },
      "outputs": [],
      "source": [
        "def pathological_curve_loss(x: Tensor, y: Tensor):\n",
        "    # Example of a pathological curvature. There are many more possible, feel free to experiment here!\n",
        "    x_loss = t.tanh(x) ** 2 + 0.01 * t.abs(x)\n",
        "    y_loss = t.sigmoid(y)\n",
        "    return x_loss + y_loss\n",
        "\n",
        "\n",
        "plot_fn(pathological_curve_loss, min_points=[(0, \"y_min\")])"
      ]
    },
    {
      "cell_type": "markdown",
      "metadata": {
        "id": "pOMveYEhAEar"
      },
      "source": [
        "In terms of optimization, you can image that `x` and `y` are weight parameters, and the curvature represents the loss surface over the space of `x` and `y`. Note that in typical networks, we have many, many more parameters than two, and such curvatures can occur in multi-dimensional spaces as well.\n",
        "\n",
        "Ideally, our optimization algorithm would find the center of the ravine and focuses on optimizing the parameters towards the direction of `y`. However, if we encounter a point along the ridges, the gradient is much greater in `x` than `y`, and we might end up jumping from one side to the other. Due to the large gradients, we would have to reduce our learning rate slowing down learning significantly.\n",
        "\n",
        "To test our algorithms, we can implement a simple function to train two parameters on such a surface."
      ]
    },
    {
      "cell_type": "markdown",
      "metadata": {
        "id": "N3vUVoWZAEar"
      },
      "source": [
        "### Exercise - implement `opt_fn_with_sgd`\n",
        "\n",
        "> ```yaml\n",
        "> Difficulty: 🔴🔴🔴⚪⚪\n",
        "> Importance: 🔵🔵🔵🔵⚪\n",
        ">\n",
        "> You should spend up to 15-20 minutes on this exercise.\n",
        "> ```\n",
        "\n",
        "Implement the `opt_fn_with_sgd` function using `torch.optim.SGD`. This function optimizes parameters `(x, y)` (which represent coordinates at which we evaluate a function) using gradient descent on that function value. In other words, this should look just like your optimization loops in previous days' material, except rather than passing in `model.parameters()` to your optimizer, you pass in `(xy,)` (because it needs to be an iterable of parameters, not just a single parameter).\n",
        "\n",
        "Remember, your update steps `optimizer.step()` will automatically change the values of `xy` inplace - this means that you shouldn't store past values like `xy_list.append(xy)` because then past elements of that list will be modified when `xy` is updated. Instead, you should use something like `xy_list.append(xy.detach().clone())` to make sure you're returning a copy of the tensor, which won't continue to be modified.\n",
        "\n",
        "We've also provided you with a function `plot_fn_with_points`, which plots a function as well as a list of points produced by functions like the one above. The code below starts from `(2.5, 2.5)` and adds the resulting trajectory of `(x, y)` coordinates to the contour plot. Does it find the minimum? Play with the learning rate and momentum a bit and see how close you can get within 100 iterations."
      ]
    },
    {
      "cell_type": "code",
      "execution_count": null,
      "metadata": {
        "id": "VOKdsFCCAEar"
      },
      "outputs": [],
      "source": [
        "def opt_fn_with_sgd(\n",
        "    fn: Callable, xy: Float[Tensor, \"2\"], lr=0.001, momentum=0.98, n_iters: int = 100\n",
        ") -> Float[Tensor, \"n_iters 2\"]:\n",
        "    \"\"\"\n",
        "    Optimize the a given function starting from the specified point.\n",
        "\n",
        "    xy: shape (2,). The (x, y) starting point.\n",
        "    n_iters: number of steps.\n",
        "    lr, momentum: parameters passed to the torch.optim.SGD optimizer.\n",
        "\n",
        "    Return: (n_iters+1, 2). The (x, y) values, from initial values pre-optimization to values after step `n_iters`.\n",
        "    \"\"\"\n",
        "    # Make sure tensor has requires_grad=True, otherwise it can't be optimized (more on this tomorrow!)\n",
        "    assert xy.requires_grad\n",
        "\n",
        "    raise NotImplementedError()\n",
        "\n",
        "\n",
        "points = []\n",
        "\n",
        "optimizer_list = [\n",
        "    (optim.SGD, {\"lr\": 0.1, \"momentum\": 0.0}),\n",
        "    (optim.SGD, {\"lr\": 0.02, \"momentum\": 0.99}),\n",
        "]\n",
        "\n",
        "for optimizer_class, params in optimizer_list:\n",
        "    xy = t.tensor([2.5, 2.5], requires_grad=True)\n",
        "    xys = opt_fn_with_sgd(pathological_curve_loss, xy=xy, lr=params[\"lr\"], momentum=params[\"momentum\"])\n",
        "    points.append((xys, optimizer_class, params))\n",
        "    print(f\"{params=}, last point={xys[-1]}\")\n",
        "\n",
        "plot_fn_with_points(pathological_curve_loss, points=points, min_points=[(0, \"y_min\")])"
      ]
    },
    {
      "cell_type": "markdown",
      "metadata": {
        "id": "RYDcAvPqAEar"
      },
      "source": [
        "<details>\n",
        "<summary>Help - I'm not sure if my <code>opt_fn_with_sgd</code> is implemented properly.</summary>\n",
        "\n",
        "With a learning rate of `0.02` and momentum of `0.99`, my SGD was able to reach `[ 0.8110, -6.3344]` after 100 iterations.\n",
        "</details>\n",
        "\n",
        "<details>\n",
        "<summary>Help - I'm getting <code>Can't call numpy() on Tensor that requires grad</code>.</summary>\n",
        "\n",
        "This is a protective mechanism built into PyTorch. The idea is that once you convert your Tensor to NumPy, PyTorch can no longer track gradients, but you might not understand this and expect backprop to work on NumPy arrays.\n",
        "\n",
        "All you need to do to convince PyTorch you're a responsible adult is to call `detach()` on the tensor first, which returns a view that does not require grad and isn't part of the computation graph.\n",
        "</details>\n",
        "\n",
        "\n",
        "<details><summary>Solution</summary>\n",
        "\n",
        "```python\n",
        "def opt_fn_with_sgd(\n",
        "    fn: Callable, xy: Float[Tensor, \"2\"], lr=0.001, momentum=0.98, n_iters: int = 100\n",
        ") -> Float[Tensor, \"n_iters 2\"]:\n",
        "    \"\"\"\n",
        "    Optimize the a given function starting from the specified point.\n",
        "\n",
        "    xy: shape (2,). The (x, y) starting point.\n",
        "    n_iters: number of steps.\n",
        "    lr, momentum: parameters passed to the torch.optim.SGD optimizer.\n",
        "\n",
        "    Return: (n_iters+1, 2). The (x, y) values, from initial values pre-optimization to values after step `n_iters`.\n",
        "    \"\"\"\n",
        "    # Make sure tensor has requires_grad=True, otherwise it can't be optimized (more on this tomorrow!)\n",
        "    assert xy.requires_grad\n",
        "\n",
        "    optimizer = optim.SGD((xy,), lr=lr, momentum=momentum)\n",
        "\n",
        "    xy_list = [xy.detach().clone()]  # so that we don't unintentionally modify past values in `xy_list`\n",
        "\n",
        "    for i in range(n_iters):\n",
        "        fn(xy[0], xy[1]).backward()\n",
        "        optimizer.step()\n",
        "        optimizer.zero_grad()\n",
        "        xy_list.append(xy.detach().clone())\n",
        "\n",
        "    return t.stack(xy_list)\n",
        "```\n",
        "</details>"
      ]
    },
    {
      "cell_type": "markdown",
      "metadata": {
        "id": "Zc4pNymvAEar"
      },
      "source": [
        "## Build Your Own Optimizers\n",
        "\n",
        "Now let's build our own drop-in replacement for these three classes from `torch.optim`. For each of the exercises you'll have to translate pseudocode that we give you into actual code. If you want an extra challenge, you can try and work directly from the pseudocode in the PyTorch documentation page rather than what we give you."
      ]
    },
    {
      "cell_type": "markdown",
      "metadata": {
        "id": "mejnNV3GAEar"
      },
      "source": [
        "> **A warning regarding in-place operations**\n",
        ">\n",
        "> Be careful with expressions like `x = x + y` and `x += y`. They are NOT equivalent in Python.\n",
        ">\n",
        "> - The first one allocates a new `Tensor` of the appropriate size and adds `x` and `y` to it, then rebinds `x` to point to the new variable. The original `x` is not modified.\n",
        "> - The second one modifies the storage referred to by `x` to contain the sum of `x` and `y` - it is an \"in-place\" operation. `x.add_(y)` and `torch.add(x, y, out=x)` also work the same way.\n",
        ">\n",
        "> Another example: if `x` and `y` are the same shape, then `x = y` won't change the value of `x` inplace, but `x.copy_(y)` will (i.e. changing its values to the values of `y`).\n",
        ">\n",
        "> When you're updating parameters in your network you _should_ use inplace operations (because your `optimizer` was passed an iterable of parameters, and so defining a new parameter value via `theta = theta - step` will take it out of the optimizer's scope - it will continue to point to the old, unmodified version).\n",
        ">\n",
        "> However, be careful of using inplace operations where you shouldn't be - you don't want to accidentally do something like modify the gradients manually!"
      ]
    },
    {
      "cell_type": "markdown",
      "metadata": {
        "id": "LWkVywsLAEar"
      },
      "source": [
        "### Exercise - implement SGD\n",
        "\n",
        "> ```yaml\n",
        "> Difficulty: 🔴🔴🔴🔴⚪\n",
        "> Importance: 🔵🔵🔵⚪⚪\n",
        ">\n",
        "> You should spend up to 25-35 minutes on this exercise.\n",
        "> This is the first of several exercises like it. The first will probably take the longest.\n",
        "> ```\n",
        "\n",
        "First, you should implement stochastic gradient descent. It should be like the [PyTorch version](https://pytorch.org/docs/stable/generated/torch.optim.SGD.html#torch.optim.SGD), but assume `nesterov=False`, `maximize=False`, and `dampening=0`. The pseudocode simplifies to:\n",
        "\n",
        "$\n",
        "b_0 \\leftarrow 0 \\\\\n",
        "\\text {for } t=1 \\text { to } \\ldots \\text { do } \\\\\n",
        "\\quad\\; g_t \\leftarrow \\nabla_\\theta f_t\\left(\\theta_{t-1}\\right) \\\\\n",
        "\\quad\\; \\text {if } \\lambda \\neq 0 \\\\\n",
        "\\quad\\;\\quad\\; g_t \\leftarrow g_t+\\lambda \\theta_{t-1} \\\\\n",
        "\\quad\\; \\text {if } \\mu \\neq 0 \\\\\n",
        "\\quad\\;\\quad\\; b_t \\leftarrow \\mu b_{t-1} + g_t \\\\\n",
        "\\quad\\;\\quad\\; g_t \\leftarrow b_t \\\\\n",
        "\\quad\\; \\theta_t \\leftarrow \\theta_{t-1} - \\gamma g_t\n",
        "$\n",
        "\n",
        "where $\\theta_t$ are the parameters, $g_t$ are the gradients (after being modified by operations like weight decay & momentum if necessary), and $b_t$ are the values we track to implement momentum.\n",
        "\n",
        "<details>\n",
        "<summary>Derivation of the simplified pseudocode</summary>\n",
        "\n",
        "We start by removing the \"if nesterov\" and \"if maximize\" sections, since we're not using either of those. We also substitute $\\tau=0$ since we're not using dampening. This gives us:\n",
        "\n",
        "$\n",
        "\\text {for } t=1 \\text { to } \\ldots \\text { do } \\\\\n",
        "\\quad\\; g_t \\leftarrow \\nabla_\\theta f_t\\left(\\theta_{t-1}\\right) \\\\\n",
        "\\quad\\; \\text {if } \\lambda \\neq 0 \\\\\n",
        "\\quad\\;\\quad\\; g_t \\leftarrow g_t+\\lambda \\theta_{t-1} \\\\\n",
        "\\quad\\; \\text {if } \\mu \\neq 0 \\\\\n",
        "\\quad\\;\\quad\\; \\text{if } t>1 \\\\\n",
        "\\quad\\;\\quad\\;\\quad\\; b_t \\leftarrow \\mu b_{t-1} + g_t \\\\\n",
        "\\quad\\;\\quad\\; else \\\\\n",
        "\\quad\\;\\quad\\;\\quad\\; b_t \\leftarrow g_t \\\\\n",
        "\\quad\\;\\quad\\; g_t \\leftarrow b_t \\\\\n",
        "\\quad\\; \\theta_t \\leftarrow \\theta_{t-1} - \\gamma g_t\n",
        "$\n",
        "\n",
        "Finally, we observe that we can set $b_0 = 0$ and then remove the special case handling of the $t=1$ case, which gives us the pseudocode above.\n",
        "\n",
        "</details>\n",
        "\n",
        "You should complete the `step` method below, which implements the algorithm described by the pseudocode above. Note that we've added the `torch.inference_mode` decorator to the `step` method, which is equivalent to using the context manager `with torch.inference_mode():`. This is similar to `torch.no_grad`; the difference between them isn't worth getting into here but in general know that `torch.inference_mode` is mostly preferred.\n",
        "\n",
        "The configurations used during `tests.test_sgd` will start simple (e.g. all parameters set to zero except `lr`) and gradually move to more complicated ones. This will help you track exactly where in your model the error is coming from.\n",
        "\n",
        "\n",
        "You should also read the `__init__` and `zero_grad` methods, making sure you understand how these work and what they are doing. Note that setting `grad=None` like the code below is treated as equivalent to setting `grad` equal to a tensor of zeros, i.e. the first time we're required to do an operation on the gradient it'll be replaced with this. Making it be `None` by default is the standard, so as to not use unnecessary memory."
      ]
    },
    {
      "cell_type": "code",
      "execution_count": null,
      "metadata": {
        "id": "TBAP6t5bAEas"
      },
      "outputs": [],
      "source": [
        "class SGD:\n",
        "    def __init__(\n",
        "        self,\n",
        "        params: Iterable[t.nn.parameter.Parameter],\n",
        "        lr: float,\n",
        "        momentum: float = 0.0,\n",
        "        weight_decay: float = 0.0,\n",
        "    ):\n",
        "        \"\"\"Implements SGD with momentum.\n",
        "\n",
        "        Like the PyTorch version, but assume nesterov=False, maximize=False, and dampening=0\n",
        "            https://pytorch.org/docs/stable/generated/torch.optim.SGD.html#torch.optim.SGD\n",
        "        \"\"\"\n",
        "        self.params = list(params)  # turn params into a list (it might be a generator, so iterating over it empties it)\n",
        "        self.lr = lr\n",
        "        self.mu = momentum\n",
        "        self.lmda = weight_decay\n",
        "\n",
        "        self.b = [t.zeros_like(p) for p in self.params]\n",
        "\n",
        "    def zero_grad(self) -> None:\n",
        "        \"\"\"Zeros all gradients of the parameters in `self.params`.\"\"\"\n",
        "        for param in self.params:\n",
        "            param.grad = None\n",
        "\n",
        "    @t.inference_mode()\n",
        "    def step(self) -> None:\n",
        "        \"\"\"Performs a single optimization step of the SGD algorithm.\"\"\"\n",
        "        raise NotImplementedError()\n",
        "\n",
        "    def __repr__(self) -> str:\n",
        "        return f\"SGD(lr={self.lr}, momentum={self.mu}, weight_decay={self.lmda})\"\n",
        "\n",
        "\n",
        "tests.test_sgd(SGD)"
      ]
    },
    {
      "cell_type": "markdown",
      "metadata": {
        "id": "JAilQPcdAEas"
      },
      "source": [
        "<details><summary>Solution</summary>\n",
        "\n",
        "```python\n",
        "class SGD:\n",
        "    def __init__(\n",
        "        self,\n",
        "        params: Iterable[t.nn.parameter.Parameter],\n",
        "        lr: float,\n",
        "        momentum: float = 0.0,\n",
        "        weight_decay: float = 0.0,\n",
        "    ):\n",
        "        \"\"\"Implements SGD with momentum.\n",
        "\n",
        "        Like the PyTorch version, but assume nesterov=False, maximize=False, and dampening=0\n",
        "            https://pytorch.org/docs/stable/generated/torch.optim.SGD.html#torch.optim.SGD\n",
        "        \"\"\"\n",
        "        self.params = list(params)  # turn params into a list (it might be a generator, so iterating over it empties it)\n",
        "        self.lr = lr\n",
        "        self.mu = momentum\n",
        "        self.lmda = weight_decay\n",
        "\n",
        "        self.b = [t.zeros_like(p) for p in self.params]\n",
        "\n",
        "    def zero_grad(self) -> None:\n",
        "        \"\"\"Zeros all gradients of the parameters in `self.params`.\"\"\"\n",
        "        for param in self.params:\n",
        "            param.grad = None\n",
        "\n",
        "    @t.inference_mode()\n",
        "    def step(self) -> None:\n",
        "        \"\"\"Performs a single optimization step of the SGD algorithm.\"\"\"\n",
        "        for b, theta in zip(self.b, self.params):\n",
        "            g = theta.grad\n",
        "            if self.lmda != 0:\n",
        "                g = g + self.lmda * theta  # this shouldn't be inplace since we don't want to modify theta.grad\n",
        "            if self.mu != 0:\n",
        "                b.copy_(self.mu * b + g)  # this does need to be inplace, since we're modifying the value in `self.b`\n",
        "                g = b\n",
        "            theta -= self.lr * g  # inplace operation, to modify params\n",
        "\n",
        "    def __repr__(self) -> str:\n",
        "        return f\"SGD(lr={self.lr}, momentum={self.mu}, weight_decay={self.lmda})\"\n",
        "\n",
        "\n",
        "tests.test_sgd(SGD)\n",
        "```\n",
        "</details>"
      ]
    },
    {
      "cell_type": "markdown",
      "metadata": {
        "id": "ZP7dnalsAEas"
      },
      "source": [
        "If you feel comfortable with this implementation, you can skim through the remaining ones, since there's diminishing marginal returns to be gained from doing the actual exercises. We still recommend you read the content on the optimizers before the actual exercises, because they contain useful theory to understand. If you want an extra challenge in the actual exercises, you can try and implement the optimization algorithms directly from the PyTorch documentation pseudocode rather than from the simplified pseudocode we give you."
      ]
    },
    {
      "cell_type": "markdown",
      "metadata": {
        "id": "YBwuHjMhAEas"
      },
      "source": [
        "### RMSProp (and adaptive methods)\n",
        "\n",
        "From SGD, we'll move onto discussing **adaptive gradient descent methods**. These are methods which automatically adjust the learning rate of each parameter during training, based on the size of gradients at previous steps. In a sense this is similar to how momentum operates in SGD, but we don't tend to describe SGD plus momentum as an adaptive method. When discussing momentum, we usually think of the analogy of a ball rolling down a hill, and the ball's velocity accelerates until it reaches some terminal velocity. The momentum parameter $\\mu$ controls the terminal velocity: as $\\mu \\to 1$ the terminal velocity gets very high, which also means it can take a long time to adjust its speed when it enters new territory. In contrast, adaptive methods are better thought of as deliberate, conscious updates to the learning rate of parameters based on past values. They allow us to speed up when we need to, but without sacrificing our ability to adapt quickly when we enter new regimes.\n",
        "\n",
        "The first adaptive method we'll look at is **RMSprop**. This is actually the second main adaptive method that was proposed in the optimization literature, after AdaGrad (however the problem with AdaGrad is that it decays the learning rates too quickly - this is the problem that RMSprop solves). RMSprop is similar to SGD, with an added dynamic: **the size of parameter steps are scaled according to the variance of past gradients**, with higher variance leading to smaller steps. Intuitively, if you're in a very monotonic region of the loss landscape then you want to take larger steps (since you know where you're going and you just want to get there quickly), whereas if you're in a very noisy region and possibly oscillating around minima then you want to take smaller steps.\n",
        "\n",
        "One final note - when we're using non-adaptive methods like SGD we tend to have an inverse relationship between the learning rate and the batch size. Broadly speaking, this is because a larger batch size means our gradients will have smaller variance, and so we can safely use a larger learning rate. This generally isn't necessary for adaptive methods since the learning rates will be adjusted automatically during training based on the variance of our gradients - we don't need to manually scale them ourselves. Most commonly during optimization, we'll start with the default hyperparameters for whatever adaptive optimizer we're using, and then adjust from there."
      ]
    },
    {
      "cell_type": "markdown",
      "metadata": {
        "id": "RnRCZcQRAEas"
      },
      "source": [
        "### Exercise - implement RMSprop\n",
        "\n",
        "> ```yaml\n",
        "> Difficulty: 🔴🔴🔴⚪⚪\n",
        "> Importance: 🔵🔵⚪⚪⚪\n",
        ">\n",
        "> You should spend up to 15-25 minutes on this exercise.\n",
        "> ```\n",
        "\n",
        "Below, you should implement RMSprop in the same way as you implemented SGD. The pseudocode is slightly more complicated, since we now have to track 2 variables: $b_t$ for applying the momentum effect, and $v_t$ for tracking the variance of past gradients (we've called these `b` and `v` below).\n",
        "\n",
        "[Here](https://pytorch.org/docs/stable/generated/torch.optim.RMSprop.html) is a link to the PyTorch version, alternatively you can use our simplified pseudocode again:\n",
        "\n",
        "<details>\n",
        "<summary>Click here for the simplified pseudocode</summary>\n",
        "\n",
        "$\n",
        "b_0 \\leftarrow 0 \\\\\n",
        "\\text {for } t=1 \\text { to } \\ldots \\text { do } \\\\\n",
        "\\quad\\; g_t \\leftarrow \\nabla_\\theta f_t\\left(\\theta_{t-1}\\right) \\\\\n",
        "\\quad\\; \\text {if } \\lambda \\neq 0 \\\\\n",
        "\\quad\\;\\quad\\; g_t \\leftarrow g_t+\\lambda \\theta_{t-1} \\\\\n",
        "\\quad\\; v_t \\leftarrow \\alpha v_{t-1} + (1-\\alpha) g_t^2 \\\\\n",
        "\\quad\\; g_t \\leftarrow g_t / (\\sqrt{v_t} + \\epsilon) \\\\\n",
        "\\quad\\; \\text {if } \\mu \\neq 0 \\\\\n",
        "\\quad\\;\\quad\\; b_t \\leftarrow \\mu b_{t-1} + g_t \\\\\n",
        "\\quad\\;\\quad\\; g_t \\leftarrow b_t \\\\\n",
        "\\quad\\; \\theta_t \\leftarrow \\theta_{t-1} - \\gamma g_t\n",
        "$\n",
        "\n",
        "Note that we've reordered the pseudocode slightly differently to the PyTorch docs, so that we divide $g_t$ by $\\sqrt{v_t + \\epsilon}$ before applying momentum. Both ways are equivalent though.\n",
        "\n",
        "</details>"
      ]
    },
    {
      "cell_type": "code",
      "execution_count": null,
      "metadata": {
        "id": "7rcjDTLkAEat"
      },
      "outputs": [],
      "source": [
        "class RMSprop:\n",
        "    def __init__(\n",
        "        self,\n",
        "        params: Iterable[t.nn.parameter.Parameter],\n",
        "        lr: float = 0.01,\n",
        "        alpha: float = 0.99,\n",
        "        eps: float = 1e-08,\n",
        "        weight_decay: float = 0.0,\n",
        "        momentum: float = 0.0,\n",
        "    ):\n",
        "        \"\"\"Implements RMSprop.\n",
        "\n",
        "        Like the PyTorch version, but assumes centered=False\n",
        "            https://pytorch.org/docs/stable/generated/torch.optim.RMSprop.html\n",
        "        \"\"\"\n",
        "        self.params = list(params)  # turn params into a list (because it might be a generator)\n",
        "        self.lr = lr\n",
        "        self.eps = eps\n",
        "        self.mu = momentum\n",
        "        self.lmda = weight_decay\n",
        "        self.alpha = alpha\n",
        "\n",
        "        self.b = [t.zeros_like(p) for p in self.params]\n",
        "        self.v = [t.zeros_like(p) for p in self.params]\n",
        "\n",
        "    def zero_grad(self) -> None:\n",
        "        for p in self.params:\n",
        "            p.grad = None\n",
        "\n",
        "    @t.inference_mode()\n",
        "    def step(self) -> None:\n",
        "        raise NotImplementedError()\n",
        "\n",
        "    def __repr__(self) -> str:\n",
        "        return (\n",
        "            f\"RMSprop(lr={self.lr}, eps={self.eps}, momentum={self.mu}, weight_decay={self.lmda}, alpha={self.alpha})\"\n",
        "        )\n",
        "\n",
        "\n",
        "tests.test_rmsprop(RMSprop)"
      ]
    },
    {
      "cell_type": "markdown",
      "metadata": {
        "id": "1C0oXMxPAEat"
      },
      "source": [
        "<details><summary>Solution</summary>\n",
        "\n",
        "```python\n",
        "class RMSprop:\n",
        "    def __init__(\n",
        "        self,\n",
        "        params: Iterable[t.nn.parameter.Parameter],\n",
        "        lr: float = 0.01,\n",
        "        alpha: float = 0.99,\n",
        "        eps: float = 1e-08,\n",
        "        weight_decay: float = 0.0,\n",
        "        momentum: float = 0.0,\n",
        "    ):\n",
        "        \"\"\"Implements RMSprop.\n",
        "\n",
        "        Like the PyTorch version, but assumes centered=False\n",
        "            https://pytorch.org/docs/stable/generated/torch.optim.RMSprop.html\n",
        "        \"\"\"\n",
        "        self.params = list(params)  # turn params into a list (because it might be a generator)\n",
        "        self.lr = lr\n",
        "        self.eps = eps\n",
        "        self.mu = momentum\n",
        "        self.lmda = weight_decay\n",
        "        self.alpha = alpha\n",
        "\n",
        "        self.b = [t.zeros_like(p) for p in self.params]\n",
        "        self.v = [t.zeros_like(p) for p in self.params]\n",
        "\n",
        "    def zero_grad(self) -> None:\n",
        "        for p in self.params:\n",
        "            p.grad = None\n",
        "\n",
        "    @t.inference_mode()\n",
        "    def step(self) -> None:\n",
        "        for theta, b, v in zip(self.params, self.b, self.v):\n",
        "            g = theta.grad\n",
        "            if self.lmda != 0:\n",
        "                g = g + self.lmda * theta\n",
        "            v.copy_(self.alpha * v + (1 - self.alpha) * g.pow(2))  # inplace operation, to modify value in self.v\n",
        "            g = g / (v.sqrt() + self.eps)  # not inplace operation\n",
        "            if self.mu > 0:\n",
        "                b.copy_(self.mu * b + g)  # inplace operation, to modify value in self.b\n",
        "                g = b\n",
        "            theta -= self.lr * g  # inplace operation, to modify params\n",
        "\n",
        "    def __repr__(self) -> str:\n",
        "        return (\n",
        "            f\"RMSprop(lr={self.lr}, eps={self.eps}, momentum={self.mu}, weight_decay={self.lmda}, alpha={self.alpha})\"\n",
        "        )\n",
        "\n",
        "\n",
        "tests.test_rmsprop(RMSprop)\n",
        "```\n",
        "</details>"
      ]
    },
    {
      "cell_type": "markdown",
      "metadata": {
        "id": "btuiAgJjAEat"
      },
      "source": [
        "### Adam, and \"momentum\"\n",
        "\n",
        "We'll end by implementing Adam and AdamW, two of the most popular optimizers in deep learning. These combine the benefits of RMSprop and SGD with momentum: they have the same variance-based scaling as RMSprop, but they also have an update rule based on the first moment of gradients as well.\n",
        "\n",
        "There's an important clarification to make here - the first order adjustment of Adam is sometimes called momentum as a shorthand, but there's an important sense in which it isn't. The key difference is that SGD's momentum causes acceleration until we hit terminal velocity, which could be very large for $\\mu \\approx 1$. In contrast, Adam's momentum is an exponentially weighted moving average - the parameter $\\beta_1$ controls how quickly it adjusts (with a value closer to 1 meaning it adjust to newer values more slowly), but it doesn't change the terminal velocity in any sense. Mathematically, the difference between these two is minimal (all you'd need to do is take Adam's update rule $m_t \\leftarrow \\beta_1 m_{t-1} + (1-\\beta_1) g_t$ and change it to $m_t \\leftarrow \\beta_1 m_{t-1} + g_t$ for it to have the same qualitative behaviour as SGD), but this extra factor makes a lot of difference!"
      ]
    },
    {
      "cell_type": "markdown",
      "metadata": {
        "id": "swsDwTL8AEau"
      },
      "source": [
        "### Exercise - implement Adam\n",
        "\n",
        "> ```yaml\n",
        "> Difficulty: 🔴🔴🔴🔴⚪\n",
        "> Importance: 🔵🔵🔵⚪⚪\n",
        ">\n",
        "> You should spend up to 15-20 minutes on this exercise.\n",
        "> ```\n",
        "\n",
        "This should just be an extension of your RMSprop implementation. You still have 2 variables to track, but now the variable $b_t$ for applying momentum has been replaced with $m_t$ for tracking the exponentially weighted moving average of first order moments.\n",
        "\n",
        "[Here's](https://pytorch.org/docs/stable/generated/torch.optim.Adam.html) a link to the PyTorch version, alternatively you can use the simplified pseudocode below:\n",
        "\n",
        "<details>\n",
        "<summary>Click here for the simplified pseudocode</summary>\n",
        "\n",
        "$\n",
        "\\text {for } t=1 \\text { to } \\ldots \\text { do } \\\\\n",
        "\\quad\\; g_t \\leftarrow \\nabla_\\theta f_t\\left(\\theta_{t-1}\\right) \\\\\n",
        "\\quad\\; \\text {if } \\lambda \\neq 0 \\\\\n",
        "\\quad\\;\\quad\\; g_t \\leftarrow g_t+\\lambda \\theta_{t-1} \\\\\n",
        "\\quad\\; m_t \\leftarrow \\beta_1 m_{t-1} + (1-\\beta_1) g_t \\\\\n",
        "\\quad\\; v_t \\leftarrow \\beta_2 v_{t-1} + (1-\\beta_2) g_t^2 \\\\\n",
        "\\quad\\; \\widehat{m_t} \\leftarrow m_t / (1 - \\beta_1^t) \\\\\n",
        "\\quad\\; \\widehat{v_t} \\leftarrow v_t / (1 - \\beta_2^t) \\\\\n",
        "\\quad\\; \\theta_t \\leftarrow \\theta_{t-1} - \\gamma \\widehat{m_t} / (\\sqrt{\\widehat{v_t}} + \\epsilon)\n",
        "$\n",
        "\n",
        "</details>\n",
        "\n",
        "Note - we center our first & second moment estimators by dividing by $1 - \\beta^t$, which means for this optimizer we do have to track the variable $t$ (make sure to remember to increment it after each use of the `step` function). We do this because Adam's exponentially weighted moving average would otherwise take a while to converge to the true mean (since its estimates initially behave like the truncated sum of a geometric series). We leave it as an exercise for the reader to derive this (hint - try assuming the expected value $\\mathbb{E}[g_t] = g_0$ is the same for all $t$, what does the expression $\\mathbb{E}[m_t]$ simplify to?)."
      ]
    },
    {
      "cell_type": "code",
      "execution_count": null,
      "metadata": {
        "id": "o307DBZbAEau"
      },
      "outputs": [],
      "source": [
        "class Adam:\n",
        "    def __init__(\n",
        "        self,\n",
        "        params: Iterable[t.nn.parameter.Parameter],\n",
        "        lr: float = 0.001,\n",
        "        betas: tuple[float, float] = (0.9, 0.999),\n",
        "        eps: float = 1e-08,\n",
        "        weight_decay: float = 0.0,\n",
        "    ):\n",
        "        \"\"\"Implements Adam.\n",
        "\n",
        "        Like the PyTorch version, but assumes amsgrad=False and maximize=False\n",
        "            https://pytorch.org/docs/stable/generated/torch.optim.Adam.html\n",
        "        \"\"\"\n",
        "        self.params = list(params)\n",
        "        self.lr = lr\n",
        "        self.beta1, self.beta2 = betas\n",
        "        self.eps = eps\n",
        "        self.lmda = weight_decay\n",
        "        self.t = 1\n",
        "\n",
        "        self.m = [t.zeros_like(p) for p in self.params]\n",
        "        self.v = [t.zeros_like(p) for p in self.params]\n",
        "\n",
        "    def zero_grad(self) -> None:\n",
        "        for p in self.params:\n",
        "            p.grad = None\n",
        "\n",
        "    @t.inference_mode()\n",
        "    def step(self) -> None:\n",
        "        raise NotImplementedError()\n",
        "\n",
        "    def __repr__(self) -> str:\n",
        "        return f\"Adam(lr={self.lr}, beta1={self.beta1}, beta2={self.beta2}, eps={self.eps}, weight_decay={self.lmda})\"\n",
        "\n",
        "\n",
        "tests.test_adam(Adam)"
      ]
    },
    {
      "cell_type": "markdown",
      "metadata": {
        "id": "1AdSMiPCAEau"
      },
      "source": [
        "<details><summary>Solution</summary>\n",
        "\n",
        "```python\n",
        "class Adam:\n",
        "    def __init__(\n",
        "        self,\n",
        "        params: Iterable[t.nn.parameter.Parameter],\n",
        "        lr: float = 0.001,\n",
        "        betas: tuple[float, float] = (0.9, 0.999),\n",
        "        eps: float = 1e-08,\n",
        "        weight_decay: float = 0.0,\n",
        "    ):\n",
        "        \"\"\"Implements Adam.\n",
        "\n",
        "        Like the PyTorch version, but assumes amsgrad=False and maximize=False\n",
        "            https://pytorch.org/docs/stable/generated/torch.optim.Adam.html\n",
        "        \"\"\"\n",
        "        self.params = list(params)\n",
        "        self.lr = lr\n",
        "        self.beta1, self.beta2 = betas\n",
        "        self.eps = eps\n",
        "        self.lmda = weight_decay\n",
        "        self.t = 1\n",
        "\n",
        "        self.m = [t.zeros_like(p) for p in self.params]\n",
        "        self.v = [t.zeros_like(p) for p in self.params]\n",
        "\n",
        "    def zero_grad(self) -> None:\n",
        "        for p in self.params:\n",
        "            p.grad = None\n",
        "\n",
        "    @t.inference_mode()\n",
        "    def step(self) -> None:\n",
        "        for theta, m, v in zip(self.params, self.m, self.v):\n",
        "            g = theta.grad\n",
        "            if self.lmda != 0:\n",
        "                g = g + self.lmda * theta\n",
        "            m.copy_(self.beta1 * m + (1 - self.beta1) * g)\n",
        "            v.copy_(self.beta2 * v + (1 - self.beta2) * g.pow(2))\n",
        "            m_hat = m / (1 - self.beta1**self.t)\n",
        "            v_hat = v / (1 - self.beta2**self.t)\n",
        "            theta -= self.lr * m_hat / (v_hat.sqrt() + self.eps)\n",
        "        self.t += 1\n",
        "\n",
        "    def __repr__(self) -> str:\n",
        "        return f\"Adam(lr={self.lr}, beta1={self.beta1}, beta2={self.beta2}, eps={self.eps}, weight_decay={self.lmda})\"\n",
        "```\n",
        "</details>"
      ]
    },
    {
      "cell_type": "markdown",
      "metadata": {
        "id": "vPpt7VSNAEav"
      },
      "source": [
        "### Exercise - implement AdamW\n",
        "\n",
        "> ```yaml\n",
        "> Difficulty: 🔴🔴⚪⚪⚪\n",
        "> Importance: 🔵🔵⚪⚪⚪\n",
        ">\n",
        "> You should spend up to 10-15 minutes on this exercise.\n",
        "> ```\n",
        "\n",
        "Finally, you'll adapt your Adam implementation to implement AdamW. This is a very small modification of the Adam update rule, where we apply weight decay in a different way (by modifying the weights $theta_t$ themselves, rather than modifying the gradients $g_t$ and then using those modified gradients in the first & second moment calculations). This means that, unlike with Adam, using weight decay is equivalent to having a Gaussian prior on the weights with mean zero (or alternatively, equivalent to L2 regularization). This is seen as the more \"correct\" way to implement weight decay, and so AdamW is now generally preferred over Adam.\n",
        "\n",
        "You can read more about this variant of Adam [here](https://arxiv.org/abs/1711.05101). The PyTorch docs are [here](https://pytorch.org/docs/stable/generated/torch.optim.AdamW.html), and the pseudocode is again provided for you below (but for this exercise we do recommend trying to go without it - having to work with more complex pseudocode and parse out the bits that actually matter is a useful exercise!).\n",
        "\n",
        "<details>\n",
        "<summary>Click here for the simplified pseudocode</summary>\n",
        "\n",
        "$\n",
        "\\text {for } t=1 \\text { to } \\ldots \\text { do } \\\\\n",
        "\\quad\\; g_t \\leftarrow \\nabla_\\theta f_t\\left(\\theta_{t-1}\\right) \\\\\n",
        "\\quad\\; \\theta_t \\leftarrow \\theta_{t-1} - \\gamma \\lambda \\theta_{t-1} \\\\\n",
        "\\quad\\; m_t \\leftarrow \\beta_1 m_{t-1} + (1-\\beta_1) g_t \\\\\n",
        "\\quad\\; v_t \\leftarrow \\beta_2 v_{t-1} + (1-\\beta_2) g_t^2 \\\\\n",
        "\\quad\\; \\widehat{m_t} \\leftarrow m_t / (1 - \\beta_1^t) \\\\\n",
        "\\quad\\; \\widehat{v_t} \\leftarrow v_t / (1 - \\beta_2^t) \\\\\n",
        "\\quad\\; \\theta_t \\leftarrow \\theta_t - \\gamma \\widehat{m_t} / (\\sqrt{\\widehat{v_t}} + \\epsilon)\n",
        "$\n",
        "\n",
        "</details>"
      ]
    },
    {
      "cell_type": "code",
      "execution_count": null,
      "metadata": {
        "id": "eEyBlU1aAEav"
      },
      "outputs": [],
      "source": [
        "class AdamW:\n",
        "    def __init__(\n",
        "        self,\n",
        "        params: Iterable[t.nn.parameter.Parameter],\n",
        "        lr: float = 0.001,\n",
        "        betas: tuple[float, float] = (0.9, 0.999),\n",
        "        eps: float = 1e-08,\n",
        "        weight_decay: float = 0.0,\n",
        "    ):\n",
        "        \"\"\"Implements Adam.\n",
        "\n",
        "        Like the PyTorch version, but assumes amsgrad=False and maximize=False\n",
        "            https://pytorch.org/docs/stable/generated/torch.optim.AdamW.html\n",
        "        \"\"\"\n",
        "        self.params = list(params)\n",
        "        self.lr = lr\n",
        "        self.beta1, self.beta2 = betas\n",
        "        self.eps = eps\n",
        "        self.lmda = weight_decay\n",
        "        self.t = 1\n",
        "\n",
        "        self.m = [t.zeros_like(p) for p in self.params]\n",
        "        self.v = [t.zeros_like(p) for p in self.params]\n",
        "\n",
        "    def zero_grad(self) -> None:\n",
        "        for p in self.params:\n",
        "            p.grad = None\n",
        "\n",
        "    @t.inference_mode()\n",
        "    def step(self) -> None:\n",
        "        raise NotImplementedError()\n",
        "\n",
        "    def __repr__(self) -> str:\n",
        "        return f\"AdamW(lr={self.lr}, beta1={self.beta1}, beta2={self.beta2}, eps={self.eps}, weight_decay={self.lmda})\"\n",
        "\n",
        "\n",
        "tests.test_adamw(AdamW)"
      ]
    },
    {
      "cell_type": "markdown",
      "metadata": {
        "id": "3lBTyj4uAEav"
      },
      "source": [
        "<details><summary>Solution</summary>\n",
        "\n",
        "```python\n",
        "class AdamW:\n",
        "    def __init__(\n",
        "        self,\n",
        "        params: Iterable[t.nn.parameter.Parameter],\n",
        "        lr: float = 0.001,\n",
        "        betas: tuple[float, float] = (0.9, 0.999),\n",
        "        eps: float = 1e-08,\n",
        "        weight_decay: float = 0.0,\n",
        "    ):\n",
        "        \"\"\"Implements Adam.\n",
        "\n",
        "        Like the PyTorch version, but assumes amsgrad=False and maximize=False\n",
        "            https://pytorch.org/docs/stable/generated/torch.optim.AdamW.html\n",
        "        \"\"\"\n",
        "        self.params = list(params)\n",
        "        self.lr = lr\n",
        "        self.beta1, self.beta2 = betas\n",
        "        self.eps = eps\n",
        "        self.lmda = weight_decay\n",
        "        self.t = 1\n",
        "\n",
        "        self.m = [t.zeros_like(p) for p in self.params]\n",
        "        self.v = [t.zeros_like(p) for p in self.params]\n",
        "\n",
        "    def zero_grad(self) -> None:\n",
        "        for p in self.params:\n",
        "            p.grad = None\n",
        "\n",
        "    @t.inference_mode()\n",
        "    def step(self) -> None:\n",
        "        for theta, m, v in zip(self.params, self.m, self.v):\n",
        "            g = theta.grad\n",
        "            theta *= 1 - self.lr * self.lmda\n",
        "            m.copy_(self.beta1 * m + (1 - self.beta1) * g)\n",
        "            v.copy_(self.beta2 * v + (1 - self.beta2) * g.pow(2))\n",
        "            m_hat = m / (1 - self.beta1**self.t)\n",
        "            v_hat = v / (1 - self.beta2**self.t)\n",
        "            theta -= self.lr * m_hat / (v_hat.sqrt() + self.eps)\n",
        "        self.t += 1\n",
        "\n",
        "    def __repr__(self) -> str:\n",
        "        return f\"AdamW(lr={self.lr}, beta1={self.beta1}, beta2={self.beta2}, eps={self.eps}, weight_decay={self.lmda})\"\n",
        "```\n",
        "</details>"
      ]
    },
    {
      "cell_type": "markdown",
      "metadata": {
        "id": "SJ08Za-tAEav"
      },
      "source": [
        "## Plotting multiple optimisers\n",
        "\n",
        "Finally, we've provided some code which should allow you to plot more than one of your optimisers at once."
      ]
    },
    {
      "cell_type": "markdown",
      "metadata": {
        "id": "MehBBxsMAEaw"
      },
      "source": [
        "### Exercise - experiment with different optimizers & params\n",
        "\n",
        "> ```yaml\n",
        "> Difficulty: 🔴🔴⚪⚪⚪\n",
        "> Importance: 🔵🔵🔵⚪⚪\n",
        ">\n",
        "> You should spend up to 20-30 minutes on this exercise.\n",
        "> ```\n",
        "\n",
        "We've given you a function below which works just like `opt_fn_with_sgd` from earlier, but takes in a general optimizer and hyperparameters (as a dictionary of keyword arguments like `lr` and `momentum`).\n",
        "\n",
        "You should use this function to play around with different optimizers and hyperparameters, comparing their performance. The code below gives one example of such a comparison, run it now and see what you get:"
      ]
    },
    {
      "cell_type": "code",
      "execution_count": null,
      "metadata": {
        "id": "Y2PlX8ecAEaw"
      },
      "outputs": [],
      "source": [
        "def opt_fn(\n",
        "    fn: Callable,\n",
        "    xy: Tensor,\n",
        "    optimizer_class,\n",
        "    optimizer_hyperparams: dict,\n",
        "    n_iters: int = 100,\n",
        ") -> Tensor:\n",
        "    \"\"\"Optimize the a given function starting from the specified point.\n",
        "\n",
        "    optimizer_class: one of the optimizers you've defined, either SGD, RMSprop, or Adam\n",
        "    optimzer_kwargs: keyword arguments passed to your optimiser (e.g. lr and weight_decay)\n",
        "    \"\"\"\n",
        "    assert xy.requires_grad\n",
        "\n",
        "    optimizer = optimizer_class([xy], **optimizer_hyperparams)\n",
        "\n",
        "    xy_list = [xy.detach().clone()]  # so that we don't unintentionally modify past values in `xy_list`\n",
        "\n",
        "    for i in range(n_iters):\n",
        "        fn(xy[0], xy[1]).backward()\n",
        "        optimizer.step()\n",
        "        optimizer.zero_grad()\n",
        "        xy_list.append(xy.detach().clone())\n",
        "\n",
        "    return t.stack(xy_list)\n",
        "\n",
        "\n",
        "points = []\n",
        "\n",
        "optimizer_list = [\n",
        "    (SGD, {\"lr\": 0.03, \"momentum\": 0.99}),\n",
        "    (RMSprop, {\"lr\": 0.02, \"alpha\": 0.99, \"momentum\": 0.8}),\n",
        "    (Adam, {\"lr\": 0.2, \"betas\": (0.99, 0.99), \"weight_decay\": 0.005}),\n",
        "    (AdamW, {\"lr\": 0.2, \"betas\": (0.99, 0.99), \"weight_decay\": 0.005}),\n",
        "]\n",
        "\n",
        "for optimizer_class, params in optimizer_list:\n",
        "    xy = t.tensor([2.5, 2.5], requires_grad=True)\n",
        "    xys = opt_fn(\n",
        "        pathological_curve_loss,\n",
        "        xy=xy,\n",
        "        optimizer_class=optimizer_class,\n",
        "        optimizer_hyperparams=params,\n",
        "    )\n",
        "    points.append((xys, optimizer_class, params))\n",
        "\n",
        "plot_fn_with_points(pathological_curve_loss, min_points=[(0, \"y_min\")], points=points)"
      ]
    },
    {
      "cell_type": "markdown",
      "metadata": {
        "id": "NNaIyG5LAEax"
      },
      "source": [
        "Note that the focus shouldn't be on figuring out \"which one is the best optimizer\" - this loss landscape (and other examples we'll give you) were specifically designed to be pathological, and exhibit interesting kinds of behaviours from optimizers. The focus should instead be on understanding how the characteristics of optimizers we discussed in the previous sections are reflected visually in the plots produced on these loss landscapes. Some questions you might want to ask:\n",
        "\n",
        "- We discussed that Adam (and AdamW) center their first and second moments, so that the early values are large - otherwise they start off small and take a long time to grow. Is this reflected in the plots, i.e. with Adam/AdamW taking larger early steps relative to SGD or RMSprop?\n",
        "- The momentum used in SGD and RMSprop causes acceleration until \"terminal velocity\", which is usually a higher cap than Adam and AdamW. Is this reflected in the step size (and the instability) of those optimizers? Do Adam and AdamW seem to adapt slightly faster when they enter new terrain?\n",
        "- Are there any landscapes where weight decay is advantageous, and can you see why it would be?\n",
        "\n",
        "Some more functions you might want to try out (with their minima marked on the plots):"
      ]
    },
    {
      "cell_type": "code",
      "execution_count": null,
      "metadata": {
        "id": "6g0QpO6mAEax"
      },
      "outputs": [],
      "source": [
        "def bivariate_gaussian(x, y, x_mean=0.0, y_mean=0.0, x_sig=1.0, y_sig=1.0):\n",
        "    norm = 1 / (2 * np.pi * x_sig * y_sig)\n",
        "    x_exp = 0.5 * ((x - x_mean) ** 2) / (x_sig**2)\n",
        "    y_exp = 0.5 * ((y - y_mean) ** 2) / (y_sig**2)\n",
        "    return norm * t.exp(-x_exp - y_exp)\n",
        "\n",
        "\n",
        "means = [(1.0, -0.5), (-1.0, 0.5), (-0.5, -0.8)]\n",
        "\n",
        "\n",
        "def neg_trimodal_func(x, y):\n",
        "    \"\"\"\n",
        "    This function has 3 global minima, at `means`. Unstable methods can overshoot these minima, and non-adaptive methods\n",
        "    can fail to converge to them in the first place given how shallow the gradients are everywhere except in the close\n",
        "    vicinity of the minima.\n",
        "    \"\"\"\n",
        "    z = -bivariate_gaussian(x, y, x_mean=means[0][0], y_mean=means[0][1], x_sig=0.2, y_sig=0.2)\n",
        "    z -= bivariate_gaussian(x, y, x_mean=means[1][0], y_mean=means[1][1], x_sig=0.2, y_sig=0.2)\n",
        "    z -= bivariate_gaussian(x, y, x_mean=means[2][0], y_mean=means[2][1], x_sig=0.2, y_sig=0.2)\n",
        "    return z\n",
        "\n",
        "\n",
        "plot_fn(neg_trimodal_func, x_range=(-2, 2), y_range=(-2, 2), min_points=means)"
      ]
    },
    {
      "cell_type": "code",
      "execution_count": null,
      "metadata": {
        "id": "V_OEad_lAEax"
      },
      "outputs": [],
      "source": [
        "def rosenbrocks_banana_func(x: Tensor, y: Tensor, a=1, b=100) -> Tensor:\n",
        "    \"\"\"\n",
        "    This function has a global minimum at `(a, a)` so in this case `(1, 1)`. It's characterized by a long, narrow,\n",
        "    parabolic valley (parameterized by `y = x**2`). Various gradient descent methods have trouble navigating this\n",
        "    valley because they often oscillate unstably (gradients from the `b`-term dwarf the gradients from the `a`-term).\n",
        "\n",
        "    See more on this function: https://en.wikipedia.org/wiki/Rosenbrock_function.\n",
        "    \"\"\"\n",
        "    return (a - x) ** 2 + b * (y - x**2) ** 2 + 1\n",
        "\n",
        "\n",
        "plot_fn(rosenbrocks_banana_func, x_range=(-2.5, 2.5), y_range=(-2, 4), z_range=(0, 100), min_points=[(1, 1)])"
      ]
    },
    {
      "cell_type": "markdown",
      "metadata": {
        "id": "SHpQfCqGAEax"
      },
      "source": [
        "<details>\n",
        "<summary>Some example visualizations & observations</summary>\n",
        "\n",
        "Let's start with the negative trimodal function. You should find that weight decay massively helps performance here, but this is for pretty uninteresting reasons - it essentially adds a slope towards the origin, and when the ball rolls towards the origin it will probably also get caught in one of the three minima. So it doesn't tell us much about the actual optimizers.\n",
        "\n",
        "More interestingly, we can compare the optimizers when they have weight decay switched off. You should find that Adam can outperform SGD and RMSprop here, because the way it uses \"momentum\" is better suited to this task. For one thing, the first and second moment centering means it can take larger early steps relative to SGD and RMSprop (which both take a while to accelerate). For another, momentum causes RMSprop step sizes to increase in an unstable way, which is why it will overshoot the minima and get stuck on the other side without careful hyperparameter tuning. SGD is even worse - because of its lack of variance-based scaling, it'll utterly fail to move anywhere unless it starts out very close to one of the three minima.\n",
        "\n",
        "```python\n",
        "optimizer_list = [\n",
        "    (SGD, {\"lr\": 0.1, \"momentum\": 0.5}),\n",
        "    (RMSprop, {\"lr\": 0.1, \"alpha\": 0.99, \"momentum\": 0.5}),\n",
        "    (Adam, {\"lr\": 0.1, \"betas\": (0.9, 0.999)}),\n",
        "]\n",
        "\n",
        "points = []\n",
        "for optimizer_class, params in optimizer_list:\n",
        "    xy = t.tensor([1.0, 1.0], requires_grad=True)\n",
        "    xys = opt_fn(neg_trimodal_func, xy=xy, optimizer_class=optimizer_class, optimizer_hyperparams=params)\n",
        "    points.append((xys, optimizer_class, params))\n",
        "\n",
        "plot_fn_with_points(neg_trimodal_func, points=points, x_range=(-2, 2), y_range=(-2, 2), min_point=means)\n",
        "```\n",
        "\n",
        "<div style=\"text-align: left\"><embed src=\"https://info-arena.github.io/ARENA_img/misc/media-03/0304-points.html\" width=\"1020\" height=\"470\"></div>\n",
        "\n",
        "Next, Rosenbrock's banana. This function has a global minimum at `(1, 1)` inside a long, narrow, parabolic-shaped valley. Basic gradient descent often zigzags back and forth along the valley, making very slow progress. Momentum is absolutely essential to perform well in this task. This is a rare case where SGD plus momentum does converge faster than Adam because the higher terminal velocity enables larger step sizes plus the extreme slope of the loss landscape prevents the kind of instability that usually hinders SGD. However, some caveats: SGD requires a very small step size to prevent unstable oscillations (given how steep the valley is), whereas Adam is much more stable. Furthermore, if we extend the number of iterations, we see that Adam does also converge, and it does so with fewer oscillations than SGD (it stays within the parabolic valley).\n",
        "\n",
        "```python\n",
        "optimizer_list = [\n",
        "    (SGD, {\"lr\": 0.001, \"momentum\": 0.99}),\n",
        "    (Adam, {\"lr\": 0.1, \"betas\": (0.9, 0.999)}),\n",
        "]\n",
        "\n",
        "points = []\n",
        "for optimizer_class, params in optimizer_list:\n",
        "    xy = t.tensor([-1.5, 2.5], requires_grad=True)\n",
        "    xys = opt_fn(\n",
        "        rosenbrocks_banana_func, xy=xy, optimizer_class=optimizer_class, optimizer_hyperparams=params, n_iters=500\n",
        "    )\n",
        "    points.append((xys, optimizer_class, params))\n",
        "\n",
        "plot_fn_with_points(\n",
        "    rosenbrocks_banana_func, x_range=(-2.5, 2.5), y_range=(-2, 4), z_range=(0, 100), min_points=[(1, 1)], points=points\n",
        ")\n",
        "```\n",
        "\n",
        "<div style=\"text-align: left\"><embed src=\"https://info-arena.github.io/ARENA_img/misc/media-03/0305-points.html\" width=\"1020\" height=\"470\"></div>"
      ]
    },
    {
      "cell_type": "markdown",
      "metadata": {
        "id": "uhTXieJKAEax"
      },
      "source": [
        "## Bonus - parameter groups"
      ]
    },
    {
      "cell_type": "markdown",
      "metadata": {
        "id": "E6mkCukjAEax"
      },
      "source": [
        "> *If you're interested in these exercises then you can go through them, if not then you can move on to the next section (weights and biases).*"
      ]
    },
    {
      "cell_type": "markdown",
      "metadata": {
        "id": "SLF44QtfAEay"
      },
      "source": [
        "Rather than passing a single iterable of parameters into an optimizer, you have the option to pass a list of parameter groups, each one with different hyperparameters. As an example of how this might work:\n",
        "\n",
        "```python\n",
        "optim.SGD([\n",
        "    {'params': model.base.parameters()},\n",
        "    {'params': model.classifier.parameters(), 'lr': 1e-3}\n",
        "], lr=1e-2, momentum=0.9)\n",
        "```\n",
        "\n",
        "The first argument here is a list of dictionaries, with each dictionary defining a separate parameter group. Each should contain a `params` key, which contains an iterable of parameters belonging to this group. The dictionaries may also contain keyword arguments. If a parameter is not specified in a group, PyTorch uses the value passed as a keyword argument. So the example above is equivalent to:\n",
        "\n",
        "```python\n",
        "optim.SGD([\n",
        "    {'params': model.base.parameters(), 'lr': 1e-2, 'momentum': 0.9},\n",
        "    {'params': model.classifier.parameters(), 'lr': 1e-3, 'momentum': 0.9}\n",
        "])\n",
        "```\n",
        "\n",
        "All parameters have default values, with the exception of `lr` which is why you need to specify it either as a keyword arg to the optimizer or separately in each group.\n",
        "\n",
        "PyTorch optimisers will store all their params and hyperparams in the `param_groups` attribute - this is why when we want to modify an optimizer's learning rate (which we'll do later on in the course), even if we didn't specify any parameter groups we'll still need to use `optimizer.param_groups[0].lr = new_lr`."
      ]
    },
    {
      "cell_type": "markdown",
      "metadata": {
        "id": "zMpxSkl6AEay"
      },
      "source": [
        "### When to use parameter groups\n",
        "\n",
        "Parameter groups can be useful in several different circumstances. A few examples:\n",
        "\n",
        "* Finetuning a model by freezing earlier layers and only training later layers is an extreme form of parameter grouping. We can use the parameter group syntax to apply a modified form, where the earlier layers have a smaller learning rate. This allows these earlier layers to adapt to the specifics of the problem, while making sure they don't forget all the useful features they've already learned.\n",
        "* Often it's good to treat weights and biases differently, e.g. effects like weight decay are often applied to weights but not biases. PyTorch doesn't differentiate between these two, so you'll have to do this manually using paramter groups.\n",
        "    * This in particular, you might be doing later in the course, if you choose the \"train BERT from scratch\" exercises during the transformers chapter.\n",
        "* On the subject of transformers, weight decay is often *not* applied to embeddings and layernorms in transformer models.\n",
        "\n",
        "More generally, if you're trying to replicate a paper, it's important to be able to use all the same training details that the original authors did, so you can get the same results."
      ]
    },
    {
      "cell_type": "markdown",
      "metadata": {
        "id": "VnoF0VFZAEay"
      },
      "source": [
        "### Exercise - rewrite SGD to use parameter groups\n",
        "\n",
        "> ```yaml\n",
        "> Difficulty: 🔴🔴🔴🔴⚪\n",
        "> Importance: 🔵⚪⚪⚪⚪\n",
        ">\n",
        "> You should spend up to 30-40 minutes on this exercise.\n",
        "> It's somewhat useful to understand the idea of parameter groups, less so to know how they're actually implemented.\n",
        "> ```\n",
        "\n",
        "You should rewrite the `SGD` optimizer from the earlier exercises, to use `param_groups`. This will involve filling in the 3 methods `__init__`, `zero_grad`, and `step`. Some guidance:\n",
        "\n",
        "- In `__init__` you should create `self.param_groups`, which is a list of dictionaries with each one containing `\"params\"` as well as all the hyperparameters for that group. Remember the hierarchy for hparams: \"specified for group\" > \"specified as a keyword argument\" > \"default value\".\n",
        "- In `zero_grad` and `step` the logic is the same as before, but now you need a double nested for loop: once over the param groups in `self.param_groups`, and once over the params in each group. For the latter, make sure you're using the group-specific hyperparameters (i.e. the ones you hopefully stored in `self.param_groups` in the init method)."
      ]
    },
    {
      "cell_type": "code",
      "execution_count": null,
      "metadata": {
        "id": "ZT6LXmBlAEay"
      },
      "outputs": [],
      "source": [
        "class SGD:\n",
        "    def __init__(self, params, **kwargs):\n",
        "        \"\"\"Implements SGD with momentum.\n",
        "\n",
        "        Accepts parameters in groups, or an iterable.\n",
        "\n",
        "        Like the PyTorch version, but assume nesterov=False, maximize=False, and dampening=0\n",
        "            https://pytorch.org/docs/stable/generated/torch.optim.SGD.html#torch.optim.SGD\n",
        "        \"\"\"\n",
        "        # Deal with case where we didn't supply groups, so we just make it into a single dictionary\n",
        "        if not isinstance(params, (list, tuple)):\n",
        "            params = [{\"params\": params}]\n",
        "\n",
        "        # Make sure each group[\"params\"] is a list of params not a generator (so we don't iterate over & destroy it!)\n",
        "        for p in params:\n",
        "            p[\"params\"] = list(p[\"params\"])\n",
        "\n",
        "        self.param_groups = []\n",
        "\n",
        "        # YOUR CODE HERE - fill in `self.param_groups`\n",
        "        raise NotImplementedError()\n",
        "\n",
        "    def zero_grad(self) -> None:\n",
        "        raise NotImplementedError()\n",
        "\n",
        "    @t.inference_mode()\n",
        "    def step(self) -> None:\n",
        "        raise NotImplementedError()\n",
        "\n",
        "\n",
        "tests.test_sgd_param_groups(SGD)"
      ]
    },
    {
      "cell_type": "markdown",
      "metadata": {
        "id": "_rACre-RAEay"
      },
      "source": [
        "<details><summary>Solution</summary>\n",
        "\n",
        "```python\n",
        "class SGD:\n",
        "    def __init__(self, params, **kwargs):\n",
        "        \"\"\"Implements SGD with momentum.\n",
        "\n",
        "        Accepts parameters in groups, or an iterable.\n",
        "\n",
        "        Like the PyTorch version, but assume nesterov=False, maximize=False, and dampening=0\n",
        "            https://pytorch.org/docs/stable/generated/torch.optim.SGD.html#torch.optim.SGD\n",
        "        \"\"\"\n",
        "        # Deal with case where we didn't supply groups, so we just make it into a single dictionary\n",
        "        if not isinstance(params, (list, tuple)):\n",
        "            params = [{\"params\": params}]\n",
        "\n",
        "        # Make sure each group[\"params\"] is a list of params not a generator (so we don't iterate over & destroy it!)\n",
        "        for p in params:\n",
        "            p[\"params\"] = list(p[\"params\"])\n",
        "\n",
        "        self.param_groups = []\n",
        "\n",
        "        for param_group in params:\n",
        "            # Set hyperparameters hierarchically: specified for group > specified as a keyword argument > default value\n",
        "            # We do this via a dictionary merge (right takes precedence over left)\n",
        "            param_group = {\"momentum\": 0.0, \"weight_decay\": 0.0, **kwargs, **param_group}\n",
        "\n",
        "            # Check that \"lr\" is supplied\n",
        "            assert \"lr\" in param_group, \"Error: one of the param groups didn't specify 'lr'\"\n",
        "\n",
        "            # Set \"params\" and \"b\" in our group\n",
        "            param_group[\"b\"] = [t.zeros_like(p) for p in param_group[\"params\"]]\n",
        "\n",
        "            self.param_groups.append(param_group)\n",
        "\n",
        "    def zero_grad(self) -> None:\n",
        "        for param_group in self.param_groups:\n",
        "            for p in param_group[\"params\"]:\n",
        "                p.grad = None\n",
        "\n",
        "    @t.inference_mode()\n",
        "    def step(self) -> None:\n",
        "        # loop through each param group\n",
        "\n",
        "        for param_group in self.param_groups:\n",
        "            # Get hparams for this group\n",
        "            lmda = param_group[\"weight_decay\"]\n",
        "            mu = param_group[\"momentum\"]\n",
        "            lr = param_group[\"lr\"]\n",
        "\n",
        "            # Same code as for SGD implementation before, but using group-specific hparams\n",
        "            for b, theta in zip(param_group[\"b\"], param_group[\"params\"]):\n",
        "                g = theta.grad\n",
        "                if lmda != 0:\n",
        "                    g = g + lmda * theta  # this shouldn't be inplace since we don't want to modify theta.grad\n",
        "                if mu != 0:\n",
        "                    b.copy_(mu * b + g)  # this does need to be inplace, since we're modifying the value in `self.b`\n",
        "                    g = b\n",
        "                theta -= lr * g  # inplace operation, to modify params\n",
        "\n",
        "\n",
        "tests.test_sgd_param_groups(SGD)\n",
        "```\n",
        "</details>"
      ]
    },
    {
      "cell_type": "markdown",
      "metadata": {
        "id": "ELl8uLxzAEay"
      },
      "source": [
        "## Bonus - Muon Optimizer"
      ]
    },
    {
      "cell_type": "markdown",
      "metadata": {
        "id": "NBJskCS8AEay"
      },
      "source": [
        "Hot off the press is a new optimizer called *Muon*. Muon is an optimizer specialized only for the parameters of a network that are *hidden* and *at least 2-dimensional*.\n",
        " * For image classification, we skip anything that directly interfaces with the input, or the output.\n",
        " * For language models, this means skipping the embedding and unembedding layers.\n",
        "The dimensionality requirement also means skipping biases, $\\gamma$ or $\\beta$ in layernorms, etc.\n",
        "All other parameters are optimized using Adam as per usual.\n",
        "\n",
        "<figure>\n",
        "  <img src=\"https://pbs.twimg.com/media/GZELa2YbUAAqbW6?format=jpg&name=large\" width=\"500\">\n",
        "  <figcaption>Comparison of Muon to AdamW optimizer for NanoGPT training speedrun. Taken from <a href=\"https://x.com/kellerjordan0/status/1842300916864844014\">https://x.com/kellerjordan0/status/1842300916864844014</a></figcaption>\n",
        "</figure>\n",
        "\n",
        "Muon has shown great promise for language models, shaving a massive 40%(!) off the training time for [nanoGPT speedrun](https://www.tylerromero.com/posts/nanogpt-speedrun-worklog/), a collaborative project to train a model as performance as GPT-2 as fast as possible, based on [Andrej Karpathy's nanoGPT implementation](https://github.com/karpathy/llm.c/discussions/481).\n",
        "\n",
        "We might make this into an actual exercise later, but for now, here's a series of resources should you wish to implement it yourself:\n",
        "* [Introduction to Muon](https://kellerjordan.github.io/posts/muon/)\n",
        "* [NanoGPT Speedrun Project](https://github.com/KellerJordan/modded-nanogpt/) Current word record is sub-3 minutes(!!)*\n",
        "  - On a 8xH100 cluster, about 16 PFLOPS of power. On a single consumer GPU (RTX 3090), (assuming no issues with out-of-memory), with ~140TFLOPS of power,  this would take ~5 hours, still incredibly impressive.\n",
        "* [Twitter thread on Muon](https://x.com/kellerjordan0/status/1842300916864844014)\n",
        "* [Derivation of Muon](https://jeremybernste.in/writing/deriving-muon)\n",
        "  * Not required reading, but if you're curious about the math\n",
        "* [Reference Muon implementation in PyTorch](https://github.com/KellerJordan/Muon)"
      ]
    },
    {
      "cell_type": "markdown",
      "metadata": {
        "id": "Vb6sGFZpAEay"
      },
      "source": [
        "# 2️⃣ Weights and Biases\n",
        "\n",
        "> ##### Learning Objectives\n",
        ">\n",
        "> * Write modular, extensible code for training models\n",
        "> * Learn what the most important hyperparameters are, and methods for efficiently searching over hyperparameter space\n",
        "> * Learn how to use Weights & Biases for logging your runs\n",
        "> * Adapt your code from yesterday to log training runs to Weights & Biases, and use this service to run **hyperparameter sweeps**"
      ]
    },
    {
      "cell_type": "markdown",
      "metadata": {
        "id": "ZECcvQ4jAEay"
      },
      "source": [
        "Next, we'll look at methods for choosing hyperparameters effectively. You'll learn how to use **Weights and Biases**, a useful tool for hyperparameter search.\n",
        "\n",
        "The exercises themselves will be based on your ResNet implementations from yesterday, although the principles should carry over to other models you'll build in this course (such as transformers next week).\n",
        "\n",
        "Note, this page only contains a few exercises, and they're relatively short. You're encouraged to spend some time playing around with Weights and Biases, but you should also spend some more time finetuning your ResNet from yesterday (you might want to finetune ResNet during the morning, and look at today's material in the afternoon - you can discuss this with your partner). You should also spend some time reviewing the last three days of material, to make sure there are no large gaps in your understanding."
      ]
    },
    {
      "cell_type": "markdown",
      "metadata": {
        "id": "P3AkxIuEAEay"
      },
      "source": [
        "## Finetuning & feature extraction\n",
        "\n",
        "> We'll start with a brief discussion of the related concepts **finetuning** and **feature extraction**. If you've already gone through yesterday's bonus material on feature extraction then you can skip this section.\n",
        "\n",
        "**Finetuning** can mean slightly different things in different contexts, but broadly speaking it means using the weights of an already trained network as the starting values for training a new network. Because training networks from scratch is very computationally expensive, this is a common practice in ML.\n",
        "\n",
        "The specific type of finetuning we'll be doing here is called **feature extraction**. This is when we freeze most layers of a model except the last few, and perform gradient descent on those. We call this feature extraction because the earlier layers of the model have already learned to identify important features of the data (and these features are also relevant for the new task), so all that we have to do is train a few final layers in the model to extract these features.\n",
        "\n",
        "*Terminology note - sometimes feature extraction and finetuning are defined differently, with finetuning referring to the training of all the weights in a pretrained model (usually with a small or decaying learning rate), and feature extraction referring to the freezing of some layers and training of others. To avoid confusion here, we'll use the term \"feature extraction\" rather than \"finetuning\".*\n",
        "\n",
        "<img src=\"https://raw.githubusercontent.com/info-arena/ARENA_img/main/misc/feature_extraction.png\" width=\"400\">\n",
        "\n",
        "The way we implement feature extraction in PyTorch is by **freezing** all but the last few layers of our model, meaning gradients don't propagate back through them (and we don't perform gradient descent updates on them) - more on gradient freezing tomorrow! We've used the `get_resnet_for_feature_extraction` function to do this (the code for this is given to you below so you won't have to write it yourself). This function creates a version of the `ResNet34` model, loads in weights from the PyTorch ResNet34 implementation, freezes all layers, and replaces the final linear layer with an unfrozen randomly initialized linear layer with a certain number of output features (in our case 10 because we're doing feature extraction on CIFAR10 - see next section)."
      ]
    },
    {
      "cell_type": "markdown",
      "metadata": {
        "id": "zOa9jNZAAEay"
      },
      "source": [
        "## CIFAR10\n",
        "\n",
        "The benchmark we'll be doing feature extraction on is [CIFAR10](https://www.cs.toronto.edu/~kriz/cifar.html), which consists of 60000 32x32 colour images in 10 different classes (as opposed to the 1000 different classes that `ResNet34` was originally trained on). Don't peek at what other people online have done for CIFAR10 (it's a common benchmark), because the point is to develop your own process by which you can figure out how to improve your model. Just reading the results of someone else would prevent you from learning how to get the answers. To get an idea of what's possible: using one V100 and a modified ResNet, one entry in the DAWNBench competition was able to achieve 94% test accuracy in 24 epochs and 76 seconds. 94% is approximately [human level performance](http://karpathy.github.io/2011/04/27/manually-classifying-cifar10/).\n",
        "\n",
        "Below is some boilerplate code for downloading and transforming `CIFAR10` data (this shouldn't take more than a minute to run the first time). Note, even though CIFAR10 data is 32x32, we'll resize it to 224x224 like we did for ImageNet yesterday, because ResNet expects 224x224 images as input."
      ]
    },
    {
      "cell_type": "code",
      "execution_count": 3,
      "metadata": {
        "id": "MFf5TEDYAEay",
        "outputId": "71bda85d-00e5-404c-8590-71d4860f30fc",
        "colab": {
          "base_uri": "https://localhost:8080/",
          "height": 655
        }
      },
      "outputs": [
        {
          "output_type": "stream",
          "name": "stderr",
          "text": [
            "100%|██████████| 170M/170M [00:03<00:00, 44.6MB/s]\n"
          ]
        },
        {
          "output_type": "display_data",
          "data": {
            "text/html": [
              "<html>\n",
              "<head><meta charset=\"utf-8\" /></head>\n",
              "<body>\n",
              "    <div>            <script src=\"https://cdnjs.cloudflare.com/ajax/libs/mathjax/2.7.5/MathJax.js?config=TeX-AMS-MML_SVG\"></script><script type=\"text/javascript\">if (window.MathJax && window.MathJax.Hub && window.MathJax.Hub.Config) {window.MathJax.Hub.Config({SVG: {font: \"STIX-Web\"}});}</script>                <script type=\"text/javascript\">window.PlotlyConfig = {MathJaxConfig: 'local'};</script>\n",
              "        <script charset=\"utf-8\" src=\"https://cdn.plot.ly/plotly-2.35.2.min.js\"></script>                <div id=\"a871ec32-55ec-451b-82c4-695e8808008b\" class=\"plotly-graph-div\" style=\"height:600px; width:1000px;\"></div>            <script type=\"text/javascript\">                                    window.PLOTLYENV=window.PLOTLYENV || {};                                    if (document.getElementById(\"a871ec32-55ec-451b-82c4-695e8808008b\")) {                    Plotly.newPlot(                        \"a871ec32-55ec-451b-82c4-695e8808008b\",                        [{\"name\":\"0\",\"source\":\"data:image\\u002fpng;base64,iVBORw0KGgoAAAANSUhEUgAAACAAAAAgCAIAAAD8GO2jAAAJZElEQVR4XgXB2Y8dWX0A4LP8TtWp9W59l97stt1ux4zGHhiDRiYJGfECLyhv+e\\u002fCPxBFCEWRIuUBIQUemJFRBpuJ8d7r7bvVvVV1Tp0934d\\u002f+o8\\u002fq6p1TPwwCndG6XiY7fXziDKIE0Rhvam0DYN+jzijlOq6jifcISdk0+uXKDitNEWMUlrkeZZljHGpdMAEEdBK24Dh5auX1XI55AiP+J4rcDJp\\u002fbpxIeBIdFpIZZxfUswhWOspgTiORddar3E3IhQZpRLgjdJrZ9M0w4RhyhAhojPWGAoxJIBRjO6O+Mm0NxkPkzTDGEvVdUYFjKMkQTYEr3rD1JoQscQ5RKNY6c5YnEYxZAmPYotbErxFmGKUZ2nTCmMNwajebYFjWxRwdjgYJZT5rllr54kUlkSo7OcQxdW2BkDDIq13re5a2ZmAcJ5lRkvigMWxcwYoVspELCLeqmaDXIgpst5vWwWDGJI47mXJuGTOO4cQBYoIUd4AAATvlAyU3N5WzrhaCOF0npRIOYo8wYHGXLZdykoIoeu0NNajUDVdJUwjbGcIjPu8YJRzSmhIksRY5xEOQWsbnDY+mOB0gKjWrXNUOG+dr1tzuW4Z8WWDzc1SbsWdvdPJ5AgXW7VZNU27rbvlVn443zoKcDDOysjmaYSDQSjg4JUUBOFR0csyvtsue2VZd+bj5bJRNPLoMAVg8sOqUoEyHHpl8fwHz3bXLojQ22NKQNOQmLHjWTGZTOe7DoZFArqKGaRxqqQx3vb7gxCCdsSYLs3zq4V6+3G7qK2w6G5C\\u002f\\u002fkfvjjaz\\u002f\\u002ft23d\\u002ffHNjvQYS6mohGlUUDDnMOYs4TTGzzt45PijWNUyGI7nuCIZGGKktYCqMIwhJo\\u002fuDUrvw7uJqvXMBIkpJyd0Ear5WD8vZ9ZDMq1sl9IvXr4n1JitRb4oI9Hpp4UOnTdC7k3EGg73xIE8IYdVuY9qGOOeRDwzynBvE\\u002f\\u002frudatazmMeQZKlA2q\\u002ffTO3GlRvNh5wjEpjO6FlK4K2FhuNMGIEB0IZgFUquACIMMwYQijmLEUZIEIIMcjHSW95U4vl5v6Qqw7xLH304JCozlK2222AbosoGw0ePHh45\\u002f2nP33\\u002f+jICFUJjLRCIWMS89x5hjAnIzmAjEbJtu9OGWMIbUe9EfXgMwdZ39\\u002fCDAyY6fHj2NArdZmuS\\u002fgit6PFsv2rb+3\\u002f3sByk5eDxZlFvtlsWZSTExjvvkTOWYBRCAIddcDaEkPAkL9KrhXx\\u002fsQAWovlVN188nLCf\\u002f9PDt5fr4nC8N5rdLub9fkY8iwi9XVwCrxbV9eV1w1jaL72UIQDBBHvvCMaYEBcQ9Pu5Bds0XTBuW28\\u002ffpo3TZNwcv1+N+XR4eHd\\u002fsE9VnvE2dHTn\\u002fCby8QuHOratttPx9p5nOVH2UHRn9Wrm9v5ymDWaYVIyGKuZcMiBnW1Al0zTBBFQKlotoMi62dcbnaTg9Hhk5\\u002f95UK\\u002ffqOf7w+rSk8fPCVIaLXoB7+7XSXa7A+HlYvZk4Gsrv\\u002fnP397cb6gEUMIy4AMIsQYoBg52QSECbIO041Bu10ISu\\u002f3sh9\\u002f\\u002ffXRo6\\u002f+\\u002fdf\\u002fOstyquXlu7ez+z\\u002fgo9Ms1GJ9m\\u002fiBlmJZi\\u002f743mh2IpuSlMhFHSbYGI2tw8FZC4ADcsZgQoCgIA32aDhKZ6n90bOzx8+\\u002f2tw2sd3ePzry2M8mY9tZUWltrZHgUP728uK7v3zz\\u002fCs9mo129S1L0d5J5glx2lmlt4tK1Sl466TyUZYDMEr06WzAE3Jy9\\u002fjp33+9\\u002f+jJn\\u002f\\u002f46zvHg9lnn0fjB5D2RNfIXT2\\u002fOt\\u002fML5wRScH39tj51Yvp\\u002fqEVTZAKtxsXZMAhiVk0Y7sYA6OwqYXrcJImlITJKD2\\u002frh786BdHn\\u002f8CoYGp217RG5990cLw5Ys\\u002fKdnudtXy8hN1mnM4vHf45OzU0ozRPosMdJ34eOmtswQ1lKajbHowAiW7NAbMKSM2OJvk9Ff\\u002f8qvnv\\u002fx5uTedv\\u002fsrJbaqt4sP\\u002f3dVu9\\u002f95jd5wjrVzKa9ssjeX5xrYocHJ2eff4lcvK4uRIc30uIAnfRNCKHpHvcR+KCRd9h6GwzGgcflF19+GTP26s8vNldvlerqzfr8zasmJMx1OdCSZ+NB73p+Y40RdXP+\\u002fhNCL5um5hBsPFnZMkl4WiQJxLXYWW8BIe+tBpY66zSy097gv377H8Ppy8n+sRZbxuI8K4HQjLHZZCTrTULj1WJptCt4opvmby++uf7+tbISMeoIzY4ylGkSd9zbAUoef3YPvMcRUA4eERxo5rVZLm+axU1idh7R4WDUPxhbpy6vbgIKhIC2lmKW8dR6RK1HODi9JR7vxEbHsjhQbVLVXnctGZX39yYjQnDM4yQgmyZ8MpoEo0ZF1Iut3s51vRSijsshyUaPnjzzkOhAPIamEd6hiAJnYK19fbH45tXVd2+v13bH+8CiqGlsK0NWjKRwJAKilfIh8jQWRlLqU55kxThKe9PJXr1ZCG3Gx6fCx5\\u002f9+KePv3hGgLeNEkJijDHy15dXn97fNEImeToeTnDH8HU2uN074\\u002feO+kdvXt3AdEzMaiWdb1sUiAOAshxFjMl2lzBAGr75wx\\u002fuP5pfXNwQgtOYURonSdY2Ukpprc6T+PkPz3hRWmqdEfK8IzWfpMUPzz6b9KffXr+HO8dRD\\u002fM352K+CNrFeQ6t2DrfUETWi1Xd2M5sadgW+WB+s75oOx\\u002fwdDzC3myqTZzF\\u002fV4RUaK0Q8BaRXTDMk9Oj2cHs9H5xXy1EFAOmFyIwYSiLF3OVac1RKXWyBtnnNrKTZbEnehkt9TGOeNCoM1OlGVSlj0pxXK1yfMME4JtiCCJOYoienJ6IkX4\\u002fe9f\\u002fe\\u002frWwAOvIyGOQGpWOJ3G0COJHzimHeqilJgEFGaquC10SFgHFDQnesQA4aiuNpspDa9fgmEEIgEsvNlvWls3W7\\u002f+3ffzwWCpmGI5nnWsSRkMe\\u002f1fLOTzW7eCGc6V0QjzphVCoBEBLGYYkzSHAgg62yUQNlP1+u6Dr4cjoTVf\\u002fuw+v678+mwnB6liPi9XgEXH5GqeDG2PDG9HA2H0LSiqsRmFW1WiHrqQ3DOIe8IQphgCiAdCRYxb6xYOykcsKoR2qH1Tn54s6pWrW7drDd7fPdwJxE4tmeiZ8orYpe8h\\u002ftjPiB2KHy1TqollS04G6FAvPWd7KIookDrzsumY0EXpPBkZwzEWeAs7kf6Pup\\u002f\\u002fjR79OTpyenpT74SF1fN\\u002fwMWt9uTwQaBnAAAAABJRU5ErkJggg==\",\"type\":\"image\",\"xaxis\":\"x11\",\"yaxis\":\"y11\",\"hovertemplate\":\"x: %{x}\\u003cbr\\u003ey: %{y}\\u003cbr\\u003ecolor: %{z}\\u003cextra\\u003e\\u003c\\u002fextra\\u003e\"},{\"name\":\"1\",\"source\":\"data:image\\u002fpng;base64,iVBORw0KGgoAAAANSUhEUgAAACAAAAAgCAIAAAD8GO2jAAAKGklEQVR4XgXBWXNcZ0IA0G+7e\\u002fe9va9qqSVZUmTLWxYTJyGhamDMLNRADVDwwh+gigd+Do8UD\\u002fBA1cxUUinGkCGTwfG44nG8yIusfe1Wb7fvfr+Vc+C\\u002f\\u002fPL+6evHo4NXQpDm4juLq5vl1qJpkZ3tB0e7z1gYYUHcskdM+87Hn15ZfyebT7dfPJGSUpa93H4e+OOc5ozi6SSJkoyLvF6vlCsFoULOQJYqEsym1VJF1ZuKuO3FFSEZkolMeDabqDTr1hqLvSu9K0ud7kKj0dQ0g5fs3kKLc5plqT+LxuMp0U0AcblqmE46D2aGSaTiGjGCuU9zRQBjNGdJQvvr3SiOKcsqNY9oaG1t\\u002faMP3+82FzyvzoiwTYMoADlP4yhnzLbscqmxunL11as3ALI8Tzy3rOlgHgwVoFKq2SxOk1wpQHiWQi4M3ZqPx9XWwuK1K41eR9N0wBnj2euLSbI\\u002fYoi+ef70g82rn975QCkVBPPjo3NdM3XdrdW7xydvddOO0jgIxkSDrmunaSI44Fwahk7yJC5Yplupv3vzVm9lLeT8zf5JkCSR70\\u002f8ycVg5np1gPLP\\u002f+M\\u002ftb9Fn939RNNYq9UBauzPwj88eUY0wym6XCga+RiBer0iBJ1MxwjYhJBSySOGoTFcTK3CQZB+\\u002f7tH00l0dj7UMNSQzDnNMtquk8vBkWvooR\\u002fsHBy02zVNI+1eq9NrHQ9O3jw\\u002fabTrh8djwKSkUhBh6oZBtDQTrusSYhDbbl76fPfk5OX2C6QRkbM0jDGSaR74YRDG0eHpK8cqbqxuAE7\\u002f75v\\u002fXVpeXt9Yr1Y9wySeayA+j3OUJnnqh0JkpqVFQegWXcPElLIkSUipUts92bk4PLC1fB7PouASSumHkZ9mxNBqzYZV9Lr9mz0THzz9FkPKhBiNJ9evb15ZW+m164UPbz97fZxnZq5JCVyp+GBwrhuGV24AEKdpSvb2Hr3e2z2\\u002f2BNhXPScjbX+1ubWxSg9GsX1VnNpdblYbQxnsRofHB8dj\\u002fzJ5lXwZ+ubcZRKARSl2w+\\u002fXdu41eyWHj767WAYMMazlM5moVUoSSXjJCYPf3ufNDdWN69bVG5eXdtYXxAZViiNwZhoJsYlxo04nHqUc6GOL2dm4cxzyyurfQVQ6ievf\\u002f+9SuXWvT+\\u002ffmMl\\u002fS7Y2z207YJXqgIggmCW5wm5PBnfvvkTw6hXMGh33KkfnuxOqTQQFJhIoXLAichTJWTBq02iGOmOVAoABSQomG6\\u002f0zOxQiC6vrVcKpV+lf56cDHrNjoCZppGgiAgdqGiKeD7l0allHCZZcAqFw0JQSYUARlLTIsgSCUihWpHV1NslZWOJUygcBAmmqNbBZ3n4eRsWHXqP\\u002fvxve+eHkYpzfJRnqalYgm1F5chQlkWD4NonKMZ11PN9pnIFBLE4NiwXbdRNU2LUMahRJZlIQyk4kIIpGGFURSHUEoDoWA0tLD89O6N1aW64iIK4jTOiYKYMZ6EoWFZYTClWZ4EoQZB0THq5YpbceolSxAvNfh0qZOLC8ASwamUUCAJNVyqlKVIBOOeZ+lQ+aGvWHRrs1UqGp9\\u002f\\u002fuvRcEwAp0RSzwQ9D76zUiqYFoYoDvwsmVsO21ir9JYWkLYU+X6v3d44uHQrZqXsEqJLBRQGpmPzjCMFNIQykFdrhShJYn\\u002fQrdf\\u002f8i9++Isv\\u002fpt8dve9las3z8\\u002fOup3K+tpqq97ACoahn7MEIlhwnELBxLqlSZrGo3e3lvrrfSaZAohLrjDEGmGZkowjgqAJAUE5YwRrgvr1WuGTP\\u002f6AvHfjnWu3b6Zbq47nSgAUhAhrFaelEEAASCk544CxPE9XryxaupPGc4UIgERBJZUSEEqpaJoK6SACEUDhJDk6OPn4k9sJC20TEstxCqbh2AQQLBWAECIIpZKSSakURIgDiSBQEBVKFS6kkBhIqIBACAIBBdEUUIBTKIUhsSaQk2E1TEf7w4WNhTGKSNGrKKwlOVV5nuc0jmLKaJ4zziVjjDGaJEkSh1zKYsUreqVSsWbqupAUQI4ALxbNySXN0kjKMgS6FLlbNJYWm2kSK8m9okN+8asvhfbNbDaM5mOkQJ7T4XAopKrUG+Va1cAknvo7b18FUdRbXsKa5hary8uLC73W8kq3YsCiqUnPBRgzwTFB2IDNfs10DaYE1kGl4pL7v3lQWthQInry4DdLCwu1avXsdMClsCsliuTw9OQHd+7eunEtyTOkkYPjo523e89fPCl5hZ\\u002f\\u002f9V99fG1dV2ih3aMYQwSlUgwIRIRRMi2EJKYaAORv\\u002fv4fjMZaEg7ePn\\u002fabvUQQpbpUpmub62V242kVv7pj\\u002f7ULlpxnkkIuJIZzy4vp0cH57btDk4nh9tvUZbtDy7v\\u002fPD9pX6HCY5MHWgCSg6g0KEkho52Xr8I5gOlFKM0imIIoWloLAnnIzU8Pvnyv76cheE8mhdd1ytXHNc4PT1v1Lqm2\\u002fjmiy+nb58JynYHw9M4XNtc81zbK3uWbXqOppnYtg0STgZf\\u002ffKLk8EpYumzZwGAkHMOoLz\\u002f+Ve6Zty6\\u002fS7Vi0Ge7B9fTiavaCbPB4cHh6\\u002fev\\u002f3eP\\u002f3jPz96+C2fT4I8T4Ha\\u002f+7km8cXDmGajrFhFB1tYan\\u002fs5\\u002f\\u002fHWk322v9ZQUkQRJDiDBSUummAzSz0+n+yb17Rdv2zPLLF093dvda3X6mELbsFzuvX+7s2P3N8\\u002fNyuVRu6LpdsKaDo8nZ7mg8zIRiEl745KMfQDIdTT\\u002f8o48++uwzw8AEI4SQVBIDzKhIaTI5PZhmbDqe7u\\u002funV8OCo0OMEyo25Tn97\\u002f+3dLq9V6layJia0aehfvBdqHoCsUHs6hW6ydMfvX1I+LYxiTInjx73GiUm40aY2w280GWEcm6y51euXi2cxFHeaPZsqslbLpJmrXbi4Pz0\\u002fFk3u7EUKkoZ4AYTArDcgwI6WQEkNbs9mlOlQLE0GSe+Q8e\\u002fI9imWtbjPEsTQlAS\\u002f3e1odXVxc7\\u002fsnpYDbWLWO12hqNousbW9eub\\u002fz7v\\u002f0rATqLM0ozxQUwOTaM\\u002fvLK5ckbgLDlGJub61kS9doNkqQJQOjej34qaYwZl0IqjDHRTcce+Gno70xTDk3zzff7k29HK8sbH1xZo2lm6YZiLEkzhImEIJWSCL60sJJFk6uu8+jxk\\u002fOjN2kcq2RGnILuKVCsr+d5bgKkQ11ZlmHrMovCMMC221gtrdrjtwd7AGLNNs4ujqu1crVWpmmc5\\u002fM4zvIkYnlCTLvZqR9dDIfHe1k039v+vlqtq3KFJOEOkEiDheFw\\u002fvbloUks3SvVGuVOzSMIVb2qkCBLZ42G2+1ULgaDnZ1Xfbqc53kYzpNkGMyDPIkETbHhbL+o0Zw2Gs3uja1GvVmrt0zDIZJmCCDCsKvJxw+\\u002fHgzHUDPu3Hnvk7vvz+fzZ3\\u002f4fZxlO8cn+4eHaZIoBU23HgRhOBvHwQwCQDD0inZneblcbTc6rc7t6xXX0THGGAOIgUL\\u002fD3rJ7tGeNu6YAAAAAElFTkSuQmCC\",\"type\":\"image\",\"xaxis\":\"x12\",\"yaxis\":\"y12\",\"hovertemplate\":\"x: %{x}\\u003cbr\\u003ey: %{y}\\u003cbr\\u003ecolor: %{z}\\u003cextra\\u003e\\u003c\\u002fextra\\u003e\"},{\"name\":\"2\",\"source\":\"data:image\\u002fpng;base64,iVBORw0KGgoAAAANSUhEUgAAACAAAAAgCAIAAAD8GO2jAAAH8klEQVR4Xo1WWY8cVxU+59xbW3dP9\\u002fSMPeNlbA02UYRIQIqEIiWELAgJCUdBIHjigReExH+CF955AUFEECI4ODhxEtszjpdxbM\\u002fmWXqrqu7a7nIOD+0gZGEpn66qdG\\u002fV\\u002fZZzSzqFIsLM8FUggIhVUY7Gw6Wlvjd10mqpMBIkBlRPv\\u002f0EGgCI6OnlZ6Mps\\u002fHeg93bWZYXr771\\u002fW4SAxACPotCA4CIPL38\\u002fyAihHK4+\\u002fDmh\\u002f+0VRl0+lWedZeWGFCQnkVBAIBfDYBim\\u002fLx7na3lZw7vUquGR3sg\\u002fcgIPJMkmclexpz++Px6NGjnf2DweHRaDYe3rnx2fj4GEBA5Fll+KoCACLi9\\u002ff2Hu7sXb1+6\\u002fqtrbKYHexsb1z7uJoViggQn94BAF8KMIAA\\u002fI+FuSf2IvzlE2R21tlpWe8djW\\u002fd39k+GlVFcefjj3bubLJYFhEG8AACAgDC86Gf8D254ZOZzDM7BAJEfGIPz6+vtxa6eVEB0ubucaIjXZtbV95fPrvaX7uATlBQAJnkv4c+T0AACIAogAIgAizM3hgjMg83z6D6\\u002fRPf\\u002fd4bq6fPVpUZj8v7O4dZbbbvbm28\\u002f68mnwqKJxEUBHAgDsQ\\u002fERCcC8zrgiBe3Nb9e7dv326MYeF5aBbFoF959bUfvf12FMa+lp1BunU8mmX13cvXHnx204ObQlVx7bkZF8ODyf7uYFsDAIvgvOjeIQEg7u7v\\u002fPHPf8rz7JXh8ZuvvxVFEYswgPPcWVi49M6l+3fv\\u002fe0v7+XW3dk\\u002f7GMS1\\u002fTvd\\u002f+qlzu0ulikWcD+IN\\u002fLplld1\\u002fMz8IA0mYyyyRgVHg6OP7z20Se3buTjtLHmmy++sHLyhFI6n5Zpmq6vrZ1ZW\\u002fnlr36xu\\u002f\\u002fF1Rs3m0Jt7R22TqnR5mb5B7j46kuT2bQs8wZTYxtm0QANsweELB9evvLB9uO9YZ5Oiim1w7hpH4+Gl69cXl8\\u002fF0XR\\u002ft7AGlOV6WyaBhq+8Z0L1+9vmKnspXkrjNZ68cNrn6qI6MxS5koFABI2TYObn1\\u002fVOrDGTNL00xsbG3fv9FaWncblEycHXxzc3tw4e3a1102UVo0R09Ti64DgzNpK1AuuXb712Qd32auWgm8vtvvdBXWil56Mx8SBiZ11ZVnqKx9dqfKiHbcvXXrHSfTJxp3eQr\\u002fi+szKqj2qsqIst+72I2r32p3+ybjNvUXV63a73U7Sab3x1svZMNvcfOAt7qR1EAT60E0nzi0klJzY3z3I80I\\u002fePQgO54897XnkqT9+PHx9sOdTjtpbIl5VaUOCL9+8cLFk72Ffvf4OOsv0elz7Wlehgwxq+7J3g9++OZ4kh\\u002ftHQ8bbmX5SrerUc4uLLVXT+0\\u002femTKqS6yrKyrqBVn02x799Fir+uLGuvm4PD+weMhUvPzn\\u002f6EZ+O\\u002ff\\u002fCP7Zv7y73wcAvPnjmf2SMIjpeWV198\\u002fgXzY\\u002f273\\u002f6+mtaP0xnosDE8G47O9LphEpxYWcRf\\u002f+Zn42y6dvrc+vkL7773PgoGjgfbuwGDZY+neq+9\\u002fnKTDze37hZ7LiS\\u002fuBy3Wwt5VvQXE+NBonbSXd64vTU8GKnGJYGWCFsnOqfOrXhmpbTuLfUsQT7LP79+\\u002fejhQwLd0kFIoRhDgGunzy4t9CdldWH9+W0\\u002fSccjHy0eFXVZ+nR8hErVOEnLLyhMWIUSqhLYO26HSafXV4pYvO4s9fRC24yK4b3dc50eUjit6pocJnGEanA0\\u002fuTqjdWFhdEkzapqxlANcwDUKkwCqY0ZpKkn1dIJElGsABjEFkWV51V\\u002feREYNYckHkNFgfXnu0uO1LSqVLdDYVwdZU1aTkfTIVPalOsvfetwMEonWafTrsvCBnHduMoyEcZhLGg9sNKanDDz8SB1HnSIlKbTdJIbIydPnTEM9x5sD9KM4oRarYK5sZLPmsFkVlV+cDgsskKstKIWocIodjoI220VhnVjGNg4wyhhHC0sdFutjrXCDjVUATTgMCwUHKA6cDwzDKNMBWXJLIyVcyI+DML9wdB5RsDBZAKI4n2QJN0w9M6LiNKUQECKgiDEMBRmVESotcbAisyqZpznY9O4QItTdVVjY6wwkWr3ukoppbUQiIhSSilFhETARKSU0uzZCyEpRUSICEjM3jlwzunZdJbnRTGriqJGhO5iN0oiAECiRIdBGCmlgkArrT2zyLwZgSICFO+9c05ErHMeRGmltRaROI6jQAv7KIr0cDSyxte1McYEcRDEYVVVpIhIASkRdN6RpqQVIRGIeGaY\\u002f4gAAkBZlt57HWghRCJEFBEABIE4TqIo0tYaENI6iCKIkgQQUINSigW8oPdekVKhooBCHYiI915EAIA9ENHi4qK1tjHGo8zZnXPOWfAWQLz3enl5mSDwXqxjj1LXFSpEJGY2nhUrgLmet47nrhGBWZzz7EVp5Zyzzll2pNRcQylFIN57Ztbdbpc9glBjbF7OdKBUoLz34CEgcszsPYsHJBQEnvdOYc8CxMKmMtZaBgFCAWBmAWnFcagVIWqtNQIhirFN3VTWGlJKE4ln41zjPBIi0fzCbl5dYABB9MyCTBoDFcz7uoh4LywAwoQEws56zcxNY6w1xtSmMcY6FkZApVQcRaSVd05EmBlJISARhUoBQF3XzjlFpJQSkaZpyrJCxDiOFZEzDSHFcaSttdYa5xyIaK2BFAIopYhICK1zWmvvPYIoFRA9qbIwh2FIRHOZIAjmW+YfbhhHraiFAIj4H8QiUWJuI3c6AAAAAElFTkSuQmCC\",\"type\":\"image\",\"xaxis\":\"x13\",\"yaxis\":\"y13\",\"hovertemplate\":\"x: %{x}\\u003cbr\\u003ey: %{y}\\u003cbr\\u003ecolor: %{z}\\u003cextra\\u003e\\u003c\\u002fextra\\u003e\"},{\"name\":\"3\",\"source\":\"data:image\\u002fpng;base64,iVBORw0KGgoAAAANSUhEUgAAACAAAAAgCAIAAAD8GO2jAAAI0klEQVR4XgXB6Y5cx3kA0Kr6ar9r93T39JBDyhLlGPKPwL8cxK9gIG9sGH4AA0HiWJZIi6JocoYzvd6l6taec\\u002fD9nVZKYYwpAUJIzAlhfLkOkvCK0NFZooUSvKqqruvP55OfXUEo+IAwAgqcka6Sd9vVpy9fZp\\u002fadhVDmefr\\u002fcuWMUoppQwgxZBTxpy7GIECwrhvdFtVfpyz9ZqpTiutZM3ZwbpcnJRiu92cz2ep5Iu7HaCy262Zku8\\u002ffuYM931VV+im6zDCs5kppwRjstrczNawBDFGXMrdfrff3rx\\u002f988N7fYv9iQSgnGr5E3XFFBd1+lKA4nb243kbByusYSu717GAhRRVgSI7FPbtCVk\\u002fPt\\u002fv5dK7na7p+NRCnE9X243WyGg7fT1cqmqKvjIERdcGGsJwYVlLrj33jnHOKQUheAIofG6OJduNo2qwJmFep5zXpaFbjY3OWe\\u002fLLf7nZZKANxttyGY4+GpaRvKSPaZUUxIsWZAGBEJzlvnnRBiGsaq1iml4+ksWIUx8t6N00QQ9kPyPtRVRQnK3i3Ju0iyWwwFMlxOGKWS0qeHh65uNOWDu5ZSuKQhhuAdJiTHlCEJzlBBxjouNGdCSywEv14u18u1lh0G0G1HMSqc01JKTMEtdqUqRjAlbPHAhfTO+2HmteKcYwYpOiVV8KFpeyklxmmcpuATZkJKiUJwxiVPOK3b9TqEOMyGEkJKLqpSC868qtLsEKb729t4LCj6igs3Tt1+bYxBCG1ut27ygBljQgq12ElwRXh9nV0ICVJcloAyKCkp50vwz4dn+un5WkqpXK67avGpBvnybiU0hjNaad5r2ew3jpQfHz\\u002f3fevm82IiAxmGuDiXMQCDaRqjRT6Vba\\u002fX7ert+NPNaoUBtZXKoaEu5tPppM2yDp4hKutqMcNkIsIIYnSj2zb1D2\\u002ff11LXSjlnV3drnFg0TlI0LkkI+fjlM8qq7vrFmhiCktBU\\u002fDROi1uauia7ddNqvqpFiR5QVoqXgozxfokE0+9+89t5ts6VttvGBBkxXVfAqFASBJvN9PTlsWtbzmnKARgLKb18\\u002fYpwfh6m2XqpG1oL+O7Na6U1Afr48SFGV9W7y7QA5hjh8To+Px1CQAixaZpyCcbM07C0uvEoFByBkLZplKaUQtNIIJBzfv\\u002fLR0w5BxjNQmsOla4YZ12\\u002fVhidj8f\\u002f+\\u002f7HmIng9bpaff706Xg4LFEO1xFhUjK6XM7BI++81rC+6TAmLqaSi11sQS7G6JxLOSldIYQo4\\u002fR+v0s5rfoVYGCb1X5786c\\u002f\\u002fyVn6Bv8+LDcrmTf1Zcne3h67FdtVfFu1TbVuum6qmbR2p\\u002fefQDKjfPee+8SAMEoKykSZiGE4BZaShacAZAwzwJwYThlQggjCKEcvvrq6812e\\u002f8wCcHargLAT0+f\\u002fvAfv9+\\u002feBHLMhyfz4fz8TJTKNtNl3PJKXV1fb6OhWBvlxQi\\u002feXjv+qqGse5F9yjkCjTTeNt3G1Xgtg337wUghOmuGBKMUJwsaMbptDZm7uORPvVq3shh2G+cE4ppjEEoJCcB1mV6OpqTY11GWEf03q7zjkuS3j16tXf\\u002f\\u002fYDo\\u002fhuv91uV4AzY4gLqrUEwMju7TCcnp8KWZTEWsu2KYM5lRSUVJjyEHyrdKK41ZwBogSYW7yg3HknJCEhJ2\\u002fH88VMw9ev3yiBa910KxViSMkDkM2meXqyD8+nv\\u002f7tf7799vXT8\\u002fD54Tki17cNQ1kIGSm4ZckY6XU\\u002fTBPdb\\u002faCES240jgmz3JpZXzz8rbX6sWurwW0lVyI4pkP1ygrxTR7fJ4+nswP7748Pi3DdQph+u13d7VkyTiUoZQiOUsxYaAxRVoIkUozSpggy+hCSF3T\\u002fu53G8UKY5xSnnJGZBGc1jXjApdMGSF\\u002f\\u002f8cPswkozc4FDowQUTDOJA3WjmahwL2P0S3eOepDHGdDGm0vY4hBqwYIvxyvjpXrZENaFRcZxYyASQ4l5K3Tgj4+PrgiHQROOUgwJkXvBefXxT4ezwUBKhjjpASlh\\u002fPlxe5mnE3My\\u002fpmPQ4mRuO8zwX94917gjMH8vpXL0gtljkl76O3AsjlfP3x04evt3frpqPrdp7DOV4pp6NdznbJhWBEGY6zcfTj58+MQfT21av9bNwwmRgLEDDRf\\u002f\\u002fuJ0rg88eHzXrVdf3bt+8KKv\\u002f1x\\u002f8UpV31jRrC8XLJPjMGw6RnNxtvCRdLyBhozvk8XTeNorGU4\\u002fXaajlMBijNCGZrCEEl20bB08n89\\u002f9+qNSzWwJCmUv4\\u002fu2HW71pKrbfb44fHjHFT8\\u002fP9\\u002fc3KWMXi5nHmHHKtmlrn8vsM13dbNq2koyehlEpHXzyMVFGuOA+hafTuESybvr7bzYhxGG8\\u002fPyvZ75lpMRac7xbtaqdLsPPH35+82+vfcE+LSgjM4+v162S3FlPRmNOlwsihCttnOeqErqiUjIpMRNmSVzJ+qYOJEYaZa8zVeNkfv3NV9u+ERKu0+mbb782iwkxYUSnwZhpqZWuNU8lg26ornSK3oVAGTDGAQAhQhiiLCOEXA6Ygu74OI5KqefnE6XNShHdt7W0t9vuUM5as93uZhwGnxDBqO36plXD9XI4HAqpqVScYG69ExmU4BhFzgABbrv1Mlw99VRk6xcAHhzytjwsh\\u002fXLl+HhSeEiG9h2u8Pxl3XXIsKm6H5z9yIXMCaYOay7PkREORCtdUoJUALAKYUYfQEyjmCHAVCSkvoQg43m6jhVzbpHXARjgRcueGG0aZWg0K+3ZThhkpZxtiZJrTHGqBRacUERJghJKadpAgAuhKo0F0IRZK+X293rBaW+kmzLS0YBuZiiqiumOcIoYLzZ1jxToEwIWYrTulaaIwBrrbWWsFIgRQWUIEwIyTlzxmKMi50JRl1TE4yk0KUUXWnOaUrJxYSAMi58SEJojMA6vywBCHAuORcplePxPAwTxkAVZymlkhMAa9s254wxvlzOJcdOqZrTksG6hHPJ4dBUdSkoITR7xwKz1kViD9dxOg59vznOZ6lIKfR8MqMxSiml1P8DO8ZmN+KJPQ8AAAAASUVORK5CYII=\",\"type\":\"image\",\"xaxis\":\"x14\",\"yaxis\":\"y14\",\"hovertemplate\":\"x: %{x}\\u003cbr\\u003ey: %{y}\\u003cbr\\u003ecolor: %{z}\\u003cextra\\u003e\\u003c\\u002fextra\\u003e\"},{\"name\":\"4\",\"source\":\"data:image\\u002fpng;base64,iVBORw0KGgoAAAANSUhEUgAAACAAAAAgCAIAAAD8GO2jAAAJHUlEQVR4XjWWS2\\u002fcZxWHz3lv\\u002f8vM2DNjj29jJ3HSENTSFsqtFAotAQkQSIBgyUdgwRYQHwAWIIEACST2IIQoNwlYIdFya6OmaZI2bRPHsT2+jGc887+\\u002f7zmHReALPPr9ntWDv\\u002fz9i8ycRJGLY9ZREGVAawLLACJilEcRAEUCYoMXUgQIACAiIgIIzEKAAiAizExEACAAQUSEDSOYyDZM+dnctlDbBAQZMKBQ5auz0sURAWdlpjBqtxYFmIkQ\\u002f0dEAWZhQBFgZhEhIkRkEBZhZjPLM+\\u002f9yfH4wd6RjlvtTi9SkSA0wbMPxTxLbASK5828afDi9uVHLp1P4piZmRkQBJBRQP5\\u002fCAAAEFEBMjAAmBf\\u002f8VKWZwpsWUtFY+vGmhUhVBIIpeXiBE0caVJNnvv\\u002fXL92dLJ\\u002fcXt7eXk5SVNhISIWRlbwfzoACLMgPjRmplkpgghinE3RaGUcuAoogJoXeZnnEeq2RNqAjZIqq97e3ds5GHUXFrc2NwfLS91ezyithR\\u002fOJwEGFBERZhFmMWXD1hoAFPICHjWhQOMrb6CTtuezYtaUNbNzruNEa5eHWrOqT86m06zVTtbXNy5tX2y7KHLOe+8ZBDQLPxRGAqasq9orRIzjWAAEgVEYJc+zOMHIavJY1WVAFhSnNCgAEGO0oMyL7OzOrZPxSSde3Bxu9no9FyUAyCEEhgCKhEwjjMTMzAoBACIUrVgFY8A3pTNxO3FFUwUItUAdJFJGgxZQnkMAUkqNTo\\u002f26\\u002fFbO\\u002fcHg+WNja12uxNHsSjtRRGRCcIAQByqbG6MIQSjGkGwFg0YYAaUtrNBASvwzIEahUoCExBpAQIRQLTB82x\\u002fsnNwL3JxmqZxHEfOWWtN7RtEZBYRCXVZ1oV1VqOKjBVkFM3MwsQCBYUGWCndIFpBUewViYDSGrBSCgSAWTVlNssJqIE6Q0RTVJVRCtgAc5kfOif91c2EQFHQiRPlzybjMpud374y963J5CyKUu8bBGIRCMAiJODAKx2CR2IFqKTOebo73nsHRBkKAQR6UbLQSsvUADY2K+OgVlZWqiRugk\\u002fiVKdJurDQba2vLdfMXIkUzKPjQ59PrXgTKs2N93OjU4aYlYFyPtu\\u002fV08Os6w2EJrFtNNNzd7B\\u002fdJFNQUc7WwvraxsDW\\u002fv7wtjmpeLrfi13Vfba3k7snffvEmtXvfyE+2NR\\u002fKdWzqbLUhWZNNifuRse1bppDtYSjADDwiolFHk19rtw8mR76DpdBTq4Cfnn3psAtz0Uo1GLcTT2XxelVxM6yosLsS7WZYfj893uxtXnpjerPK9ncnhziwfU1BnJSa9QWdrEIpZVdZKadVf6Cy3O5FIP7brFlclvO\\u002fSlYvrW+KpG7kEw8pad3hxfTBcavdd5k\\u002f6K72l\\u002foKi\\u002fHRynKlk89Gna4mrsrAaFYrmpp4eHe++E4pCaQUA5vxa\\u002f8uf\\u002feTOOxfmVVZXTajDhY1zwiLLa2e+yYtsc3klCGd5JXHUlp5mWl1M8qPjbK\\u002fwNbdWNzcee5b92dH+20U2B6aFljZQigFfkACaBV195KlzH3psOC9qL8oHCUVZVvV2MyxqyvLSWjOZzeJtV9a1dJf3Rgd37t5\\u002ftLdy\\u002f\\u002fgUWFPcaZ9\\u002f6tlLF053337jlZePRm+0cAJ1XpFGZmO1yU4nD+7e2BxuD9dXTdphNLOTk+l0stRfyktflE2e5fNs8cqli3meV2U5SCJb+\\u002fd\\u002f+JnTwt8bnTUqprKC3mDjie3BE58Ok8PTW\\u002f+8e+PfJ2+\\u002fqVyuDJtu0pqPRwfMy2u4qE2r04XFjkbfSWCx3RHlgm9u3bw9GAzS9FyR5U9eGH7iA0+VQYoAl7focFzuj05Hd3fvk1RpJ+ludt\\u002fzmfde+cjw7vXrL\\u002f7xeHQXv\\u002fONr1\\u002f94EUCu3s4u3bjjdXh1rOf+PhwsGio0CYB5YwxgCqJ25FzQgQ+eJJ56UvCW3fu7ewc9HuDLJvdPRjd2tl9dW7mUXd5IX10taXH96699Bf84nNPP35uZXFp8PLrt2\\u002ffuffR568GkC9c\\u002fVgvljjpGJuWVTFYWkmjVlPXAIBaeVBo4zs7D777ve+fHJ1++OmPff6rX5O6uvHvf+0HfH3KrCMpp5fPrezdecUcT4vb9lgfje8fHHz86nPf\\u002fPa3fvijH\\u002f\\u002fhdy+8e7hknW51Foiov9gf9FeNMc45hSaj0Bj1k5\\u002f+4ubt1yLrfvPCrzavPP745XclUbwgYaMNwaicUJr6\\u002fPCcGV54hGDufeVa7fWtoaBsbWz+9be\\u002fno96aRJFSQKAkbHttJ0mqbMudonE0XE5f\\u002f3WzU996uqT733yZz\\u002f\\u002fxUt\\u002f+9PFta5L9clo9OqdN20rWV3oUkmJUyYAEYuL0tYCzLLi8Oj45HTyYDSW4OMo8Z4EILKmFVltdBLHcZyyxvvHhyD4xS996ZlnntndffCbF3537dXzVDWTw7NmvGeoU4TsncluGjlzMh37UBmlJNC16zcef\\u002fL9166\\u002f5kE1Jmm8Pjg4qerKGWM1IIB11lpDwllV9pdXl5eW5rPZ2vra6eT4z3\\u002f+Y5Xl43GWozJJpAV7q4OV1TVDyKhdVhRllo2Oxz\\u002f44Y923trJGnpr7\\u002fhhNHhipFqDQkAsSTAgAIgkrXo8HkfOzc5mdR3u3XuAgTyDxKkAOOtaUbvIyfSX+gC6zPK61VaoppPp0mBlsT8ILCxN8DWF4D2xFyKq64ZFQFiBms5mf3\\u002fx788\\u002f\\u002f\\u002fzrN28RQcOiQTMqT0y1h0Z2d3Z11MHPfeVzzAAEGowxBgUgELMorUNTMDVEzMwiEHzI8qyua+8bClTXdZokF7a3\\u002f\\u002fPyK9NZhYAiQiKCAIgAoJSO09QgamsVagRCay0ICGKkNSA6Awhx8IGYQURpvbTc9z6IMBEzU54Xo8PDCxe257kvyhJAgggJC7PSWimlFBoRLYwIiAjMbK0FoxFRIYLRWinL4r0nIkAQFo02UNAarFJJpzs855ilbMj7wMyo1cOg01oTUV3XpqkIEbUCqxQza2PQaAFhEESl0NrEivaRVgAAgCISQvBNw8IhhKJhIqqCR0TQKETC7JwzxgBAmqbmoTMKBEhRFHnvibx1lpkNWPIhCIgIgyiFiIhK2Uhr6xCRiJjZB684MFEg0oIcgjzsOgCl1H8BplYQwA6b6HcAAAAASUVORK5CYII=\",\"type\":\"image\",\"xaxis\":\"x15\",\"yaxis\":\"y15\",\"hovertemplate\":\"x: %{x}\\u003cbr\\u003ey: %{y}\\u003cbr\\u003ecolor: %{z}\\u003cextra\\u003e\\u003c\\u002fextra\\u003e\"},{\"name\":\"5\",\"source\":\"data:image\\u002fpng;base64,iVBORw0KGgoAAAANSUhEUgAAACAAAAAgCAIAAAD8GO2jAAAJh0lEQVR4XgXByW+c530A4N\\u002fvXb51VnK4zJBDiosoWXLkWA4cZ4ETOEBPPbW99FqgPfaP6TlAbjkHyakIUthAEgNyvCqRLIuUaIpDzr588y3v\\u002fvZ58Df\\u002f9Z9VoSgj2O8uk\\u002fhRM7j65ss\\u002ffPrVUmpKCSLyMNrY6jRicvdg65c\\u002fe99oPV3lvN5+fv79nz7+FBgJOWlyHjCrtDYawbuQhqVXC+GJBrYYvGbWceYHXr6s9KO3jp2SO51OXGkAj4illKv5IkcrRfXO4x\\u002frUkxni50odiqLQ+\\u002fAbddrbx+fTsaDqlrneQ6Eh8z0dps62D5\\u002fdslei7CsVgEKsE2CwfT70ec319+OF14aRIyiSBsLhERxuKzck6cvu5tNaRDAhww4R3Bw7+TkzsFhq54Mby+dFrV21\\u002fI4CfNep\\u002faGJqyiOCcWrdxkrNZoi2K1XMtMaE+stZYKzYCA9oWSNe+ffP3N2enp\\u002fZMDFiR37pwUjo9uJ9m6gij90YePvvrsk8qYtU5mRXujEnt0LXIkIc67iblf5\\u002ffaMSHrNHYh+gRZkCYsiSQ4CUCSJKilu\\u002f3u6Vv3plIPs6p7eLfe3P2Xf\\u002f33wzv3nl1cTaQ7ePRevdd\\u002fPVlfjP312O30H1es2+nssyBlx\\u002fXtI8+aQQSr66QVFkHpuP3RDx\\u002fvbG+\\u002fOj9\\u002fczUglHsjImJ\\u002f8uPHkxKefPLxixcHtiohbS8LmWtyfjsrHC0MGS+ljGp3D49bO73JbPbRRw9ZrniTpnq6eLMc\\u002fPyd+5Uq9hxEif+glT7Y6pTOT8OwXC2sAqbWh1ev46XZ2Grpv39JKP\\u002f02fMXNzfCyMHV9Xg2ef\\u002fdDw5b\\u002ff\\u002f57e9UNfz8s+lodPH4V\\u002ffZFo32gDYa9a8W1wu5Otzt\\u002ftv4iGfF5svr8OLWOn0HgVskLLLI5ZMvmka6TmqNg8w2aE0WxQaFxFfZ8Pu9t87qafT+yd54pYZ5WZbzVy9fsvv1JJ1NKXFn+\\u002fvr0QQ87qFPAqTlHJ1XAJIQCELuPTOOE63r1JfSSG8Bd4j6KE4VBra3E11elgFAo\\u002f7w\\u002fmm3VF1tzk56p50am9+8kgYr6spmLS61eH5hqTUpI1SFxiFExqN1znPuATwA2z6uL4mIQB222yZPhTJLk49X5c1fbv\\u002f2dePh2Ww4UcmGqaCcLTKu2CxfvimEcSbA3aTdmVXrXRrGgthMS6Wh00nPToXJ82kWOqRSyskawja2agy9y0T88BiCWjKuisFg+e25uxrVN+rzlpsN89vx9VHQZQshhmWus6Kzs+X722G7HmaG3UxUXubgbC3mhwcMbdoq9XdXWmlBdP3DB+VyCi++BUPgdirdku\\u002f2dn\\u002fxQRjT+XcXrZI2D8Or4SimnvOA9fv75PUgrsAqHyJfFNlf31z3xPo+VFLpajBQXzyrwOPenjjbLU3y6ORBQWrVzWWwEqYRqKsrPSr49rjc2eYbzfavHi\\u002ff3LY69HHt8I9\\u002fXoStLbbb21kPpkkbAUNO8HY6+\\u002fXX\\u002f7i3WfvvKE0I+CKfP30232q+koUC3zvrHbSb6nZUe3OLTsEaQxJnVWlfvfI3w0U9TO\\u002ft945OxHC0laTvvn3aP9pnK7tgfsUZU9QvTTWvvPEs4\\u002fGAJy1vFDHey5Urr8dFg0SLGH4\\u002f+P29vb2TjWgz3C0uB7YqvDWLxcRbr6JQr6bqm5cJeBnxwwcP9c33LPCOOd0hXFHDtCqF29va2j\\u002fqD\\u002fIKvA8ijoYpJ7ubHWYgmwz9vLyZFaskOJCaTAdQGWJIZYrSKk+ipMLbwXWCWBjTkqbz6IzFVXJjmttEtKslG9+a9eKtB0cH9+7Ov37RRQrcc0\\u002fivGDgkyT+7uKyU5DjOxvXgR6d38brORqPlgpqFCGqMHO7TpLGWslC+vlgxA522arQH6+M2YSfORWPh5Eu333vo17\\u002f9A9Pnq6ksExrpLFHcT2kGxvH7Y6wK5YGj37+\\u002flzC\\u002fPOxdN6xsPKYppsQp1VA3WZbAB1O5qvldPHtS6aym\\u002fPZqNJBa7\\u002fzDtd1Zo76\\u002fUZtQ1olSxVwK7wKSBAoU83nhDFH\\u002fWg2XDx\\u002flkR0HdXWcSJr9aIoks7GXIm1sURXt8OcRGmmVZqt2D8dppN57bPX5R8vV\\u002fFxmtTCOk30Wli0hRQRZZYSQOIImRe5FyYohF4qf3GVAFFJ46mRl9Nx5CBwFY8YahTLeeHrrMYtx8N2i5312H8kB\\u002f1w8H8v8j9d6h8e9vKL10sg1LmlKreSuvVUOz3xbprUBDN1ZGmz7pSBWRaG6bWoZtbvcp6ktXqa+kpMVcVoSefl2z6orTWTqtyI8CdnnWnhPh+sno8Wd0WlAuYdWQvpZcAj5p0H5+MwWnuRHexsPrxPHTz930\\u002f6Qu63t0CqiLmVropZuZvUep3NgDA+Xx2u836rxZAyNLLbin561MyUuFyWJcXtfp8GiTBerNdM24DHTQAzmjSskVk5167VbreQcFHupWkABNMQeUpytcOSCIFIW67XTVqeHETMe\\u002fTOBk4+2GCTbq2Q0lSis7kV1ZpL57XSRmlJBUHaIBABqGwFQvjheB+QU1OvVts0XizLsN52mphymclSWnCy6D7YPjrYYg6JBQpGNxm+2+\\u002fM1nM1utVFEaSxQKI9IU5bbdGiQaI4Ahg01tIACFpjvBCR5V6rYbTUYeBC4CkvSxV4t3WwG7GABXFKo0Qtc6ttr5X8YCWeL0fDm6usynLnBCHceeMt8axALD0yIE46JwUSBOcFs86YwnkRSiA24qGzKnXydKfeDnw5WzIgFJGzGATRPPAH3eT1tVKysE4tjZoiq1OK3iPiysFQWYKEegQAAsCBjpxegc0d7BFsaUvn6x0WvdffPenHSZVLqxg4IquSekSCXulamnYaaj4Zr4fjFSV\\u002fdbrtoYE8RdTEZ8YLsAhACQkoTQABKEOXEO+0URZjsM2aAZ3lC5c1OBrNrPPeeaQkYIGvNHjYToMvnv59djMxyCaAmVGJdQlCSIkPAkIIIjLGrXeZ1cZY711AALRxlBDmHehlvqTehKSOjjHCOfeAHpAysNYWebeebHLLRdVwKJAQJIa5wrnKA1hNjUdAYpT33qNDAI6UUxYjqRFI0XILAFZWRZFDQhJGGKOegHdAGVjOCNZQffiwtyrVl1fTqTTCeQnoKHNArPMEPSIQ4gGAImEeYsISwusM68RtMkgQOZiAeG+NEBWDIAIw6D0wZox2wLw13QT++Z29He7OR9mo0AuDwlHpwaDxSAillFIE4M4zByllIZIQXYPaNsOUkogzRkFrXaL9f+I18GjPot3QAAAAAElFTkSuQmCC\",\"type\":\"image\",\"xaxis\":\"x6\",\"yaxis\":\"y6\",\"hovertemplate\":\"x: %{x}\\u003cbr\\u003ey: %{y}\\u003cbr\\u003ecolor: %{z}\\u003cextra\\u003e\\u003c\\u002fextra\\u003e\"},{\"name\":\"6\",\"source\":\"data:image\\u002fpng;base64,iVBORw0KGgoAAAANSUhEUgAAACAAAAAgCAIAAAD8GO2jAAAJnElEQVR4XgXBWW9c12EA4LPefZl945DiiJJsWY5sJDGaFgjqFmj6B\\u002foT+963PAZJ0QYw4rapJVkSJZLSDIezb3c755413wf\\u002f\\u002fX\\u002f\\u002f7b\\u002f\\u002fsIq9L8MgoZBEIe2ko2YwbqTpYju93fx\\u002fcla0z0rqVqw8ep6DYcNopXXeTMauGxCQn7J6tyK8SKs6ssAe9ouqqrPiZIE67AuCXRB2ip\\u002f+58\\u002fng1\\u002fGoc8FZrllDahg1RyRp+eEeavcHE3muDq0rpW6IjhqJZ3AsbKMs3KY77Lp9WfsGkDl\\u002fXwZR06Ra6UcAKwxgMzXu9GkiXHcih4DIOd3t3fzxdmoKm3cJAeVvEPRrpY0P6oWCRzHJmkU++NaSqEyoMxp1T3ckusf\\u002fxqeq7MnPS+kWZ7VXAFIt7uNkBxdX+dcuJMvLnbVx+n2jRfDnJ1ev3+VyQ2KK4XM7e3uYZoR5FigPKfVSs9r5r57BWcfBsfCkW1cuoPlqmGsE0QoTgNMIHFQnudVybUGZDbVFrCsPRPopIlsNFtPv5is1qdS8p\\u002fe7BTSjc5TYHPq8marFQWdPIPbVW0E8ZI4E81X\\u002fHHdaqPe58DbHY77xUOuaiVrXpSZUspzXKJqelwLWR3c0DYHLeuq3pMoM0XBhA9aux2PnXQ0bkiwPhle7rceTgsG4sRVzmFd9n7\\u002fH8LYhyunhy3ePmSCW0wgl9JCGMUptJC4kErGm4PBfLXK+Nyi62++fvb3\\u002fzoInVhW8fU1yw4b33e1o++zaTuWo6YTt3wHoFLZm\\u002fvPt\\u002f91EvkNPD9V62z4KPAbDkAcYScIqGCCooDkhyLp2F228CJYlEoq\\u002fe7nu8V8Gsdev3\\u002feu3Sqz+Vsc+PHpt1NmglH6J44noNSJTpGQmAOz39x+nJyioO62TVVFQrh5LuVFsZ3AqAtgQYiAgt27Pd7GKQPDzKzXnYQxNvsyk0aN73IT9pj3yX95tB3MQBSSi3lzlKUHbpJAr7\\u002fl7YL1sNB5Lj4+pXZHyqeMat02om00qTIc1yimBJZVQhUvlsj6MXNhsaKiU21EpOzF6nfBdLKU9QMA0BFxUtAlMHk9iNt9t1f\\u002fqrtg6dSF7yESq4Ey13s+qGLMYDIEOwixmXxOa+3rDeyoe+e2DEmdauPNxsX60jXmBeVC0OEG\\u002fttRUK9y2tWFIA0ZnMyHJ+8KCNcMBbYujE+E2kYLD+XYRRYJCAFBFplue4mHcyUyqlxieD5dltaCkMadnujXrvTbfSAxBQ7EhdZublf3S3vV\\u002fsVUPXLuLFZbn9OYRA4X\\u002fVGz0ZnMVRe\\u002ftwXqtCwqmpGgOQOoZHjUk2U0NDlgefu1lJz8Pzx+Vl7QojDS0qBDzEshH1\\u002fN10cp0hqc6Qty541kaq4IB6WW4iQ4\\u002fN+52knucjKQy3rkLRJkgZe6FsCw0akdK1UWZwqXFiX+IBRwDqQdLWKXBpJLU8HYLPnvmz5lrr4bHn88ZL0xt7XEklWFSexMPsTNFkjzAxy80w7YZPg2mqopJWVBVVRUscmMHARdlQS4ke4vjKs79MG0AhqPYwfDRq\\u002fYTov9+xu\\u002fblJ3qQ2uOhdvV3eINikUIpac6ZZ9IN2\\u002fIx7+XFBzNoa3wjEHd9xaBsJY5UwivRG31L9xebBp4QoX2lRMyY830MEpI2hk+B91zhhkPHDir2OBsjTzZpHWI8sgMv9\\u002f7k0brVeIhmRr8a\\u002f0oGrKR02Ol6aQAM3m+m+VNh7wnmDSe75JyE4K6uyLLXWWqskjv3In2\\u002f2HAeLchPtLG76MvsUIKfpXxIHqtoJ3fZ48JSCM\\u002fLym+9RGqMobHgBdl0M6Jv3P+6mq7tlRQn3I+zI3EqnPDFla8ehVZHffrqJPEcbUkixyXdX8nI\\u002fl9NPb6nAjWg1ukxPam8aQYtuIjcmT15+Z6mniSS4xNqDPq5e6\\u002flst+e7OIrUUgZu1Gv12klaVKUQXHJRHDNuFDKi4LPCqMzkEFkK+z9\\u002fvEk7+YHENJSFzHeHYtL\\u002fNQnSVBmkIQBUGVt5EZblZvXhZxuF3cGLj+8fGPRhWZMzC4FdTD+VVVZVBdYa2hJ4R0vpbDlrpuH5xbiufSYKURdxi\\u002fLaiOzkghuCMLBaSSmU5sapTS5hsVPFqtmd1JtVuZ4pA2WR7TYr7GLGcsayvNphRADm4wnpDZPABdbaUi4nlxdEn1XiDSL3QvthNDYSECa4YJoLpi1Taq+AqE45ciEJyXGbbRf3wnKlq6gxVBwbUVVsw\\u002fUaOpRQ2xkPnzybLHcrJwEQrUS5HzR\\u002fAdDIRtn7d4dhtx+6AdEGGgs8J5Z1KY6LvTwG7cY\\u002f\\u002fu63D9Vhtp93r1wDkZaVAEWYjNazBRebp9+2gG93p12j5wNIWQFb3VDZQ6efdrsIoc6RBd0GcnGwfmBECAMBgQYBTajneo04KuP8dvbrF92rFxigvmDoL\\u002f85226pH8cVK9IWffndo7v1exDD0cWg2RxG4YipVV7VxtL77etWo1NXaeo3JdM1r4kWWnNOiIWExYmv2XE+ffvh9cfY+5K3lkyKtn+BDO82n7l+WEuTdhpSiTzfno27UPM\\u002f\\u002feEHGpjehXawu3zYCL3bF6OWd5ZGiSJIGUMolbKoiIO53j6sfnr346sYR6H03v7xr+4l3HEeXDUux8H9qtZCEcfpX2hjC1M5AXLv3n\\u002f48w\\u002f346+IiRFVbZU5rS75dHfz7rT\\u002f3T\\u002f9djD2S7UjBzkTNSsrsDq+ejj8abs8DuiLNsQZO9Jl4jB1r6+\\u002f+OdHO3M8PJDuUL\\u002f8Dnmht91ebDb7MIqfPx8n48pqpiVZzstyT0TNj8Vp\\u002frwTxr3F9idyKBZlttSsPBY3hrM0sNXpY9jCKEqoFyUyRf2g2fWSFE7fHyHA+xWq1bY\\u002fGM\\u002fm1W5bWip6HnBdCCGsa7O4zkLqPft2UhSn7cFSVyOWLyHe0Hif9iDUQdzF\\u002ftXee6yv\\u002fuFr1PdyVp2dXUZR+3wcDcfcSssyDEHt+Kw\\u002fahFCjJHACgh00nAnV+daeqrysn29XOw\\u002f3EypGxG2f4fduobGib3hi5GUWrnInJJsXRXHii3Yq79ctxOCaPSb74PLSb\\u002fVrZOe67c9hAbb+WS9\\u002f2jcKZAUGMcJHOiCODLG5EWhFFKe55OBTyoXEuBZgpwmE4e4WoPD251TREndVhTVVhgdHFY8l+LxpFNLtZ\\u002ftULH2IjSZfNM\\u002f8w\\u002fc3WxyIzzswG\\u002f+7hLrgwEVUwwCDyJLOqpZD5P1\\u002fXF9v1JBTUSK5trbK4BcoJLwSdC+slikYH1c3q70oepNUmSwXw\\u002f3p5LqabvfH7S+0nw+m6\\u002f8KGh2XcU9QiHY2vqkJVd\\u002fA8yfDRRyppYPAAAAAElFTkSuQmCC\",\"type\":\"image\",\"xaxis\":\"x7\",\"yaxis\":\"y7\",\"hovertemplate\":\"x: %{x}\\u003cbr\\u003ey: %{y}\\u003cbr\\u003ecolor: %{z}\\u003cextra\\u003e\\u003c\\u002fextra\\u003e\"},{\"name\":\"7\",\"source\":\"data:image\\u002fpng;base64,iVBORw0KGgoAAAANSUhEUgAAACAAAAAgCAIAAAD8GO2jAAAJfUlEQVR4XgXB2Y+d510A4Hd\\u002fv\\u002fXsc+ac8WzeMhk7cZOmWWqspJWolRYVpCKKEDdcIO75F\\u002fgfetVLBIirXACFiwKqVNoidYkoqG1ix\\u002fZ4Ns+c7dvf\\u002fcfz4N3bRwQ4Teje0Rxj9PzpeQgs7+d5P8oEnc9nm7pabtaj8cSsu\\u002frVcpjns4MbtVPFcllXDUXMal+URTyMrbfWWh88BC84i6PIGMPAgg++8\\u002fbyYj2dpBEjBMc8UL1uh1vJ7vY4jVlbrpCuj49vzB6+nsVSZlIHo\\u002fVuuak4Ztfn189eBDHq0Yh6bOJeFEmRRylnLARgUjDw2HtAjk6HE7Vqu9pFNE6S5Pjozt3XDou64hFBBO69eXjzcMfoBogjFDHOg\\u002fG2MaaZfaCOMY9IQr2wJEGEY4E5wRgAWDpgLJDcR7GMsEEJi5Qq23oBCbk6j37lW2X0eDqd787mO5N4EAmEpECRoODBNhrFQgsCOhDPkMTxtO9i0NgAhhBCgMAO729LFVwFZ2eb3\\u002f3PkgDTZYtdR3R49vPiRDAHYbI9Xe\\u002fO0vBg2juezWeJBInBVF1tnClN\\u002ffy6vFqbSnXITl7bI8M4mmZ4QDHBnFD8vU\\u002f+pnl+9dN\\u002f\\u002fdnFSXVVeu9JjKAfQ8r9OMoGeR8xiiilgtIMD3eHX3v88I3XD3uc2qJtFuXy5PLFb79YX14r3Z2XGxhkbNxP9of3vvEmT2Twgb3x1o0nnS7W7TjJnbWLajUfiDuDnCHPMRv2IhGnHpEoitMUF1er3\\u002f3zfw4uH0yHPadMMJh3IAO0mwUKyBftZlEl143dVPrtW\\u002fSQeYtYv88XiyUnaUajdegQKAF4P09jSQ1B2nRV0Yo4B44THE0nE8GgfXl5cXXtvCEkRkCZxPko1qVOZLSqi\\u002fbVqp\\u002fHGZaeOAOIxUJi56v1htCIYQuOOJdZy9MkcEqqqhFRnGcRF7RpauTZaJAqrb1HVreqWVVVm6RimGVXpYmiBEKljH15cnnz5fX0cNcHTZB13COOyKCfb036hDLtWaV80zbOGGfN9tZ4Phsh0NYa55w1JoSgus40bVtW5XLdFCVDxFpXN12rfWvhalE9++xlcIFxysrlulmuh0keCWm0Dcy3uFtrkvc4x7iXxoN+kmei2PhlWVCUbY1yhJBSGhkwJtS1qptaSuEJXlTVWmllg7L6\\u002fGxhtA0MWDDWVu0oy4tNed0Vk4PhMOWXp5c9NZeMj0eDLIkYDb1edH6imgaHEOq6VW0bDFqXalOZAIZdLkSe1sEVzmnAOmAVqAvgrWEMEY6Z6XRZ1R3YR994eP\\u002fe\\u002fMd\\u002f94PFWTfv9\\u002fp5ZozSzgVvtTbIh+VqhYKG4Js6bArlsSSMXy7L+aCHkrgKlQ7EYUqTzGOEMTAJyWzr9i\\u002f8qzVqd+5PH37t3uvHO+OE\\u002fds\\u002f\\u002fHu5qdsmXS1KYzUwUmlcGzvstETeO7epWuOAi0hZu1aBG+ho1qHGoNC6muYySSMPwNrSEtnTMdo52Pv4Tz+4czQRMdx\\u002fdM8x9OPv\\u002f9OnT7\\u002fAmnkXkKCrTo+GEYtFV1ZVUTcGUcq0M4VSLaG\\u002fObs+WZjKhwCgEe5N+lmarOqGnS4vf\\u002fLrn2zd7n\\u002f3r75z694Es07rxhj\\u002fxjvHL3759If\\u002f+B\\u002fCpFb7AK4f4b35DYShNnqtwkZLghDnUHHNB8nL0+VlpSf70\\u002fPTa2cpwaJcV8ppMru96zLz1kdHd740A6aMV8ZbREFkbP\\u002fNu7XAJYZXjS4M3Dy8eXjzFk+HDSSXLXlRhZPWPm82ekje+4OHvZ1tiNkf\\u002ffnv33\\u002f30IRwdnptNeBAyWA++su\\u002f\\u002fovfe\\u002fyOJRWijlAWx3kUxS7onYPZa8d3hZTgCcWxYdGnT1\\u002f892+\\u002f+PXp4um6OTfNmVmvWHf\\u002f62+\\u002f9833J\\u002ftbrfXpQHz7Ox+OJtmnP\\u002f\\u002ff1XWZJT3S6CodRTTGAB4T4hy2jjhPWqUG2\\u002fm3\\u002f\\u002fibw61BmmeYiyUxbprUGdIDynaSeJfuPdj++M8ef\\u002fDxIzwgOzdHIfAnT57dPZoeHc2fPz09fX4hWcycM4EgBJ5Z6gAAMQBmnQISHNd7Dw7jWa\\u002f4zRlmfO\\u002f9m3\\u002f43ccXry6urjZVYx12N+aT\\u002ff2pYXbdLXcPRoykX3x2lv5J+MqX7\\u002fzql593jfE2MIyws5YxGgJqWw3AEAreWR5xQ1A8oNnO4LKp+v3e9Pawf5hFOwd38IHtTK108I4QjyFIKidb47wXCZ4mef9L790dfvKjYFEsGesMUEoEYw5Bq02nKkIIQpDSzGNCiBrMh45ywuVoNLTeGWSJ0xhZRLyxBgMGBIKKrDceTvj8xo4n6Xgf9m+PwWOGMVMWkRAsMtZqjEFI4Z0PAZQ2ygTLUN7PqKA8iiWf6DY4ooNuWaDBI0DYWdd2rSZitWo60yZpvFgVzvo07zeNb1vLGuOcNYyTqtrkabQ1HgMHAOiU6drO0+CDIwJv6vLFs\\u002fVwntO4Bm+DpZXqlNEAYK11HE5eXhRVSTgp65qA6BR8\\u002fuSsKC2r6lpwIRkXQhLMMGbGqLZtrfUIECBkwdGIbDbrf\\u002fnBD3vjbx3eyjyyzru201VdO+e44CTwi1dL4zyTzDjvjXYhnJ+cL5c1i6WIIiE4iYZ9yUTXqWJTdF2bZT0Ivm1bRFDaT95+98vPX37+\\u002fe\\u002f97Ucfvvf6g73+tgSgjEYYeWfcdbF58vQ5IsiD8wF3xsQZ4RVrOkM48sSbiCJBAEIIHqSM+v1BluWcCYxxlEQOudtHB4+\\u002f9ahYdp\\u002f8\\u002fX\\u002f94qeflVXZKW2tByAA+OpqWdVq72C\\u002fqqvLq+umrftjtrs\\u002frZuGOaOcAUZRksScC0qY4AIAtNLBeOK5095avVovv\\u002frh8fuPvvKzH\\u002f3fsxens5dSZlm\\u002fPzLWlGVT1e3de7cHg1lvSDdFSQndv3tDtaQ1DWtaa521jhiDkxi89wgwpcwbbzvb1u7V2XJ7azLsD1qrD97cWqstwUhdIkuciJ13wGSyfWP38JY0xmGCjKVFWaRZHEfAEs42RYcQ8t60ncfBadVRymQUCSHrVlkH+Sj\\u002f6kfv7B\\u002fOCXf5KH3r3XuJSHq9nkYdJQwzIglFgJRR1toojvM8F1JSwYzWQkoWkOCMI8LrpvNGN3VDGRkOKGURkjJK+EywdFLHOfGBsCDZkKcy5YzZThOPnfVlVWijMSNMMAhIRpJx3rSaEFlXihkLztqus03TSi4oSylDgKl2XvtgTQPIyx5zWBnlvQ660YYazvhidTUaDgLA4uJaGTOZzzzGq3KNEBDKLs7XIYAP\\u002fv8BDjUbSZT8O\\u002f8AAAAASUVORK5CYII=\",\"type\":\"image\",\"xaxis\":\"x8\",\"yaxis\":\"y8\",\"hovertemplate\":\"x: %{x}\\u003cbr\\u003ey: %{y}\\u003cbr\\u003ecolor: %{z}\\u003cextra\\u003e\\u003c\\u002fextra\\u003e\"},{\"name\":\"8\",\"source\":\"data:image\\u002fpng;base64,iVBORw0KGgoAAAANSUhEUgAAACAAAAAgCAIAAAD8GO2jAAAINUlEQVR4XlVWSZOcRxF9mVXf0l+vMxrNSNZmbRaSFwGSMSYMhH0iCA6GAxf+D7+CI0eOcMARLEa2sME2OMIyEtJoHc2I0cz0dE8v31KVj0MPBjIqoioqKrJe5quXlfLz9x5Ei9EsAVJVcWltclDPnQLlrFdkvU4eAg4apyINolGEgv83koSBNBIQACAAiIinSwwCxbwKZZTUKCpevVgA1CjTsnSSiiaqqhAYZOHiK++AAk5FEZsmNgYAhxhEfBOMkQKouiaYWaMgnCJammbBZbMmtBJVb4TAjIcYZYERImYmIipKkiAJ4HAi6Uke7gEiRhLOkRSRppqnqFOfJwCABkZAFtD+uwIAM2tIAYwKGAARWZzSBoxkJEmqSAwRgKhGBRVFIqsFijBzFs2IRYJpX7n+ykja\\u002f2D9j4lSIAInIirOO58lBF3ifJb6PG8iysnB\\u002fsbDttfEq6hSlOoAIQFCFgkBjIxmRpL4zyBo\\u002fumDx04s8U7SRJxmSaoWk0rN+9wJQgxMs2MvDmfVVNS7lEKjCVRVYQQJyOKiQ1J0wZASNGn8Z4+3wKiqiaiHeJ8kwsShFKz2ey8u947lvlO052Up5obj0bwuYwguSdM0I+i8r8pKICpS1XUMwSdJK2+peAJB4aU9WFBeETUQQTAUxiY27VnJTjZY9se74gadndF0fXt2b3cqzgEzEWYuSdTVVSkCAaq6bppGVfO8peJISx08q4pGETEQEIgAFsRyRrXwbDQ3Cw\\u002f3Z5W5\\u002fWkzmoVZ5LgJCqXRK4FGobJQGFMzz0iESEaQIvAxBICiYmYgRVUgQdjVmCt2JrOySXRfZzVzJybS1lg3McYsgRLRnBiNYjSAQsIWD0kIkAZVFedUVZ1z6pyqihNRF6mZGnw2btCo+BRZ7muzduJOdTOwnrEOagRFIVgUEIpABQLCIsxA84CQhv\\u002fRHoxRpIwWJjuUfpJ11nppy+mZlZWzq0U7V2e4ce\\u002fZH+\\u002fu7NXiQBEJgSREBCQpAGwRhsA3sVFgIfTDPZKK6JFgcn2QXb12fbXnjZqqO3U0UYshOH9pbTyPv13fJ6NE8+KoShHQEEO0qABBUDwX9VEP4dNMIIQ5n7vui1JoNR3t+Xa3yO8+H\\u002f\\u002f19v50d7M4dlajNLOmo1aaUHwEwCaagbTQmJl3IgDpvYOQPNQgSXIRqVjyZJbcHjVf7j7pL3ctcn80bza+9MOH7\\u002f7s7POnm+f7bc27Nx8NHdFPfTdzWZqKc1XdzGfzURmfVx6Ad6SBqfOBVi1yCYIqiJXJbmmpk245jQGdcqfkuKGF4dazJ3cCw5tv\\u002f2Clla92klNHuq2EeZZ676NZqKoHz\\u002fZ\\u002f8cHDrTL6NPGisd\\u002fKZoHz8YECCy5Sp4R42uledmVtsDfcHx3MGovb48kf33\\u002f\\u002fletvZplf6hSn1o4e7SSDIlOxIk\\u002fVaV03+5PZnSebsSnFnG+3C+e4NxrOasZIqIoIaGoxWvjmycH3Li5bFUYeMdSzg1Gn17967fr1b7\\u002fVKbK6qlUACgRpljVNs\\u002fFw40+ffP7J1sE\\u002f9uOobqsXPx6PY2M1hKqpBxYJApzwwlr7Z99\\u002feTQth6P9pcw\\u002fnYxee+XKG2+9s7S81PJJxmapl+epTzXs7jy\\u002fdfvOjT9\\u002f9OGND4d+sPydH81CYhJhwdcxkua9iBNGBGgqwhDXOumPv3Xu5CCdjSdrg+5S5lbab16+dLnXX67rKnNR2extbz16uP6XTz7762ef31u\\u002ffzAZR7ilN96dx1xCnTgF1QsIBKFP1feLtIKEEFwTT3b00vGleVlLrNp5+8zZM3ruRJZmsZ4f7Dz79N69W7du\\u002fe3zz9fv3z84GMcQLEZH5EfWukdPMASzQDjAfOYSOLz0wur540fPLOf7k+loMk1D2W2GdRmrKnS7RZEVYmi38+Fw+w9\\u002fuHHz5sf\\u002fuL2+szusQxXNEAnQOe\\u002fSIjlyWtJCrRbnSSOD\\u002f\\u002f5rFwcFzx\\u002fttWPs+9B4N28nYTqtZgpVCItUE+VkZ3OyOf7dx3\\u002f75a9+s7P93AwGNXHKhjBJsjQr0jTxqyfgc1g0VCICRv\\u002fT18+mGR9tPb\\u002f5\\u002fo2XV1uSpLVw\\u002fc4XFy6+pAj7T9enw9Gzre276+tPdnZDcWz5xFm6LNYhKKqmDrODViLKWM6mMV9pLa0yNsEiEUUkxuDn9HvT8vbWwYdffLlR2JFOq5+EXrfb6vY3tnbuPtr99O+f3d3YPCgNPnvnG1d+ePlcrsjT7On29sb2zngy\\u002f+etL+58etNiTI9fNJfF2R7EaZKKSIzRf7Q5rMpq618HRYG92cGDZ9svdDs\\u002fefe7V169mra6R46fWv3apbfrsLrcH7R8v1Vked7O80R1UlV7s3prv\\u002fzT0ZW5cXN3l46zvc0oaBUdqhMRkn64NwwBEptU0lqzY8s8eeHr566+3h10VbXXkbUjl1KB0gQUSCQRqzqYiivSZK3v37h+PesMfv373z3efBRtHpJcXeKRqjoR8cf77SbGRgZZe\\u002fC4Qtpf+e73ri13O00wY5wYUq\\u002fdFAA8RZ06FYjCIk1Ighj0upfOn\\u002f3yzvGnTx8Fi04dKSBoRsCfW+lFq\\u002fe9zfqDi0tL569dPXHidN00zgkBcNEtOu\\u002fUQUVlUdQXLYqZmTHzrlfkF06fXr9\\u002ff2NvTJ+rJCKiKjT6lW6rqf1kFopXrp1a6V06dzSFauITQeLgHQTihSqQRTN0+MNHBjQMVHFw7Vb22quXK\\u002fC9Dz7ZHpUq4kQBERHPUJVV1Ur05QunX1jKWxrViROCUFIIXZAVYUqSIWqMsYmc1jYpq3llkX4eYnTJ8ZNnjiw93B0\\u002fcUKhCQWQfwPVakEz3sCQ4gAAAABJRU5ErkJggg==\",\"type\":\"image\",\"xaxis\":\"x9\",\"yaxis\":\"y9\",\"hovertemplate\":\"x: %{x}\\u003cbr\\u003ey: %{y}\\u003cbr\\u003ecolor: %{z}\\u003cextra\\u003e\\u003c\\u002fextra\\u003e\"},{\"name\":\"9\",\"source\":\"data:image\\u002fpng;base64,iVBORw0KGgoAAAANSUhEUgAAACAAAAAgCAIAAAD8GO2jAAAICElEQVR4XlVVy5IdRxHNzMrq133fO2\\u002fNyLLHBIQI8I4dEYT\\u002fgx9gzdYfxIoNYQdEAHaAMbaQwjYCWTPWPDSjx2hGc9+3u+uRyaLHsslVd3bXOZknT1XhBx\\u002f8dvryRbWsOG0B0f67++\\u002fs74Pqs\\u002fOz\\u002f967d3J0FAnIcpoX\\u002fU632+t1e73BcNDrDYv2oNPp5e0iK4osb5kkF0ABUAIAgKgiQoZ4sL6zPtq8vfvWYLjm0CInqlpV5Y+37uz\\u002f5OdHBwfT8fXk+vrp6fHZ02NGyBMb3cqyybIBp1nWaeWddn+03h\\u002fu9PqDdq\\u002fb6XXzdsekhWFmY\\u002fAPf\\u002fzo8PFhp9W6vbub5kVVuyRJZvO5qq5vbOdp9uzpyWo6SZheXDxLbNpvdx5+fe+TP38YFyURKqJJkyRJjKBNEk7TopX3Rpud4e5gMByNRjzodN5590fnZ6fX1xfdTi\\u002fN8sRoK6GychoxBOj1Bq4uQ3R7+\\u002ft51m8X\\u002fbW9t1eqf\\u002fr970zQxFgrTkpH0VeEgngJot8egikMmTRN+dG\\u002fv+qONnKm8etXZek2tm4BRa\\u002fkgqIoiVrLg0H300\\u002f\\u002f2snTuz\\u002f9RW0KF6G7vuU5H4\\u002fHBUthbMqMnCqAKCiCqoCbq+p8pXw9uXz45ec2yNbbb7kgRbtVFNsKFARW5ZwMeFd\\u002f89X9Bx\\u002f\\u002fqdVqba9vb+7lieWf3X2Pf\\u002f2bZ2en08nVfHa9mE2Wy2VZlt57BUWkhPPE2qIouNvrHa8WVy8vSvGdtQ1EzLNstL7DbOtylefJ4cGjz\\u002f7+N4pxcnX1\\u002fPws7YySot3vDX75q\\u002feJsKyWq9V8OZ9enJ+eHB8ffvttq9Xa3d0bjTbzPB8Ohwyc9gfDi6OTrFzNzp9eXFzcf\\u002fDg7t33ilbX1RUhfP3gi+lsEkKUKAigqt75hS6LAlKb561ub7CRJTYhO5uu3n9\\u002ff3Nzs93pclaISJZlXAVJssIwB++Uzcvnr54cn3322T\\u002fJWDa8PuyDr5hgPpuPOu0kTZAoShQXrU16\\u002fYFEqarq4PGjTz\\u002f+y8nJ0c7OravxawXkrMXWBu+5v7ZxcfiIjanKFSRsGfOUF6s6eC+czCZXsVr2+n0nWtX1YrFgw4uq7na64uXq5cVyOX988Ohf9z4\\u002fOnq8XCyOT59Yy6JIJjHGhBB4b+\\u002fOwb1\\u002fvJ5Oy3G9e+c2IRIRIqiKaAgutvJsNp\\u002fPl3VOdP\\u002fBg5NX005v0CpaCdqDg2\\u002fGk8uTk8Px5HXUqKKAEGNUARVUVSLiwmTbe3d8noba104ns8or2jzDKLGqA1k1KaeW61grPTw8fH3\\u002fyyJvJ8yqWJYr0agqxlgAA6SqSobBIKiqKgByNV\\u002fd2tlr94flRXk9ni5XdQgBCCV6icGBjmezJLFIWNZuUVe1r0OIBkgRmmZFRBQIFQBiFAAAUABQVUTguirZ8KA7CFUJCquyTNiUVSXes0FEINKqWhESIDrnmpWiURFBJDZ4qgJKhIgI32VAVQF4tRqfnhzmWdLvdmrvaQLro6FzrlytnPfOeWZjDHkfQohRpFkqAoAKiKqKiCqCdAP9hqDpgr+498mzp8eWdbmYcJa32+3d7e3p9WQcY56n48mECEKUslwaSEC1WY8IgNgQQKPITR71Rv0bGnry+OHzs1ODmOaZ98G5yjIhRIO4XFVKJs1yANUYnQ+iAIA3iHgT34F\\u002fH28IiIiuzp+FpQPhvOjPpmU7b88XY5tgVVWlgzTrTqcLX\\u002fkibwkZUSIgBGwA\\u002fk9xUCL6IXpDT7OyEtXZZBK9L\\u002fLMWlNXdZKkVVVqNffLqQanCkE0RAFAxObGeoP7\\u002fbMhIqIfJkWESudrv7i+eq5udWtnY29vN8\\u002fbV5fXEn1BvkVhb2crSfPSxRAF3tRFhN8N4A1BFGm+ijRmBUTkUE4FCCKhBmbZ2t7aWNv86MmHO9s7uYVV5ZY+BlGB74trUJoCVRURAVSbeomgkZ6omTbfXitGw6I\\u002f2LRFt4ru8urVW7f2927dXl\\u002frh+if\\u002f+fR1WTuBJAIUd\\u002f4paHCxkwIAIjQCIgNQXMQAQDv760VnbZt9U+fX72ez1ZLd3n7euvW9uXly6OTs2cvLwGNolFpKv0+VJUIFRREGiLRqEoACoDQ\\u002fIvArV6L0v4qkhhiTPLUzJfTpV8dnRxfX8+CKAAiNHLfdH3DhKoITCigKiKAiORjiCqEQMACCqDcW9t6+mJ++uIyIroyVKWbLCu0XPsoCswsEUVEBAClKVybQ8aQqCgw2lSjGESJMURVRVRCZEQBjFwHOH\\u002f+6vzlpRMFoeBC0WpxkOhVRcmSCoiIAiBQM0MRRQQEBdUYoyGDRAmQGlRVEZEo4mpSIaNcLlfee0KK3gEIGzKqrJAASpq6EAEQQEEBEYiwcSARIoiBSKAUK0OYMzMbRBO8D1EAPIAYg1wt5qEsMYoBjTEgGvU1EwKCplnQ2oWggAAQG1dqM2EUQAIoWAqL3SItioyMYWYiUpVGQ5sQS6iGXcssdQCVxBqbsE3IRLHTEDLLIUPnJHgVgdgYH9AYTTj2WtnmsNfLOUsMMSGiMcxsERFJjTHGECP49WGyPrIikSA1xAAgIiLSXTmbtoiwrqKrb9BVlcgklvLEt4u0yAtjyBCRQUNMZAFIQYEAgFSUQZWZmMnazJoUAFU1xuhcMMSdbiHqEAyAQYqI2uwmQqTGvzdvaIw1ZIgsIhMhEioQKDISGWOSxGaZZWMRUERijCpS2NwaDDEiiSEgQiTCZhMp6M3YDSECEpAhMoSGmn4MghIC\\u002fQ8Lmf5UXbNx3wAAAABJRU5ErkJggg==\",\"type\":\"image\",\"xaxis\":\"x10\",\"yaxis\":\"y10\",\"hovertemplate\":\"x: %{x}\\u003cbr\\u003ey: %{y}\\u003cbr\\u003ecolor: %{z}\\u003cextra\\u003e\\u003c\\u002fextra\\u003e\"},{\"name\":\"10\",\"source\":\"data:image\\u002fpng;base64,iVBORw0KGgoAAAANSUhEUgAAACAAAAAgCAIAAAD8GO2jAAAH30lEQVR4Xi3TWXIjV3YA0Du8KQeAQ5GlaEV3hH\\u002fsHfQCvP8P70HtUEtiFQkggcw33ME\\u002fPns4+M\\u002f\\u002f\\u002fieak5o5TMvy9PRkZtu2EXpJsT72KZWUKC8hx1Kr1NprO5BwXdZcisjovec8\\u002ffxx+fPPDw4ZOTLzGKP3\\u002fvX1Ra3f3Zt5Z3YHfeyb6JjmDOQYcH1ap6UwQyI7r8XlIO\\u002fTlFNOXXrrNZeUSwSw9TQz4xBRVREZY5hZCCE4qBpIa6XMbHGa1vP5fH88utQ8lylmdmiHEvr18mk6YowDgZmYOQRuvZoOUzSDnJMcYmYAICJmhog0ldkdiAIiAhgHMldEn5bSpSvoMDk9P5XTernfMSVKCQNhQE40rF\\u002fvl9YqoHGA89MaYzAzZg4huPvpdAoxTEawnKfjeBy1btsNwc1NTJZlctBpLhyDAp3evgOE7XZ3ssg0XNT17Ze3BGxqZjS6qIoZikgIofc+z3MAjOuaS4gxxmF7DNRHA0RzLdM8anscx6PivK5G4XE\\u002fpvPT\\u002fvgE89P51HrvvbtjSrnVWqZspsxRVVLKOecxBg01BatSzbuN2o599GEO67oisGpQZ+R4vWztfqv3r8Dwuj6d0xQMWaHu9bJtXYQiKcq0ZgBFchExB0Mgd2+9AfqyTKdlWed5WZbL5frz508ELLEEpBJDipTIpog6akkRHXptzFymqUyTAczL7GDn8+qgpeSUYkoREMI0TdorMzPztK4h5WEYY3TV7esSPCbS5ZwZw9HG97enai46Qoy11SmXAEaIIuN67bXWGBMHAvQQiZ2GKc3zrKYi4u7M7A77fjDzUmYYpvuO7fjl6WStvT2f\\u002f\\u002fb+9u18YiJxCykagJqp2XEc7h5j5EAhkJkCuEg3syAiiDh6v906n2ckBfBpmsa+v72+cJCoe79tx3YskD9+\\u002f7jsg3KJJZmbyjhaTcTrui7LcrttKU77o16vd5ERU5IuBADLsnAIItJHH\\u002fL\\u002fU57OT6O26OB1\\u002f+O3fz0vr\\u002fU+Pn7\\u002f\\u002fPq4jSFHr\\u002ftxDJGUUz0qEe37HmNgppyjmQBoSjHFRGqCBBw55jyGE3EpeZkzIGyP+3V\\u002fYJ6PAb\\u002f96\\u002fe\\u002fPq7IaT6dn9\\u002feaxc1l6GmHiLv+2NIZ8b7dg1MOSV3aK3nlEh6HaMDgSE7xqP1Zclv385dm0bUkmR+Sq+\\u002ffF63H1\\u002fbQJpfVw2Q5pk4ggKILetkICHSkKajoRojja61djAIWg9gjjEBgJmZjsd976OJGTAL+mP0t5f3khenw8E4emv30Q9XCcTg3o9aUgpIDi6tgzEBBg5AXI+DUIbsdTw6isXE8zIDIgI\\u002fP7+q+3yapyUtp+n1+bXEKKPebz9zBGn3ABLJ2PW4Hy\\u002fry5KXuh0ppNNySiGgu4kBAKWYUowIbiYxERGIKGEEpLf3N2JIM6v1QP7t5VlHv3x9SW2kuk4Tu7PDEqfHZZOjg3jmuF0vvbbR+mjNzSmWdX46cYHhx3HcW2v1aB8fP7f7fno6h8R7vTvWUuDYb2CAGq4\\u002ft77L7edm1YKFdq8\\u002f\\u002fv2xXx+Z8u3r+uOvj4CUYyJEACcup3uvlqScAoClGGJIqv759fXHX3+20T9vn5zgP\\u002f\\u002fr15TQxOquXz\\u002fu1mD7fGxf++XHbbts2hWNIsXRBwIycYqBkACQlDjP0+mlvHybXQ2GgPTAgNrbdvMxpPXH445kZUroJM3dZFlzrUdKWURHF3PYHlsdVQANyQOkEkSbjB5CxOMuDJpDXMpC3cCUIp\\u002fmc0wxM709v85l3mt97EcIMQyY5\\u002fTt\\u002feny+ekgyNjV3JVREYbFOAiN1AE5oIkGllqQ5KZ1dBk2cXBwBUgpnc8nQH15PicO+3Y1txBCiKJGt+sgyu\\u002ff30NIv3\\u002f+T0yFp9hRlvO6LHMf+77tueS6W\\u002fDjTmO42uNonNJUJnW7tSPEYGam\\u002fXO7PT+fCfH19aV37ze4V7lxm+b5cruoO0+JpthAACCYuAiir+v09bMCIIG0SP5yenlaX2KM+3GY2bIsxOzgU8q\\u002fvn9\\u002fPT+ZAjPOc\\u002f773\\u002f8GZGUuznD04+gVCA0dCAzNXImAGELkXOIYg8aQXMIYTURa7wCuqmP0230bfeSYM7EPEdGc8\\u002fk8c9RhByY5v8wx59bH+TTPJZccA+P9fl3XGdB7qykFACAI0ciHdTEJzCklM+197I\\u002f9OI7ArENAPecSU1zWotb\\u002f8R\\u002fvqfhyTmmKte6JsQTOIZznqeSYciqlOLiqhhCoGxBPOc9kPsc8zVOTjmiF0Ooh0ix47fW5TObysOP0fX1\\u002fe345rarNSb99fyVUMB9HcxmIGmNs1cADAHDw0EwolAAyWkf3IZJKBsIEOKXITB7pft2imrn89sePl1\\u002ffetX22DGoqofAaCQiXboTtrYfxz0wi2hMxfxBZZ5u+2OXnuYJmcQslxkwGFBeFgM49qaqhmNIP5+eXUJTb6DTNP3y+u2UCyL03nofhPz68lprddfe277vgZliCI6gCPtoDrCcThQyclbivY0uNrogYl5yTImcUcNeO+fk5iVGVGV2ZlS1MSyXLNrUxExqrUQUgmNgQjAHx0Dq4BjKPDn02nbYHiD9POdtb+ZYa4sQ3MzUIZKIiMnb++vSuP3vn6YgIr0fMUzzUpjy5auFGQM4IKHHZOhdRC0QsSNTyjEG5mBql0ulyFOZkCA5oDoCNlNMYZryz6\\u002frPC15zqp7CAxoAAZgCPB\\u002fev6zuLnnLgQAAAAASUVORK5CYII=\",\"type\":\"image\",\"xaxis\":\"x\",\"yaxis\":\"y\",\"hovertemplate\":\"x: %{x}\\u003cbr\\u003ey: %{y}\\u003cbr\\u003ecolor: %{z}\\u003cextra\\u003e\\u003c\\u002fextra\\u003e\"},{\"name\":\"11\",\"source\":\"data:image\\u002fpng;base64,iVBORw0KGgoAAAANSUhEUgAAACAAAAAgCAIAAAD8GO2jAAAJjUlEQVR4XgXBWY9cRxUA4HPqVN21b+\\u002fds0\\u002fPeImdzcRZEJshUoSSByQk4BEkfgMPiF\\u002fBGxLiBYkIIaJIPCARFIggIYuTOMaOMR4nHtuMe6bd0zO93r5rVR2+D3\\u002f5q19vr9SkXvhU9jbW\\u002fbBzOMe\\u002fv38jHs+iauOtkxY99Z35p394Rf77pz\\u002f+SRo0rI0lyPHx5De\\u002f\\u002fu1sMv35L362u7tz7dq1c0+c9z2\\u002fUqmMx+M4jrvd7ng8dj1XXn7yohL2+Cirr2xYkACiVa9+79VXhv2j\\u002ftHjc64Xq\\u002fFKr2oG5fuffOC3N584u1Vp1D+488m7776L1v7t7bd\\u002f8MMfPPvM01maojUOiSjwK74bBr5D7bIs5Fa3bYzWaYYiMAyIKnQdRK6d2dxe755Tjb3TvLH9dGWUDwajZHzCm6uu62\\u002f1dnvb2\\u002fkyfvbZS1mW+K6MAk\\u002fr\\u002fNGDe2ElchynzJYEqK2WukiTJPU9TwpiZhSqSJez8WSl2\\u002fUCanlyw1cego2e2GxvzdLM5oUu7NPPXLpy5Uq7UX31tVfv3783PBpEgZsuF+PJpFZvGKOlVFrrZBnLG7eup8sUtPVdpxrVm\\u002fWvpPPxo\\u002f0vUGdhEPgqDgOfpJX1lqqI7ODB0aAfNDYmcXHhwoXXvvtytVZvtdrD\\u002fsF0dFQNfcEmmU\\u002f9wC\\u002fSHAHRannQfyBBBMrNl0YAA7JUggjSdAlgWBU1jxkVuz45cqvXC6pV8KJ8NHj++Reiat0Uen1tJZvvSLYuAQMX2ihJxhhgBrb4zp9fRwZCQmbXDTe3d4jE6cmJVEoReUJ6YcBKopCCBSIvWZ0uREVRp1VJCy0sV6qg88wkhrBkNIYZ2VqtgS2ylk\\u002funiNJzCyEsCwAKPAD0RZSKUdKYaxFZgECmFiDdEoR6NNZGEauJFDe6TjP5nk99C2myBkIsAYFCiHIGraM8t7tu47vVGpRu9MWwvXcQIIEDQDMwEZrJATLzIYAyPWkoFroOWRZ6\\u002f5oebefbm341YpPsgBjEQQJQjaWgS1bzfKPb7x54eL5yy98JQy8MCCdZSzJlWSMEUQIAAAsyFXuZHi8eDyN1nfn4+O3\\u002fvG3WcqnvOrXt9ZXnyFmXeTWFMxsSrZGs9HIhtnK63duh83oOb4UzyegLWEWBD6RNLrUXKKxJcNwNj0+mSSLtOIHXeH\\u002f\\u002fvXfffjBh6bSq5\\u002f91uWgnY4Py1ozOR0V5dLa3BTaFAXbko1mZpkilwJqzXqzGjrkAAhCE89nWZYhAFlRovzLO\\u002f98572PlFO5fPG84179\\u002fPNb3c2e1\\u002fs6186fHN67+s5n8tLZxWga1qvVyCFbWqPBlNZoa610I6+91lKEUkhGgcwWzDKZ5cski5PD40kp1aefXD3Y\\u002f\\u002fIkSf9796ZCWtnora30hhnXWrx399pMLHYb3evXro+z6UozevrcmecuPcUmZ1MYXcpWo9bpNLjI2QJIKQCBgJR0CB3ff+\\u002fg5md7d\\u002f\\u002f38IEyhdXL4Sxr+PXTyZQPjtyNjiPSvbs35eZGitXG5tm3\\u002f\\u002fQ6lNne3v7WztmVbrXMF4KECFyvTDPBICzkaZrk6Xy5nMaLZZZG9Vp3de3z\\u002f97JtV1f3fLJ98mt+B4XabcerLfCz\\u002f7198X05Gjy+I2\\u002fvik8OLu2RsYeHB3e3ruDQghEJaWMF4vR8UgXZbxYfHTjBrkq10USzy5ffFKzbTYbgGKRpJ0KO+R6gd+IoiyJi+nxNL0+fvQQbTmeDgcjsZj3XGCrdVykh8OBMUagALYyK4tZvFikSb8\\u002fuPmfWyrwkixBNud3dkqjK75aX23\\u002f+8btPpNmboZhp9GY6HR+fDCIH+SLTIIOSDllcv\\u002f2zfHosQYb51mS54atRGTLskSOi+xkNrmzt3c0GrZWukmWnI6G+wcPQ+Wu1qo\\u002f+v5r\\u002fcGhyTUphQJNnutk4aP22ZjlRFjdxCCYzWdFnhqT2CItC+U4AMDWMrOcLuODx0cPjvon8bw\\u002ffCwD7+z5cycnx0REAjylX7x8\\u002fltXXugfTAbjxWwydbPEFJkmgxqaVa8oCtdYz\\u002fJ4frzw5SwvDduwEiKiMYaNkWzYUa4KgoUuMraT8VxYuVJve8b4lPen+6ZiOx3x2bV5qoXryiyPGYzVOF5kMoy6a53xeD5Ky7SwQphUW9\\u002fxqkGIhvOSjWWJYKAsVFEG2tY9b5nFJ5OR57tJulhmsy9O90VmLWWlXs5PY7R55DpSwGKZ5dpGod\\u002fbWss73c9v7cmourbemd79MgzCZrUKxgAAIEnpo1d358UMSMuqTMAMzRSxODLztk2+nC8H9wcij848uVHe2h88nmrAZsXToOuN2vbaaoB85esvVaR6\\u002f+rHgbsZeN5Ku7XW7RBbiQAAsrXeHqv849E97YPZbQijH+mFoxDL6en+7S8PT+7fGzZk9p2Xvr3e3Xzjzbe0IAvw0vOXdrd7K90OpMtzK+3gpctXP\\u002fzw\\u002fr19YF7rdNqNOgErgWBRXjj\\u002fxBfTgwVZpxZ1602RmyQtCBDL5OF+P5+VtaLlW0Vpttlor7a6h8fDTrX5zM5mqxpExDL0YTHpePTK11586+qni7yIfL9IklxYC8YKIe043Q07IZKnPfcUXC1dvyEF6XyuA2UdLdoNzxGYzxTAxbW1eD79xnPPPrW1JvLUl4CkfCVQuS9\\u002f86s3H\\u002f5v8bBfjyppHCNoIZGllM3EYMmhMQGyA6RAVCLXUW6ZoOc0nAoSVgQBS4noX1PkkFhp1rv1KpU+kTIogFEqdW6ncabXe9Af7G5vVSshmtQC50Uhe45rjCGBSkhF5BCBToiMG0pEsEIgMQgkGQkkK2xWFMboqFYDI6TrgwADyhFAjqjXojDwu40aIcS2tMysrVREAhARgQRLaZVyHOUFoXIcUtI6DpBQUrmeS0S7w9nWaCIdv9Zsl5kmx7NgMo1sSwCw1lSiiud51hohSQASShk1m4DCUdLzfOm6wnGklJ7nSSIk0gJBIBEJIRCxUq12252stLlFw2xNacBoltYYJGEBwjAMgoCZLVtrGS3JjZ0zDKykAgANYAQyQ8YsLAuwnDMCoiMMaACMp4s0SYaj8dFoErpS5KlFZgpctCwoqlWV4zBbAGTLAICIkhWVpTZWF3mxzAvDmGZpmmZKSRKk05I1O67DzMbY48HwdHR67DsPHh3WAodNzsCowoojPV8u0zTL8zhemsC1YBFRGy2TvNDGZFkax8s0K4wVaZZmWcbWMiAAGm0AQDkOM0tXndnZOXum115Zd0lDmRprmHxTZl\\u002fc218u462tjcPDfnE6zDEHRAXq\\u002f4Sbo20BT8ZQAAAAAElFTkSuQmCC\",\"type\":\"image\",\"xaxis\":\"x2\",\"yaxis\":\"y2\",\"hovertemplate\":\"x: %{x}\\u003cbr\\u003ey: %{y}\\u003cbr\\u003ecolor: %{z}\\u003cextra\\u003e\\u003c\\u002fextra\\u003e\"},{\"name\":\"12\",\"source\":\"data:image\\u002fpng;base64,iVBORw0KGgoAAAANSUhEUgAAACAAAAAgCAIAAAD8GO2jAAAIfklEQVR4Xo2VSY9dxRXHzzlVd35Dv7End2O36bYdBxtDICIEJVIUoixYRMoinyGLrPKRssgiShArCAoBkQEwiNhgW4Db7m73+N7rfu++O717azhZdBsIYcF\\u002fUaoqnTrDr06p8A\\u002f3Ums0ACAiAyAgIgAAMnwXMf+fHYNlq8Bqa0GxlAItEAAAIgAgwGkIsgBn628Tnw4MjGcTAABAQAZmJmIWjJZASkLLeJb214R0duJb9Xj7cZ2MZzEBGBAYUAMyW0Ip6NTqm5We+v+u+t88LLPVmoxBFJKQGA0CA+CXhghACAyP83qcwSmBx36+8npWPwMgMDBbY6pSlRqlK4EEs5GggYHPuAAyCEaDaL+Ca\\u002fEsAFhgPBV\\u002fLQgDsdEAIJDQqDKtZuD5rkRmBEIm+BomgVClCQp0g8AwMxLjV5dJ3+DHAHhWLAMCE7NbZPEsLzzHlQ5U1kpEAWCILQMQUTw8+ttf\\u002flSv1TYuXwpazajXC2ttw8hoCQCZvmwcgjNUjGiIAJiYmeX4+GBr89MfvfBLSXYqsYkACJaBmVmgMxkd3n7vbZ5VD2+vNJbnzz917YWXfoHoG7TITGe9z3gGHxGYERnJVNnR\\u002fv58f8VU8db9jxthJPcf3V1cec6yRWAEAgA22uiy6SEZzga7x9OD4WQYyMa1Z14kjxkMgjxlQ2dkGJjZopC0u\\u002f3Ze++88fzzP97ZvDPc376Zl3Lz80+Wlq8TOqfvywrSs\\u002fLzWx+Ryvu12tbgADCy8fSt116NnOh7N57SCEjICMayYSOJEImQBLAup5\\u002f95993P343jff2d3Ym8VhZI+PRwMymMuhbC4gVk3MyGmzevll3ZdPzjkdDHU\\u002fauW118bMP\\u002f\\u002fHg3q3aXOv6s884gW+JAEFZUxZVkaTp5PjR9p27H75ri2Swt5UkqR+FJK08Od59+OD2pasvIQUOkmB+tLU1mUxWF7uQKWZgo4ssbrVbZTz49OYHrkvj+7f8KApqAVieDI+LJNvd2UmTBFw2Oie0mnTNqxeGrS1kVYz39+6uX3o6SwsdD0hSOjoqq7K0ZjwaxHkahpGUiFyZLO5FjrDlePOTssi1KpkhiGrtemiPH+i8Wr981Xf7aZFvD08mKsVI+3WSVZHsPLzz4It7nujd\\u002f+DteuCQ0lrn79\\u002f+uFdrFWxMmnb7PaOqLJ105lqmQqgsFDoklr67eH5B6GzPV9NS2aqq16Jz3U67PvfH19\\u002fsr\\u002ffnlptEzJOTw8P9vdV+75WfvrhS90QxkWQy0JUnFi8+kauqnGlHeI7ns8SKhHLDEmRpWAq35no1KXtzTSIaTcaD4eFkuLfY8Jq+V+Zl4HvSVKJEIRypbeH6biOUizW+0Av9IHDqq9efXrQzqmYzScSqGk0GB6OTMKx5rKAsfOXGJ0NUuecEVaXyKgMZjcej9OTQRUVB1OgExODmGRazZDDaHueJXwtuXFm7vNyRZb4yv\\u002fjkYvcH19aMTpJ4VKVTk0\\u002fHR\\u002fs7Dx8Mjg6nWVJUxSSb7h+Pj6ZZVlVJPtXA0g+yfGp0UW94QQ3l+tWN8SQv4qNPb48+GAycovj97377q0Y013knGx1Egy82arNNH3Z3tsXKeaW5ZEqnSZFhLXBI+EmuTyajrFKTbOZq2NzeXek0HUeUxkoSrLXsLLT78z2wOI3Hw+lBsjfeORgsdZde\\u002fsnPHt366GT\\u002fFvXmFrut+5v3tAUNmBYFSqqA46IsjkYCKSljGXoYOONpkqVFWWRLvVqujBe4QpIE1AwVowlqOL\\u002fcDyhU1qTxGNl57ue\\u002f\\u002fuLOfKlK9+Z2UAsYcRJPtNWn3yIwS6WQMOgGN354rdfuvv3X9w8fDfdOOJ2VSmDUCa0ASVZXpnQ8yrNUsxW+++prf76xNj8YxP0rLwWt+Q\\u002f\\u002f9dbOaBTWo7K0Uehr0J35DgkhpOMKsby8cO7qQnex4aGcTJI3Bu8qK5IS+08s9Ffb6FYyzZN8lqOANCuApXH062\\u002f+\\u002feDe0iAt7J1NDbosY7cdVIfjPDUF695q+5XfvIw+kgiqRC90W4WYFioNg3D9ysV\\u002fvnOzTBzyg42rl\\u002frtdqESKR3JubUGEMnxKQiC9e9vrLWXaTqYUDXf6YadCyqfjfeT5GSiLcdxmswy4UJVTdE4R7HW7gwFjLPCSA7rYTzIjIXxaMJqWRghdVnWglBKObPaKEMkW91WUkwvXl81jcAjMc5TJ2w2l\\u002fr7W\\u002fFKf+EgPjzYP+55NQu62QyFIBnWDBvPDR3fO3fx3N7m52Bpd+egKC87kUcMEISh6\\u002fnaaAAjXRE2ovbifK3TY8dVFoXj57rsnOs7dXn9+qXOXEtVttvp9PrtuVbkRkK4rhdGLNivB09eWas1g1a3joCGKZqbk5rAEEopXM8ps8wP\\u002fXa\\u002f45cgHI+VCfxAWK2UPnd+Yet8tznvX72+EUZBvdHIZ0lVzYzVSA1juMji0A+Cmrt0obv6xPL+7uFwFIcLkRSBm5vKk1hrNgSwMgodypMksq7vAagZse23mzoUV5\\u002fdEC6stVZ2hofxeOx4ripLbWah1zDa1IMI2UaRt3yxt7ren2bxdJrkRSHJgXJW6VwZzxG+RLLCETKcm2nlOh5KFAYdctDhjacugDGgMecMK9tshMd5oSomY4TRjpAAHEZB1HS7883llXapSg9BAmtEVlqXlRECpZQGrUKqlCq0NsZGUaiUkkJ4dc9aC9qeW1vwA5ccCCLf8b0iT7XWkiJCS8JZWOqEobd2cWUwHHoOSaMVGwZrilkFxIRERNqYtJgppYChPqvVwigKQymdmSo911FGG6tIQ1APInRnhVRKEaHr+ghy9cKyMSaoh4v+Aggr0WqJAhBH4xMQWG80BNDxeJJkMyml47jTNGNrla4azeasKrVV2lastes7HlnPFWwFCWuM1VYxVAxYaUvCkY7UUP4Xn54Ah\\u002fhhOPsAAAAASUVORK5CYII=\",\"type\":\"image\",\"xaxis\":\"x3\",\"yaxis\":\"y3\",\"hovertemplate\":\"x: %{x}\\u003cbr\\u003ey: %{y}\\u003cbr\\u003ecolor: %{z}\\u003cextra\\u003e\\u003c\\u002fextra\\u003e\"},{\"name\":\"13\",\"source\":\"data:image\\u002fpng;base64,iVBORw0KGgoAAAANSUhEUgAAACAAAAAgCAIAAAD8GO2jAAAHjklEQVR4Xl1W228exRX\\u002fnTOX3dnvYju2QwwhwZQGUrBIqdQWaCVQ1YuE1KeqDxUvPPbv6nvfeKrUqqjwgARJoGoIVUJuOLZjf\\u002fbn77K3mXP6sBtH6tFq9syenfObc52hNcMAoAoiZgZATxlV7aZEBOCMJyIhKLp1evax+6cjEVHVlJLtBU\\u002fFSlCCAvRUBQGmX0XKBKIetv+IfkbdOgDUgQIwxthnfzwl7QYios4gELgTS6cdoP9D6HfYCQF9ZrEVEDobzjwAgBwbBkESA4ZYLZKCQCQQpkQkqgSAuV8HKKhzbIcPKFTUwnCnvVPPZECOXG5sbkYbF958Z3D+yveTanb4iPdv2ePvqJm2BEmRKQFEpGcB6l4g1d7HBBJa9a7fdAdgPNncZKEYnX\\u002f1V39c+fH7R3uHu0\\u002fq46XWs2PZv5U\\u002f\\u002fNQsHyWpWZVFlVoh6QEUXeS67FBVKKyIdDnTY2hkqS35caCNatff+qSc1ley8cwMHkr7OJ6bb76XN7f85BtXz4Q0ihIi0LlIuyAws4h0oLRiDROBiDsLupd1Pit2ti++d21nkV2etbR7sP\\u002fg7uOTmJdXf3ly\\u002fjW5+1Xx34\\u002f97E5sa2irUFACSZccZxaoqmVVJoIqAUx9lnBKUs7vPbg320q2\\u002fnIxaaWqXrNhvLX1ZGP6WZLv3cu0+hZVxybuKhnVFpA+\\u002f3ozet52+dUFAAD1DzmCSru2Hq6O3SfXd4swZmi73Mtu\\u002fvWNcKPA9kOMl6M3Qzsz7ZQAUQLkrO667QOwTNS5qBcwKTMZVmtK0Ld79a9\\u002f8uZbtProsHywPz0qT5t4ska3fx4ONoebd+0G844eXpc4AQHoXd9p74rZWmt73cxMBGYwGWOMNWzD9Qf6H\\u002fejn3700Yu7R9mX\\u002f8b9e7FZxnIms4Nr2aPLg\\u002fo6VubV0MynbTKizZlzOq+oqv3htXdFtY2SRCRJB6sAQGz8XOgvH3+Bte233th559z29vFkOZvMDnfnh491+sQXa6Pqhb99iuphctVhVAOQqpyFgZnp5te3RLRN2rSxaZoUY0pJRFRUBJLSZDIJRXjpxS1NbdvKvXv3H9y\\u002fPyqspHK5nMOvfPWg+eLLr+snt019IKlJgg6jj8Hk0U1l8j6sr2+YkSVyzg2MMQCJaoxJ0jnAHOwdTE+m8\\u002fky1eXK0LOn6zfv3rzxtUnRBxckl2Krzta0fGzKI0Vfe6pqb3z+WTEeAbSxvlkURdvGwWAYQiBAVYwx1rosC2tDE0z+qJycv7jq3aZqchpvf3Nnf3dPJyVInQ3s11GMYpzGtgH61meLfJBaQLSaV8Hmwef1YhmsLwYFVImIDWmsYkuISkohCy+88PxsejT0NrNgk0i5bau2rag8gUIkggQqICXA3rlzJ5ENWbacz\\u002ff39obDgXO2qevV1ZUkyfvMORtjnRIGxWqM7e3b3ySJp8vFjW\\u002fvHx7tx+pUEvWpoSIigIAUUEBBoJdWB9Y5a9n02ems8yEEYoBhrTWGISKiIRQpxcn0lK0nP64lPz16vDzZ60oVkK5V96oBVaiSVQptBECLqkwiMUrTJlXxzpMxzlpjjKgqNIRg8qxRgpGwEopiZPhYkrLtFJ+FticiIhhrirG11md5DmmqeVvXoY0Kl41WyTAbB+dFVWKTFWM2Hm1tXQhrF4AUqTu7CFCAoPyM70dYV5xzzoesYE31vKwbZeUsjIarF4VsVJAPxiJWC1uMoaqYCmXGBpFGiBV973zaxjrmbIQNgw3rDdrZw\\u002fvfnp5OUopEcIu5WLux9QqbAnmeO1+TFxtEI2Ohykw2kTKsJQJBkai34IwUIBDsuz\\u002fb0Vh\\u002f\\u002ftk\\u002fY7301iUGEYhQTQ+aYbH6\\u002fGuaDy2TiVmtHOHIFMPgnzs3amKjx2Odj0XaJBUUEOrirNprV8D+6Q8fVCeTxeGj08WiKheQmsgYGwb58O3Xr7z9\\u002fi9O2yGTacv5tGwS0Xwxv3jh3Ouvvto05T\\u002f+zp\\u002f+a942dUqNSANNzKwqMUZJSaAKWOPyzQsXPvjtb+ZlvPd4t25rho4H450rVz78\\u002fe8uXb3SYFzkIbWLg5NlI1SWc2P10qWXl8v5wf7V6XRSlpWxVlINabz3RKZtY2yjiBCRdUXmHG\\u002f\\u002f4MqfPyz2jyaPp6ez+enlrQuvb196bvN8cgOC48zViZVpY309yfjwcL+uqyhSxzhbzmezU4ltW5eQ6LwnopQSVEHknbOZ9yD4MLq4ffmVnWve4bs7d0fjlbVhBut8yJrEzru6zoYDXRkPYkonx8eq4jI3K+sHuwfz6XGznGtcqrYAVLVvxYCx1nrvHVNFddmirVIh5GwAZVk2dCETY2E8sVFVa11dpzYmwOZ5EZGYOcYEkDFGhFWNpKQKAoFYVVNMVmGNscZnwwzLSJTk3Ma6LcYueGauW45ESjEqhKjVSJbI9lcD5zyTg3J3kVAhVUMQRepSlYgsUxaj2mwY8qFGBKcxxmTzaNiQaSJaVbBUde2zjA0TkbVWocy8srJqrE0ifVHh7AbB+pRsWdeD3JNlW4yGSMypPa3zvHA5G7aWY7UoGc4aD2GCadtYVU0cpDy4lGKSqKRKqiSg1Pc9ENAf\\u002ff8D+iKaD7hbZ88AAAAASUVORK5CYII=\",\"type\":\"image\",\"xaxis\":\"x4\",\"yaxis\":\"y4\",\"hovertemplate\":\"x: %{x}\\u003cbr\\u003ey: %{y}\\u003cbr\\u003ecolor: %{z}\\u003cextra\\u003e\\u003c\\u002fextra\\u003e\"},{\"name\":\"14\",\"source\":\"data:image\\u002fpng;base64,iVBORw0KGgoAAAANSUhEUgAAACAAAAAgCAIAAAD8GO2jAAAJ1UlEQVR4XiXMWW9k6VkA4Pfbzl7n1CmXXV66bHeP7fRi0+1MJoFkYAitsCgSEhIXiDsQf4M7brgFiSuEuAEhERQlKApEowwMM9PdyQxNyPTm9lZeyq4q13pOne1bXi54fsBD\\u002fuyv\\u002fsMYTQCAaE0oghCIdH7lV5f7X1mfDgeffPppVeSNRsNxHMuyHMe+d+++JVzGBBAEMIQQRARASgkAGGO01lprYwyllBNUFA0AUEQCYEAzCpZjCe7++Cc\\u002fPnrxi\\u002fl8TggnhAKAUtKgXn365PHj7+w+eFjJCsAoZYwxjFGljFIKEQGAogYClTKcU4IAAIQgMDCUVLN+5+j4l8OLAzXr1xwr8GuV1IiolGaMgdHHJ4fpD9KiKPf2foVzbowkhGhtEPX\\u002f7wRNMU9vxqP+ZMQ5AUMJIKEUOJFHXz47\\u002ft9PslEPi2oxDlpLK9xxhWBJMlNaM0ormRutx5PZv\\u002f7ohxfdy4d7D6OobglBCSAapcrxZDroDfrX3XEyK7TkjDKDxgLGdP7mfz7+8umHRTpQCjgIQp2FxVatUbM4nc78bJ75ga+1coWNCJP5PMuT589\\u002f5joep7S50HA9pz\\u002fqda9uxtOqAMq47bgRp4T7QHTRe\\u002fHFx7\\u002f8\\u002fEmeDNEYImxuu7bv375zO27WGWHGYJ7nVVmeX15kab621LK5XfklJThNZq+Oj7a27kVx86o3HozTIFyMgziMoigMuU2hGo8+\\u002fuh7yeDEs4nrLPtBzQ18CqYmeGup5fq2a\\u002fmO7URRJJVcOD4+OzqO49AqxXSWVbIYz6ajSbK1c7+9vvnk2ef15vqt9nqjvhgENc4Yz0YnT376w+nohnF3ub1qeXFg2whVUaatMFRaVSWMev39\\u002ff165AEhjvuVteVGJpPjXqcgs9l0ZLxkpV3b2W7vP3wPNeWWxQVh1KaUaq35s89+AjTffrAnq8KgUlKmVamq1OgyXFvzw\\u002fCmf33w6uVp9yTwAkTeu+4VVWZs\\u002fbZ3uLrZ2mjXXc+B3JqXZ0j2F5v1vKqMMagzDRwB+Oimt35rZTwdB4Jkw2upVFgLW\\u002fVIEFfL4rx7CWh4PRyS7PDo4OT0etK7cYQQHgNRrLSbzekwz5N8np69\\u002fE+mWDJVUT2uCssNXe6EgJTs\\u002fupjS5eEQBwF9dALw2hxcdF17aLM+8NhXpZu4J\\u002fPevM8mV8PuqMbbpxyUlKDFteLke3bph45rs2CICgrkc2rtbXWcKRKEXzjW99cWVnlsU1jL1hdWfaDoNlsGERA5BZDwquyePPmEBi\\u002fHHd21rz91eatRe9tNxl0R1AAR9MfZAYogSkFSanmTAgh3NcnnPkGyfn5QRSF\\u002fOuPdtqry4aJZJZ4nq+NNtpQTomUWVadnlxGCy3GrXf3ot2l+MMvxrUwrDULmSI1YGNGCYAiYIoKVGk8L6xv77bv7ez1zo\\u002fm444fIG02amHk2YLalrAdm3FOBZcGjdagFQELbZ5rub+3\\u002fNu\\u002ftXPe7c7ywgsawvW4K8CraT\\u002fWfqz9FveWfS+qBcHW5jsb7VWrZtv1hSisU9uyETUjmhptlDRaaaOMMYCaEbQtq9Qp0tIREszMEgTAcGYzwjghgJSAYVQTVBqN4iY3eVJlpZkTboaz7NYacEqplNJoIGC0rIyWxhgC1BhTKqVVRXINHEpWSypRZCVz0Q9tIwuquTAEqXYE922LCnsyzyyO87RI01RQK3Kj999f5EmSZDkWRSULKdgEGC2VNEgUmqKUqioWLXE9w3\\u002f63ttn9XNi+a2NhebSnZM3r8eDoUoI44IE1srOzt3tu5999F+DXvf09CJNphUpOdLxTHNjDEpVlSVoRAIGNQWkjGoFShvUqhV5qPHZs1PzaKe100pq7Gsf7K7e1t2OmI+ytJApkEty1Tu9yYIbQ+W0mjO7YiwJHfHFC+BxFIIpbMGLQjqWo43WRiMhSEtClDaSUbl3S3Su1Gh0Oh4Z\\u002f\\u002fbdRuxtL6wUW5Ip2R2p7\\u002f\\u002f71frtXepSvHXbY\\u002fbrV8\\u002ffeQfe2wp1WXVOkV\\u002f1h5EvDCGGgCFGo1ZaAQIDdB1PE352nc25rDk1wjPLIVN58\\u002fmLl9jv9jvn6FEZsrQ0ujtEjyhEx+NArIOrszzlOFeT3OI\\u002f+refxjU7bMSBb9fDwHFdIYTNLTBEKyRgTfKsb2uepQvgCDl\\u002feM\\u002fk086rzqh3OsXIsS0Rr9lzlRazvFRpWk1VJDqFPjjO\\u002fTIopzPeu7rSuX9x2QVKGaNRFPq+X4\\u002fqfugTSmyOd1bq73978fq8N76plOJfDc3AmY+2Qn9V5aVKIJUSEiMVIgeKspTEEFt4S4pMlZwpvrwQP7h7ZzKbFoq8OeycnLyxLMtyLa\\u002fu1YKovRoFUFbn+Z\\u002f+4Vf\\u002f\\u002fh8+6V5XdVv2aTlCKyNgjFKV41dxgLTSimrfBc7VTJc5Ako9nWNK61EYxVHcCBp1Z\\u002ffuthBOqbAsynJW9ntD3xfNhebFFVOF\\u002fJ3f3Ipr4noAvYuyOld4rDGlFqGcSuTcFg4XpLKIYcCloIVzi7U3WZNubLQNYrO52IijtZWlehQAwcD3Ht6\\u002f+96jPVeQtbXGzSQ\\u002fep2vL9Wajnt8YJlu+EG8uzD0s5NR217ZqG1mg7w7GPdpPudI0FpzNtqs\\u002fd39735r5z2+stq6vLwoS+q7HhhciP3JbGo0qqrcemf9ppv0+hfEIr2h3uNsIbKmarMizSBjfC7LkZn7grrpbNSZjoc7\\u002foYFuvv2DDTbCO3Jm6crdc7b7TWt1cHBwcRMGKM137I4nSXZy4Nj17OadU9K3Wr6ldJBcOve\\u002fSSV+cloMB4PvvlI\\u002f3q09tGH\\u002f301m\\u002f3u7z+oO2s+xTCuHdfxvDP6oz\\u002fYgIJPS03+7q\\u002f\\u002fUkp1Mxh2Tk+LfK4JHJ9dvXx9kmZFHLm792+3mrGNLpj+Qh1vb\\u002fI\\u002f+eP9V6fk8HD68C7ef+QefVlVyqnF9sefng0m+dcetfYfLM0nGXWqN1+OuiPDbeFypjfW\\u002ffbGellVVVU92s8227\\u002f4+fOXl72btyfXglOHJ+lMvj3LrhL76ydVMgKU9LKfF09UmmCSF5vi0be\\u002f8w1k7PDg1Z\\u002f\\u002fxfdd179zb3s6tm2xQP7xb\\u002f8GgFBCDCAAKKWklGVRDcfp207nZ08\\u002fczlxHRbUnOXl1Yuz3nRylVWlQUZNpbUuFVLuf\\u002fD495ZXbqXp7PDtq58\\u002f\\u002fezdd\\u002fce\\u002f8avAVLPq3GpkBAQglMghBAqhOC25xA\\u002fiBaWGkuN+PmzL6TJXV+cds5fv+hVhJZEFjJhRghAAEUY\\u002fPO\\u002f\\u002fACQMEY8h7Xbq0HgV0bYjp2pkjPLMsZoAIsxSgghFADBEMYoEfhwd7e92L64OUrniTaX2\\u002fdtx3MkMVlR6qIQzJMSs3lCAOpxvLW13VpsNupR4DmOz7mgiOr\\u002fAMOqyJYjk4NEAAAAAElFTkSuQmCC\",\"type\":\"image\",\"xaxis\":\"x5\",\"yaxis\":\"y5\",\"hovertemplate\":\"x: %{x}\\u003cbr\\u003ey: %{y}\\u003cbr\\u003ecolor: %{z}\\u003cextra\\u003e\\u003c\\u002fextra\\u003e\"}],                        {\"template\":{\"data\":{\"histogram2dcontour\":[{\"type\":\"histogram2dcontour\",\"colorbar\":{\"outlinewidth\":0,\"ticks\":\"\"},\"colorscale\":[[0.0,\"#0d0887\"],[0.1111111111111111,\"#46039f\"],[0.2222222222222222,\"#7201a8\"],[0.3333333333333333,\"#9c179e\"],[0.4444444444444444,\"#bd3786\"],[0.5555555555555556,\"#d8576b\"],[0.6666666666666666,\"#ed7953\"],[0.7777777777777778,\"#fb9f3a\"],[0.8888888888888888,\"#fdca26\"],[1.0,\"#f0f921\"]]}],\"choropleth\":[{\"type\":\"choropleth\",\"colorbar\":{\"outlinewidth\":0,\"ticks\":\"\"}}],\"histogram2d\":[{\"type\":\"histogram2d\",\"colorbar\":{\"outlinewidth\":0,\"ticks\":\"\"},\"colorscale\":[[0.0,\"#0d0887\"],[0.1111111111111111,\"#46039f\"],[0.2222222222222222,\"#7201a8\"],[0.3333333333333333,\"#9c179e\"],[0.4444444444444444,\"#bd3786\"],[0.5555555555555556,\"#d8576b\"],[0.6666666666666666,\"#ed7953\"],[0.7777777777777778,\"#fb9f3a\"],[0.8888888888888888,\"#fdca26\"],[1.0,\"#f0f921\"]]}],\"heatmap\":[{\"type\":\"heatmap\",\"colorbar\":{\"outlinewidth\":0,\"ticks\":\"\"},\"colorscale\":[[0.0,\"#0d0887\"],[0.1111111111111111,\"#46039f\"],[0.2222222222222222,\"#7201a8\"],[0.3333333333333333,\"#9c179e\"],[0.4444444444444444,\"#bd3786\"],[0.5555555555555556,\"#d8576b\"],[0.6666666666666666,\"#ed7953\"],[0.7777777777777778,\"#fb9f3a\"],[0.8888888888888888,\"#fdca26\"],[1.0,\"#f0f921\"]]}],\"heatmapgl\":[{\"type\":\"heatmapgl\",\"colorbar\":{\"outlinewidth\":0,\"ticks\":\"\"},\"colorscale\":[[0.0,\"#0d0887\"],[0.1111111111111111,\"#46039f\"],[0.2222222222222222,\"#7201a8\"],[0.3333333333333333,\"#9c179e\"],[0.4444444444444444,\"#bd3786\"],[0.5555555555555556,\"#d8576b\"],[0.6666666666666666,\"#ed7953\"],[0.7777777777777778,\"#fb9f3a\"],[0.8888888888888888,\"#fdca26\"],[1.0,\"#f0f921\"]]}],\"contourcarpet\":[{\"type\":\"contourcarpet\",\"colorbar\":{\"outlinewidth\":0,\"ticks\":\"\"}}],\"contour\":[{\"type\":\"contour\",\"colorbar\":{\"outlinewidth\":0,\"ticks\":\"\"},\"colorscale\":[[0.0,\"#0d0887\"],[0.1111111111111111,\"#46039f\"],[0.2222222222222222,\"#7201a8\"],[0.3333333333333333,\"#9c179e\"],[0.4444444444444444,\"#bd3786\"],[0.5555555555555556,\"#d8576b\"],[0.6666666666666666,\"#ed7953\"],[0.7777777777777778,\"#fb9f3a\"],[0.8888888888888888,\"#fdca26\"],[1.0,\"#f0f921\"]]}],\"surface\":[{\"type\":\"surface\",\"colorbar\":{\"outlinewidth\":0,\"ticks\":\"\"},\"colorscale\":[[0.0,\"#0d0887\"],[0.1111111111111111,\"#46039f\"],[0.2222222222222222,\"#7201a8\"],[0.3333333333333333,\"#9c179e\"],[0.4444444444444444,\"#bd3786\"],[0.5555555555555556,\"#d8576b\"],[0.6666666666666666,\"#ed7953\"],[0.7777777777777778,\"#fb9f3a\"],[0.8888888888888888,\"#fdca26\"],[1.0,\"#f0f921\"]]}],\"mesh3d\":[{\"type\":\"mesh3d\",\"colorbar\":{\"outlinewidth\":0,\"ticks\":\"\"}}],\"scatter\":[{\"fillpattern\":{\"fillmode\":\"overlay\",\"size\":10,\"solidity\":0.2},\"type\":\"scatter\"}],\"parcoords\":[{\"type\":\"parcoords\",\"line\":{\"colorbar\":{\"outlinewidth\":0,\"ticks\":\"\"}}}],\"scatterpolargl\":[{\"type\":\"scatterpolargl\",\"marker\":{\"colorbar\":{\"outlinewidth\":0,\"ticks\":\"\"}}}],\"bar\":[{\"error_x\":{\"color\":\"#2a3f5f\"},\"error_y\":{\"color\":\"#2a3f5f\"},\"marker\":{\"line\":{\"color\":\"#E5ECF6\",\"width\":0.5},\"pattern\":{\"fillmode\":\"overlay\",\"size\":10,\"solidity\":0.2}},\"type\":\"bar\"}],\"scattergeo\":[{\"type\":\"scattergeo\",\"marker\":{\"colorbar\":{\"outlinewidth\":0,\"ticks\":\"\"}}}],\"scatterpolar\":[{\"type\":\"scatterpolar\",\"marker\":{\"colorbar\":{\"outlinewidth\":0,\"ticks\":\"\"}}}],\"histogram\":[{\"marker\":{\"pattern\":{\"fillmode\":\"overlay\",\"size\":10,\"solidity\":0.2}},\"type\":\"histogram\"}],\"scattergl\":[{\"type\":\"scattergl\",\"marker\":{\"colorbar\":{\"outlinewidth\":0,\"ticks\":\"\"}}}],\"scatter3d\":[{\"type\":\"scatter3d\",\"line\":{\"colorbar\":{\"outlinewidth\":0,\"ticks\":\"\"}},\"marker\":{\"colorbar\":{\"outlinewidth\":0,\"ticks\":\"\"}}}],\"scattermapbox\":[{\"type\":\"scattermapbox\",\"marker\":{\"colorbar\":{\"outlinewidth\":0,\"ticks\":\"\"}}}],\"scatterternary\":[{\"type\":\"scatterternary\",\"marker\":{\"colorbar\":{\"outlinewidth\":0,\"ticks\":\"\"}}}],\"scattercarpet\":[{\"type\":\"scattercarpet\",\"marker\":{\"colorbar\":{\"outlinewidth\":0,\"ticks\":\"\"}}}],\"carpet\":[{\"aaxis\":{\"endlinecolor\":\"#2a3f5f\",\"gridcolor\":\"white\",\"linecolor\":\"white\",\"minorgridcolor\":\"white\",\"startlinecolor\":\"#2a3f5f\"},\"baxis\":{\"endlinecolor\":\"#2a3f5f\",\"gridcolor\":\"white\",\"linecolor\":\"white\",\"minorgridcolor\":\"white\",\"startlinecolor\":\"#2a3f5f\"},\"type\":\"carpet\"}],\"table\":[{\"cells\":{\"fill\":{\"color\":\"#EBF0F8\"},\"line\":{\"color\":\"white\"}},\"header\":{\"fill\":{\"color\":\"#C8D4E3\"},\"line\":{\"color\":\"white\"}},\"type\":\"table\"}],\"barpolar\":[{\"marker\":{\"line\":{\"color\":\"#E5ECF6\",\"width\":0.5},\"pattern\":{\"fillmode\":\"overlay\",\"size\":10,\"solidity\":0.2}},\"type\":\"barpolar\"}],\"pie\":[{\"automargin\":true,\"type\":\"pie\"}]},\"layout\":{\"autotypenumbers\":\"strict\",\"colorway\":[\"#636efa\",\"#EF553B\",\"#00cc96\",\"#ab63fa\",\"#FFA15A\",\"#19d3f3\",\"#FF6692\",\"#B6E880\",\"#FF97FF\",\"#FECB52\"],\"font\":{\"color\":\"#2a3f5f\"},\"hovermode\":\"closest\",\"hoverlabel\":{\"align\":\"left\"},\"paper_bgcolor\":\"white\",\"plot_bgcolor\":\"#E5ECF6\",\"polar\":{\"bgcolor\":\"#E5ECF6\",\"angularaxis\":{\"gridcolor\":\"white\",\"linecolor\":\"white\",\"ticks\":\"\"},\"radialaxis\":{\"gridcolor\":\"white\",\"linecolor\":\"white\",\"ticks\":\"\"}},\"ternary\":{\"bgcolor\":\"#E5ECF6\",\"aaxis\":{\"gridcolor\":\"white\",\"linecolor\":\"white\",\"ticks\":\"\"},\"baxis\":{\"gridcolor\":\"white\",\"linecolor\":\"white\",\"ticks\":\"\"},\"caxis\":{\"gridcolor\":\"white\",\"linecolor\":\"white\",\"ticks\":\"\"}},\"coloraxis\":{\"colorbar\":{\"outlinewidth\":0,\"ticks\":\"\"}},\"colorscale\":{\"sequential\":[[0.0,\"#0d0887\"],[0.1111111111111111,\"#46039f\"],[0.2222222222222222,\"#7201a8\"],[0.3333333333333333,\"#9c179e\"],[0.4444444444444444,\"#bd3786\"],[0.5555555555555556,\"#d8576b\"],[0.6666666666666666,\"#ed7953\"],[0.7777777777777778,\"#fb9f3a\"],[0.8888888888888888,\"#fdca26\"],[1.0,\"#f0f921\"]],\"sequentialminus\":[[0.0,\"#0d0887\"],[0.1111111111111111,\"#46039f\"],[0.2222222222222222,\"#7201a8\"],[0.3333333333333333,\"#9c179e\"],[0.4444444444444444,\"#bd3786\"],[0.5555555555555556,\"#d8576b\"],[0.6666666666666666,\"#ed7953\"],[0.7777777777777778,\"#fb9f3a\"],[0.8888888888888888,\"#fdca26\"],[1.0,\"#f0f921\"]],\"diverging\":[[0,\"#8e0152\"],[0.1,\"#c51b7d\"],[0.2,\"#de77ae\"],[0.3,\"#f1b6da\"],[0.4,\"#fde0ef\"],[0.5,\"#f7f7f7\"],[0.6,\"#e6f5d0\"],[0.7,\"#b8e186\"],[0.8,\"#7fbc41\"],[0.9,\"#4d9221\"],[1,\"#276419\"]]},\"xaxis\":{\"gridcolor\":\"white\",\"linecolor\":\"white\",\"ticks\":\"\",\"title\":{\"standoff\":15},\"zerolinecolor\":\"white\",\"automargin\":true,\"zerolinewidth\":2},\"yaxis\":{\"gridcolor\":\"white\",\"linecolor\":\"white\",\"ticks\":\"\",\"title\":{\"standoff\":15},\"zerolinecolor\":\"white\",\"automargin\":true,\"zerolinewidth\":2},\"scene\":{\"xaxis\":{\"backgroundcolor\":\"#E5ECF6\",\"gridcolor\":\"white\",\"linecolor\":\"white\",\"showbackground\":true,\"ticks\":\"\",\"zerolinecolor\":\"white\",\"gridwidth\":2},\"yaxis\":{\"backgroundcolor\":\"#E5ECF6\",\"gridcolor\":\"white\",\"linecolor\":\"white\",\"showbackground\":true,\"ticks\":\"\",\"zerolinecolor\":\"white\",\"gridwidth\":2},\"zaxis\":{\"backgroundcolor\":\"#E5ECF6\",\"gridcolor\":\"white\",\"linecolor\":\"white\",\"showbackground\":true,\"ticks\":\"\",\"zerolinecolor\":\"white\",\"gridwidth\":2}},\"shapedefaults\":{\"line\":{\"color\":\"#2a3f5f\"}},\"annotationdefaults\":{\"arrowcolor\":\"#2a3f5f\",\"arrowhead\":0,\"arrowwidth\":1},\"geo\":{\"bgcolor\":\"white\",\"landcolor\":\"#E5ECF6\",\"subunitcolor\":\"white\",\"showland\":true,\"showlakes\":true,\"lakecolor\":\"white\"},\"title\":{\"x\":0.05},\"mapbox\":{\"style\":\"light\"}}},\"xaxis\":{\"anchor\":\"y\",\"domain\":[0.0,0.18400000000000002]},\"yaxis\":{\"anchor\":\"x\",\"domain\":[0.0,0.2866666666666666]},\"xaxis2\":{\"anchor\":\"y2\",\"domain\":[0.20400000000000001,0.388],\"matches\":\"x\"},\"yaxis2\":{\"anchor\":\"x2\",\"domain\":[0.0,0.2866666666666666],\"matches\":\"y\",\"showticklabels\":false},\"xaxis3\":{\"anchor\":\"y3\",\"domain\":[0.40800000000000003,0.5920000000000001],\"matches\":\"x\"},\"yaxis3\":{\"anchor\":\"x3\",\"domain\":[0.0,0.2866666666666666],\"matches\":\"y\",\"showticklabels\":false},\"xaxis4\":{\"anchor\":\"y4\",\"domain\":[0.6120000000000001,0.7960000000000002],\"matches\":\"x\"},\"yaxis4\":{\"anchor\":\"x4\",\"domain\":[0.0,0.2866666666666666],\"matches\":\"y\",\"showticklabels\":false},\"xaxis5\":{\"anchor\":\"y5\",\"domain\":[0.8160000000000001,1.0],\"matches\":\"x\"},\"yaxis5\":{\"anchor\":\"x5\",\"domain\":[0.0,0.2866666666666666],\"matches\":\"y\",\"showticklabels\":false},\"xaxis6\":{\"anchor\":\"y6\",\"domain\":[0.0,0.18400000000000002],\"matches\":\"x\",\"showticklabels\":false},\"yaxis6\":{\"anchor\":\"x6\",\"domain\":[0.35666666666666663,0.6433333333333333],\"matches\":\"y\"},\"xaxis7\":{\"anchor\":\"y7\",\"domain\":[0.20400000000000001,0.388],\"matches\":\"x\",\"showticklabels\":false},\"yaxis7\":{\"anchor\":\"x7\",\"domain\":[0.35666666666666663,0.6433333333333333],\"matches\":\"y\",\"showticklabels\":false},\"xaxis8\":{\"anchor\":\"y8\",\"domain\":[0.40800000000000003,0.5920000000000001],\"matches\":\"x\",\"showticklabels\":false},\"yaxis8\":{\"anchor\":\"x8\",\"domain\":[0.35666666666666663,0.6433333333333333],\"matches\":\"y\",\"showticklabels\":false},\"xaxis9\":{\"anchor\":\"y9\",\"domain\":[0.6120000000000001,0.7960000000000002],\"matches\":\"x\",\"showticklabels\":false},\"yaxis9\":{\"anchor\":\"x9\",\"domain\":[0.35666666666666663,0.6433333333333333],\"matches\":\"y\",\"showticklabels\":false},\"xaxis10\":{\"anchor\":\"y10\",\"domain\":[0.8160000000000001,1.0],\"matches\":\"x\",\"showticklabels\":false},\"yaxis10\":{\"anchor\":\"x10\",\"domain\":[0.35666666666666663,0.6433333333333333],\"matches\":\"y\",\"showticklabels\":false},\"xaxis11\":{\"anchor\":\"y11\",\"domain\":[0.0,0.18400000000000002],\"matches\":\"x\",\"showticklabels\":false},\"yaxis11\":{\"anchor\":\"x11\",\"domain\":[0.7133333333333333,0.9999999999999999],\"matches\":\"y\"},\"xaxis12\":{\"anchor\":\"y12\",\"domain\":[0.20400000000000001,0.388],\"matches\":\"x\",\"showticklabels\":false},\"yaxis12\":{\"anchor\":\"x12\",\"domain\":[0.7133333333333333,0.9999999999999999],\"matches\":\"y\",\"showticklabels\":false},\"xaxis13\":{\"anchor\":\"y13\",\"domain\":[0.40800000000000003,0.5920000000000001],\"matches\":\"x\",\"showticklabels\":false},\"yaxis13\":{\"anchor\":\"x13\",\"domain\":[0.7133333333333333,0.9999999999999999],\"matches\":\"y\",\"showticklabels\":false},\"xaxis14\":{\"anchor\":\"y14\",\"domain\":[0.6120000000000001,0.7960000000000002],\"matches\":\"x\",\"showticklabels\":false},\"yaxis14\":{\"anchor\":\"x14\",\"domain\":[0.7133333333333333,0.9999999999999999],\"matches\":\"y\",\"showticklabels\":false},\"xaxis15\":{\"anchor\":\"y15\",\"domain\":[0.8160000000000001,1.0],\"matches\":\"x\",\"showticklabels\":false},\"yaxis15\":{\"anchor\":\"x15\",\"domain\":[0.7133333333333333,0.9999999999999999],\"matches\":\"y\",\"showticklabels\":false},\"annotations\":[{\"font\":{},\"showarrow\":false,\"text\":\"deer\",\"x\":0.09200000000000001,\"xanchor\":\"center\",\"xref\":\"paper\",\"y\":0.2866666666666666,\"yanchor\":\"bottom\",\"yref\":\"paper\"},{\"font\":{},\"showarrow\":false,\"text\":\"horse\",\"x\":0.29600000000000004,\"xanchor\":\"center\",\"xref\":\"paper\",\"y\":0.2866666666666666,\"yanchor\":\"bottom\",\"yref\":\"paper\"},{\"font\":{},\"showarrow\":false,\"text\":\"horse\",\"x\":0.5,\"xanchor\":\"center\",\"xref\":\"paper\",\"y\":0.2866666666666666,\"yanchor\":\"bottom\",\"yref\":\"paper\"},{\"font\":{},\"showarrow\":false,\"text\":\"bird\",\"x\":0.7040000000000002,\"xanchor\":\"center\",\"xref\":\"paper\",\"y\":0.2866666666666666,\"yanchor\":\"bottom\",\"yref\":\"paper\"},{\"font\":{},\"showarrow\":false,\"text\":\"truck\",\"x\":0.908,\"xanchor\":\"center\",\"xref\":\"paper\",\"y\":0.2866666666666666,\"yanchor\":\"bottom\",\"yref\":\"paper\"},{\"font\":{},\"showarrow\":false,\"text\":\"automobile\",\"x\":0.09200000000000001,\"xanchor\":\"center\",\"xref\":\"paper\",\"y\":0.6433333333333333,\"yanchor\":\"bottom\",\"yref\":\"paper\"},{\"font\":{},\"showarrow\":false,\"text\":\"bird\",\"x\":0.29600000000000004,\"xanchor\":\"center\",\"xref\":\"paper\",\"y\":0.6433333333333333,\"yanchor\":\"bottom\",\"yref\":\"paper\"},{\"font\":{},\"showarrow\":false,\"text\":\"horse\",\"x\":0.5,\"xanchor\":\"center\",\"xref\":\"paper\",\"y\":0.6433333333333333,\"yanchor\":\"bottom\",\"yref\":\"paper\"},{\"font\":{},\"showarrow\":false,\"text\":\"ship\",\"x\":0.7040000000000002,\"xanchor\":\"center\",\"xref\":\"paper\",\"y\":0.6433333333333333,\"yanchor\":\"bottom\",\"yref\":\"paper\"},{\"font\":{},\"showarrow\":false,\"text\":\"cat\",\"x\":0.908,\"xanchor\":\"center\",\"xref\":\"paper\",\"y\":0.6433333333333333,\"yanchor\":\"bottom\",\"yref\":\"paper\"},{\"font\":{},\"showarrow\":false,\"text\":\"frog\",\"x\":0.09200000000000001,\"xanchor\":\"center\",\"xref\":\"paper\",\"y\":0.9999999999999999,\"yanchor\":\"bottom\",\"yref\":\"paper\"},{\"font\":{},\"showarrow\":false,\"text\":\"truck\",\"x\":0.29600000000000004,\"xanchor\":\"center\",\"xref\":\"paper\",\"y\":0.9999999999999999,\"yanchor\":\"bottom\",\"yref\":\"paper\"},{\"font\":{},\"showarrow\":false,\"text\":\"truck\",\"x\":0.5,\"xanchor\":\"center\",\"xref\":\"paper\",\"y\":0.9999999999999999,\"yanchor\":\"bottom\",\"yref\":\"paper\"},{\"font\":{},\"showarrow\":false,\"text\":\"deer\",\"x\":0.7040000000000002,\"xanchor\":\"center\",\"xref\":\"paper\",\"y\":0.9999999999999999,\"yanchor\":\"bottom\",\"yref\":\"paper\"},{\"font\":{},\"showarrow\":false,\"text\":\"automobile\",\"x\":0.908,\"xanchor\":\"center\",\"xref\":\"paper\",\"y\":0.9999999999999999,\"yanchor\":\"bottom\",\"yref\":\"paper\"}],\"title\":{\"text\":\"CIFAR-10 images\"},\"height\":600,\"width\":1000},                        {\"displaylogo\": false, \"responsive\": true}                    ).then(function(){\n",
              "                            \n",
              "var gd = document.getElementById('a871ec32-55ec-451b-82c4-695e8808008b');\n",
              "var x = new MutationObserver(function (mutations, observer) {{\n",
              "        var display = window.getComputedStyle(gd).display;\n",
              "        if (!display || display === 'none') {{\n",
              "            console.log([gd, 'removed!']);\n",
              "            Plotly.purge(gd);\n",
              "            observer.disconnect();\n",
              "        }}\n",
              "}});\n",
              "\n",
              "// Listen for the removal of the full notebook cells\n",
              "var notebookContainer = gd.closest('#notebook-container');\n",
              "if (notebookContainer) {{\n",
              "    x.observe(notebookContainer, {childList: true});\n",
              "}}\n",
              "\n",
              "// Listen for the clearing of the current output cell\n",
              "var outputEl = gd.closest('.output');\n",
              "if (outputEl) {{\n",
              "    x.observe(outputEl, {childList: true});\n",
              "}}\n",
              "\n",
              "                        })                };                            </script>        </div>\n",
              "</body>\n",
              "</html>"
            ]
          },
          "metadata": {}
        }
      ],
      "source": [
        "def get_cifar() -> tuple[datasets.CIFAR10, datasets.CIFAR10]:\n",
        "    \"\"\"Returns CIFAR-10 train and test sets.\"\"\"\n",
        "    cifar_trainset = datasets.CIFAR10(exercises_dir / \"data\", train=True, download=True, transform=IMAGENET_TRANSFORM)\n",
        "    cifar_testset = datasets.CIFAR10(exercises_dir / \"data\", train=False, download=True, transform=IMAGENET_TRANSFORM)\n",
        "    return cifar_trainset, cifar_testset\n",
        "\n",
        "\n",
        "IMAGE_SIZE = 224\n",
        "IMAGENET_MEAN = [0.485, 0.456, 0.406]\n",
        "IMAGENET_STD = [0.229, 0.224, 0.225]\n",
        "\n",
        "IMAGENET_TRANSFORM = transforms.Compose(\n",
        "    [\n",
        "        transforms.ToTensor(),\n",
        "        transforms.Resize((IMAGE_SIZE, IMAGE_SIZE)),\n",
        "        transforms.Normalize(mean=IMAGENET_MEAN, std=IMAGENET_STD),\n",
        "    ]\n",
        ")\n",
        "\n",
        "\n",
        "cifar_trainset, cifar_testset = get_cifar()\n",
        "\n",
        "imshow(\n",
        "    cifar_trainset.data[:15],\n",
        "    facet_col=0,\n",
        "    facet_col_wrap=5,\n",
        "    facet_labels=[cifar_trainset.classes[i] for i in cifar_trainset.targets[:15]],\n",
        "    title=\"CIFAR-10 images\",\n",
        "    height=600,\n",
        "    width=1000,\n",
        ")"
      ]
    },
    {
      "cell_type": "markdown",
      "metadata": {
        "id": "Ypk8LZjCAEaz"
      },
      "source": [
        "## Train function (modular)\n",
        "\n",
        "First, let's build on the training function we used yesterday. Previously, we just used a single `train` function which took a dataclass as argument. But this resulted in a very long function with many nested loops and some repeated code. Instead, we'll write our code in the form of a `ResNetFinetuner` class with multiple methods, each one being responsible for a single part of the training process. This will make our code more modular, and easier to read and debug.\n",
        "\n",
        "We've given you the `ResNetFinetuner` class below, as well as a dataclass which contains all the hyperparameters we'll use (again this helps us keep everything organized). You should read this and make sure you understand the role of each method. A brief summary:\n",
        "\n",
        "* `pre_training_setup` defines the model, optimizer, dataset, and objects for logging data. Note that it's not good practice to have this logic run in `__init__`, because it's something we only need to do just before actually training (this structural flexibility will prove useful later, when we introduce weights & biases).\n",
        "* `training_step` does a single gradient update step on a single batch of data, and logs & returns the loss.\n",
        "* `evaluate` method computes the total accuracy of the model over the validation set, and logs & returns this accuracy. Note use of the `torch.inference_mode()` decorator, which stops gradients propagating (this is equivalent to using it as a context manager).\n",
        "* `train` combines this all: it performs the pre-training setup, then alternates between training & evaluation for some number of epochs. Note that `model.train()` and `model.eval()` are called before these stages respectively - for why we have to do this, see yesterday's discussion of BatchNorm."
      ]
    },
    {
      "cell_type": "code",
      "source": [
        "from torch.optim import AdamW, Adam, SGD, RMSprop"
      ],
      "metadata": {
        "id": "mZsVCzpoMAr6"
      },
      "execution_count": 7,
      "outputs": []
    },
    {
      "cell_type": "code",
      "execution_count": 5,
      "metadata": {
        "id": "opYJMUPRAEaz"
      },
      "outputs": [],
      "source": [
        "@dataclass\n",
        "class ResNetFinetuningArgs:\n",
        "    n_classes: int = 10\n",
        "    batch_size: int = 128\n",
        "    epochs: int = 3\n",
        "    learning_rate: float = 1e-3\n",
        "    weight_decay: float = 0.0\n",
        "\n",
        "\n",
        "class ResNetFinetuner:\n",
        "    def __init__(self, args: ResNetFinetuningArgs):\n",
        "        self.args = args\n",
        "\n",
        "    def pre_training_setup(self):\n",
        "        self.model = get_resnet_for_feature_extraction(self.args.n_classes).to(device)\n",
        "        self.optimizer = AdamW(\n",
        "            self.model.out_layers[-1].parameters(), lr=self.args.learning_rate, weight_decay=self.args.weight_decay\n",
        "        )\n",
        "        self.trainset, self.testset = get_cifar()\n",
        "        self.train_loader = DataLoader(self.trainset, batch_size=self.args.batch_size, shuffle=True)\n",
        "        self.test_loader = DataLoader(self.testset, batch_size=self.args.batch_size, shuffle=False)\n",
        "        self.logged_variables = {\"loss\": [], \"accuracy\": []}\n",
        "        self.examples_seen = 0\n",
        "\n",
        "    def training_step(\n",
        "        self,\n",
        "        imgs: Float[Tensor, \"batch channels height width\"],\n",
        "        labels: Int[Tensor, \"batch\"],\n",
        "    ) -> Float[Tensor, \"\"]:\n",
        "        \"\"\"Perform a gradient update step on a single batch of data.\"\"\"\n",
        "        imgs, labels = imgs.to(device), labels.to(device)\n",
        "\n",
        "        logits = self.model(imgs)\n",
        "        loss = F.cross_entropy(logits, labels)\n",
        "        loss.backward()\n",
        "        self.optimizer.step()\n",
        "        self.optimizer.zero_grad()\n",
        "\n",
        "        self.examples_seen += imgs.shape[0]\n",
        "        self.logged_variables[\"loss\"].append(loss.item())\n",
        "        return loss\n",
        "\n",
        "    @t.inference_mode()\n",
        "    def evaluate(self) -> float:\n",
        "        \"\"\"Evaluate the model on the test set and return the accuracy.\"\"\"\n",
        "        self.model.eval()\n",
        "        total_correct, total_samples = 0, 0\n",
        "\n",
        "        for imgs, labels in tqdm(self.test_loader, desc=\"Evaluating\"):\n",
        "            imgs, labels = imgs.to(device), labels.to(device)\n",
        "            logits = self.model(imgs)\n",
        "            total_correct += (logits.argmax(dim=1) == labels).sum().item()\n",
        "            total_samples += len(imgs)\n",
        "\n",
        "        accuracy = total_correct / total_samples\n",
        "        self.logged_variables[\"accuracy\"].append(accuracy)\n",
        "        return accuracy\n",
        "\n",
        "    def train(self) -> dict[str, list[float]]:\n",
        "        self.pre_training_setup()\n",
        "\n",
        "        accuracy = self.evaluate()\n",
        "\n",
        "        for epoch in range(self.args.epochs):\n",
        "            self.model.train()\n",
        "\n",
        "            pbar = tqdm(self.train_loader, desc=\"Training\")\n",
        "            for imgs, labels in pbar:\n",
        "                loss = self.training_step(imgs, labels)\n",
        "                pbar.set_postfix(loss=f\"{loss:.3f}\", ex_seen=f\"{self.examples_seen:06}\")\n",
        "\n",
        "            accuracy = self.evaluate()\n",
        "            pbar.set_postfix(loss=f\"{loss:.3f}\", accuracy=f\"{accuracy:.2f}\", ex_seen=f\"{self.examples_seen:06}\")\n",
        "\n",
        "        return self.logged_variables"
      ]
    },
    {
      "cell_type": "markdown",
      "metadata": {
        "id": "348iA2nUAEaz"
      },
      "source": [
        "With this class, we can perform feature extraction on our model as follows:"
      ]
    },
    {
      "cell_type": "code",
      "execution_count": null,
      "metadata": {
        "id": "A_DWfymXAEaz",
        "outputId": "3d5a0351-1793-4c6c-e9bc-820a31f966ac",
        "colab": {
          "base_uri": "https://localhost:8080/"
        }
      },
      "outputs": [
        {
          "output_type": "stream",
          "name": "stderr",
          "text": [
            "Evaluating: 100%|██████████| 79/79 [39:18<00:00, 29.85s/it]\n",
            "Training:  19%|█▉        | 75/391 [41:15<2:55:03, 33.24s/it, ex_seen=009600, loss=1.011]"
          ]
        }
      ],
      "source": [
        "args = ResNetFinetuningArgs()\n",
        "trainer = ResNetFinetuner(args)\n",
        "logged_variables = trainer.train()"
      ]
    },
    {
      "cell_type": "code",
      "execution_count": null,
      "metadata": {
        "id": "4Psrf_v_AEaz"
      },
      "outputs": [],
      "source": [
        "line(\n",
        "    y=[logged_variables[\"loss\"][: 391 * 3 + 1], logged_variables[\"accuracy\"][:4]],\n",
        "    x_max=len(logged_variables[\"loss\"][: 391 * 3 + 1] * args.batch_size),\n",
        "    yaxis2_range=[0, 1],\n",
        "    use_secondary_yaxis=True,\n",
        "    labels={\"x\": \"Examples seen\", \"y1\": \"Cross entropy loss\", \"y2\": \"Test Accuracy\"},\n",
        "    title=\"Feature extraction with ResNet34\",\n",
        "    width=800,\n",
        ")"
      ]
    },
    {
      "cell_type": "markdown",
      "metadata": {
        "id": "OTuJknPiAEaz"
      },
      "source": [
        "Let's see how well our ResNet performs on the first few inputs!"
      ]
    },
    {
      "cell_type": "code",
      "execution_count": null,
      "metadata": {
        "id": "MvbgK0HEAEaz"
      },
      "outputs": [],
      "source": [
        "def test_resnet_on_random_input(model: ResNet34, n_inputs: int = 3, seed: int | None = 42):\n",
        "    if seed is not None:\n",
        "        np.random.seed(seed)\n",
        "    indices = np.random.choice(len(cifar_trainset), n_inputs).tolist()\n",
        "    classes = [cifar_trainset.classes[cifar_trainset.targets[i]] for i in indices]\n",
        "    imgs = cifar_trainset.data[indices]\n",
        "    device = next(model.parameters()).device\n",
        "    with t.inference_mode():\n",
        "        x = t.stack(list(map(IMAGENET_TRANSFORM, imgs)))\n",
        "        logits: Tensor = model(x.to(device))\n",
        "    probs = logits.softmax(-1)\n",
        "    if probs.ndim == 1:\n",
        "        probs = probs.unsqueeze(0)\n",
        "    for img, label, prob in zip(imgs, classes, probs):\n",
        "        display(HTML(f\"<h2>Classification probabilities (true class = {label})</h2>\"))\n",
        "        imshow(img, width=200, height=200, margin=0, xaxis_visible=False, yaxis_visible=False)\n",
        "        bar(prob, x=cifar_trainset.classes, width=600, height=400, text_auto=\".2f\", labels={\"x\": \"Class\", \"y\": \"Prob\"})\n",
        "\n",
        "\n",
        "test_resnet_on_random_input(trainer.model)"
      ]
    },
    {
      "cell_type": "code",
      "source": [
        "np.ones(7)"
      ],
      "metadata": {
        "id": "HbxYJqjDLsJM",
        "outputId": "5ed71ae6-3b9c-49c1-9806-1de8c44c1b21",
        "colab": {
          "base_uri": "https://localhost:8080/",
          "height": 163
        }
      },
      "execution_count": 1,
      "outputs": [
        {
          "output_type": "error",
          "ename": "NameError",
          "evalue": "name 'np' is not defined",
          "traceback": [
            "\u001b[0;31m---------------------------------------------------------------------------\u001b[0m",
            "\u001b[0;31mNameError\u001b[0m                                 Traceback (most recent call last)",
            "\u001b[0;32m/tmp/ipython-input-1-1832860616.py\u001b[0m in \u001b[0;36m<cell line: 0>\u001b[0;34m()\u001b[0m\n\u001b[0;32m----> 1\u001b[0;31m \u001b[0mnp\u001b[0m\u001b[0;34m.\u001b[0m\u001b[0mones\u001b[0m\u001b[0;34m(\u001b[0m\u001b[0;36m7\u001b[0m\u001b[0;34m)\u001b[0m\u001b[0;34m\u001b[0m\u001b[0;34m\u001b[0m\u001b[0m\n\u001b[0m",
            "\u001b[0;31mNameError\u001b[0m: name 'np' is not defined"
          ]
        }
      ]
    },
    {
      "cell_type": "markdown",
      "metadata": {
        "id": "IO83WnSTAEaz"
      },
      "source": [
        "## What is Weights and Biases?\n",
        "\n",
        "Weights and Biases is a cloud service that allows you to log data from experiments. Your logged data is shown in graphs during training, and you can easily compare logs across different runs. It also allows you to run **sweeps**, where you can specifiy a distribution over hyperparameters and then start a sequence of test runs which use hyperparameters sampled from this distribution.\n",
        "\n",
        "Before you run any of the code below, you should visit the [Weights and Biases homepage](https://wandb.ai/home), and create your own account.\n",
        "\n",
        "We'll be able to keep the same structure of training loop when using weights and biases, we'll just have to add a few functions. The key functions to know are:"
      ]
    },
    {
      "cell_type": "markdown",
      "metadata": {
        "id": "oGWdp6nxAEaz"
      },
      "source": [
        "#### `wandb.init`\n",
        "\n",
        "This initialises a training run. It should be called once, at the start of your training loop.\n",
        "\n",
        "A few important arguments are:\n",
        "\n",
        "* `project` - the name of the project where you're sending the new run. For example, this could be `'day3-resnet'` for us. You can have many different runs in each project.\n",
        "* `name` - a display name for this run. By default, if this isn't supplied, wandb generates a random 2-word name for you (e.g. `gentle-sunflower-42`).\n",
        "* `config` - a dictionary containing hyperparameters for this run. If you pass this dictionary, then you can compare different runs' hyperparameters & results in a single table. Alternatively, you can pass a dataclass.\n",
        "\n",
        "#### `wandb.watch`\n",
        "\n",
        "This function tells wandb to watch a model - this means that it will log the gradients and parameters of the model during training. We'll call this function once, after we've created our model. The 3 most important arguments are:\n",
        "\n",
        "* `models` - a module or list of modules (e.g. in our case we might just want to log the weights of the final linear layer, because the others aren't being trained)\n",
        "* `log` - determines what gets tracked, possible values are `'gradients'` (default), `'parameters'` or `'all'`\n",
        "* `log_freq` - the number of batches between each logging step (default is 1000)\n",
        "\n",
        "Why do we log parameters and gradients? Mainly this is [helpful for debugging](https://wandb.ai/wandb_fc/articles/reports/Debugging-Neural-Networks-with-PyTorch-and-W-B-Using-Gradients-and-Visualizations--Vmlldzo1NDQxNTA5), because it helps us identify problems like exploding or vanishing gradients, dead ReLUs, etc.\n",
        "\n",
        "#### `wandb.log`\n",
        "\n",
        "For logging metrics to the wandb dashboard. This is used as `wandb.log(data, step)`, where `step` is an integer (the x-axis on your metric plots) and `data` is a dictionary of metrics (i.e. the keys are metric names, and the values are metric values).\n",
        "\n",
        "#### `wandb.finish`\n",
        "\n",
        "This function should be called at the end of your training loop. It finishes the run, and saves the results to the cloud.\n",
        "\n",
        "If a run terminates early (either because of an error or because you manually terminated it), remember to still run `wandb.finish()` - it will speed things up when you start a new run (otherwise you have to wait for the previous run to be terminated & uploaded)."
      ]
    },
    {
      "cell_type": "markdown",
      "metadata": {
        "id": "m-cJI7x3AEaz"
      },
      "source": [
        "### Exercise - rewrite training loop with wandb\n",
        "\n",
        "> ```yaml\n",
        "> Difficulty: 🔴🔴⚪⚪⚪\n",
        "> Importance: 🔵🔵🔵🔵⚪\n",
        ">\n",
        "> You should spend up to 10-25 minutes on this exercise.\n",
        "> ```\n",
        "\n",
        "You should now take the training loop from above (i.e. the `ResNetTrainer` class) and rewrite it to use the four `wandb` functions above (in place of the `logged_variables` dictionary, which you can now remove). This will require:\n",
        "\n",
        "- Initializing your run\n",
        "    - Your new `pre_training_setup` method should call `wandb.watch` and `wandb.init` as well as all the stuff it previously did\n",
        "    - For `wandb.init`, you can use the project & name arguments from your new dataclass (see below)\n",
        "    - For `wandb.watch`, be careful of the `log_freq` value - you want to make sure you're logging more than once per epoch\n",
        "- Logging variables to wandb during your run\n",
        "    - i.e. replace updating of `self.logged_variables` with calls to `wandb.log`\n",
        "    - We recommend tracking `self.examples_seen` and passing this as the `step` argument to your logging calls, this way it's easier to compare across different runs with e.g. different batch sizes (more on this later)\n",
        "- Finishing the run\n",
        "    - i.e. calling `wandb.finish` at the end of your training loop\n",
        "\n",
        "This is all you need to do to get wandb working, so the vast majority of the code you write below will be copied and pasted from the previous `ResNetFinetuner` class. We've given you a template for this below, along with a new dataclass. Both the dataclass and the trainer class use inheritance to remove code duplication (e.g. because we don't need to rewrite our `__init__` method, it'll be the same as for `ResNetFinetuner`).\n",
        "\n",
        "Note, we generally recommend keeping progress bars in wandb because they update slightly faster and can give you a better sense of whether something is going wrong in training."
      ]
    },
    {
      "cell_type": "code",
      "execution_count": null,
      "metadata": {
        "id": "8uElROUYAEa0"
      },
      "outputs": [],
      "source": [
        "@dataclass\n",
        "class WandbResNetFinetuningArgs(ResNetFinetuningArgs):\n",
        "    \"\"\"Contains new params for use in wandb.init, as well as all the ResNetFinetuningArgs params.\"\"\"\n",
        "\n",
        "    wandb_project: str | None = \"day3-resnet\"\n",
        "    wandb_name: str | None = None\n",
        "\n",
        "\n",
        "class WandbResNetFinetuner(ResNetFinetuner):\n",
        "    args: WandbResNetFinetuningArgs  # adding this line helps with typechecker!\n",
        "    examples_seen: int = 0  # for tracking the total number of examples seen; used as step argument in wandb.log\n",
        "\n",
        "    def pre_training_setup(self):\n",
        "        \"\"\"Initializes the wandb run using `wandb.init` and `wandb.watch`.\"\"\"\n",
        "        super().pre_training_setup()\n",
        "        raise NotImplementedError()\n",
        "\n",
        "    def training_step(\n",
        "        self,\n",
        "        imgs: Float[Tensor, \"batch channels height width\"],\n",
        "        labels: Int[Tensor, \"batch\"],\n",
        "    ) -> Float[Tensor, \"\"]:\n",
        "        \"\"\"Equivalent to ResNetFinetuner.training_step, but logging the loss to wandb.\"\"\"\n",
        "        raise NotImplementedError()\n",
        "\n",
        "    @t.inference_mode()\n",
        "    def evaluate(self) -> float:\n",
        "        \"\"\"Equivalent to ResNetFinetuner.evaluate, but logging the accuracy to wandb.\"\"\"\n",
        "        raise NotImplementedError()\n",
        "\n",
        "    def train(self) -> None:\n",
        "        \"\"\"Equivalent to ResNetFinetuner.train, but with wandb initialization & calling `wandb.finish` at the end.\"\"\"\n",
        "        self.pre_training_setup()\n",
        "        raise NotImplementedError()\n",
        "\n",
        "\n",
        "args = WandbResNetFinetuningArgs()\n",
        "trainer = WandbResNetFinetuner(args)\n",
        "trainer.train()"
      ]
    },
    {
      "cell_type": "markdown",
      "metadata": {
        "id": "3-wZn1O9AEa0"
      },
      "source": [
        "<details><summary>Solution</summary>\n",
        "\n",
        "```python\n",
        "@dataclass\n",
        "class WandbResNetFinetuningArgs(ResNetFinetuningArgs):\n",
        "    \"\"\"Contains new params for use in wandb.init, as well as all the ResNetFinetuningArgs params.\"\"\"\n",
        "\n",
        "    wandb_project: str | None = \"day3-resnet\"\n",
        "    wandb_name: str | None = None\n",
        "\n",
        "\n",
        "class WandbResNetFinetuner(ResNetFinetuner):\n",
        "    args: WandbResNetFinetuningArgs  # adding this line helps with typechecker!\n",
        "    examples_seen: int = 0  # for tracking the total number of examples seen; used as step argument in wandb.log\n",
        "\n",
        "    def pre_training_setup(self):\n",
        "        \"\"\"Initializes the wandb run using `wandb.init` and `wandb.watch`.\"\"\"\n",
        "        super().pre_training_setup()\n",
        "        wandb.init(project=self.args.wandb_project, name=self.args.wandb_name, config=self.args)\n",
        "        wandb.watch(self.model.out_layers[-1], log=\"all\", log_freq=50)\n",
        "        self.examples_seen = 0\n",
        "\n",
        "    def training_step(\n",
        "        self,\n",
        "        imgs: Float[Tensor, \"batch channels height width\"],\n",
        "        labels: Int[Tensor, \"batch\"],\n",
        "    ) -> Float[Tensor, \"\"]:\n",
        "        \"\"\"Equivalent to ResNetFinetuner.training_step, but logging the loss to wandb.\"\"\"\n",
        "        imgs, labels = imgs.to(device), labels.to(device)\n",
        "\n",
        "        logits = self.model(imgs)\n",
        "        loss = F.cross_entropy(logits, labels)\n",
        "        loss.backward()\n",
        "        self.optimizer.step()\n",
        "        self.optimizer.zero_grad()\n",
        "\n",
        "        self.examples_seen += imgs.shape[0]\n",
        "        wandb.log({\"loss\": loss.item()}, step=self.examples_seen)\n",
        "        return loss\n",
        "\n",
        "    @t.inference_mode()\n",
        "    def evaluate(self) -> float:\n",
        "        \"\"\"Equivalent to ResNetFinetuner.evaluate, but logging the accuracy to wandb.\"\"\"\n",
        "        self.model.eval()\n",
        "        total_correct, total_samples = 0, 0\n",
        "\n",
        "        for imgs, labels in tqdm(self.test_loader, desc=\"Evaluating\"):\n",
        "            imgs, labels = imgs.to(device), labels.to(device)\n",
        "            logits = self.model(imgs)\n",
        "            total_correct += (logits.argmax(dim=1) == labels).sum().item()\n",
        "            total_samples += len(imgs)\n",
        "\n",
        "        accuracy = total_correct / total_samples\n",
        "        wandb.log({\"accuracy\": accuracy}, step=self.examples_seen)\n",
        "        return accuracy\n",
        "\n",
        "    def train(self) -> None:\n",
        "        \"\"\"Equivalent to ResNetFinetuner.train, but with wandb initialization & calling `wandb.finish` at the end.\"\"\"\n",
        "        self.pre_training_setup()\n",
        "        accuracy = self.evaluate()\n",
        "\n",
        "        for epoch in range(self.args.epochs):\n",
        "            self.model.train()\n",
        "\n",
        "            pbar = tqdm(self.train_loader, desc=\"Training\")\n",
        "            for imgs, labels in pbar:\n",
        "                loss = self.training_step(imgs, labels)\n",
        "                pbar.set_postfix(loss=f\"{loss:.3f}\", ex_seen=f\"{self.examples_seen=:06}\")\n",
        "\n",
        "            accuracy = self.evaluate()\n",
        "            pbar.set_postfix(loss=f\"{loss:.3f}\", accuracy=f\"{accuracy:.2f}\", ex_seen=f\"{self.examples_seen=:06}\")\n",
        "\n",
        "        wandb.finish()\n",
        "```\n",
        "</details>"
      ]
    },
    {
      "cell_type": "markdown",
      "metadata": {
        "id": "pQYhAXudAEa0"
      },
      "source": [
        "When you run the code for the first time, you'll have to login to Weights and Biases, and paste an API key into VSCode. After this is done, your Weights and Biases training run will start. It'll give you a lot of output text, one line of which will look like:\n",
        "\n",
        "```\n",
        "View run at https://wandb.ai/<USERNAME>/<PROJECT-NAME>/runs/<RUN-NAME>\n",
        "```\n",
        "\n",
        "which you can click on to visit the run page.\n",
        "\n",
        "A nice thing about using Weights and Biases is that you don't need to worry about generating your own plots, that will all be done for you when you visit the page."
      ]
    },
    {
      "cell_type": "markdown",
      "metadata": {
        "id": "2gTdh0f2AEa0"
      },
      "source": [
        "<img src=\"https://raw.githubusercontent.com/info-arena/ARENA_img/main/misc/wandb-day3.png\" width=\"900\">"
      ]
    },
    {
      "cell_type": "markdown",
      "metadata": {
        "id": "yPOTMqcTAEa0"
      },
      "source": [
        "### Run & project pages\n",
        "\n",
        "The page you visit will show you a plot of all the variables you've logged, among other things. You can do many things with these plots (e.g. click on the \"edit\" icon for your `train_loss` plot, and apply smoothing & change axis bounds to get a better picture of your loss curve).\n",
        "\n",
        "<img src=\"https://raw.githubusercontent.com/info-arena/ARENA_img/main/misc/wandb-day3-smoothed.png\" width=\"1000\">\n",
        "\n",
        "The charts are a useful feature of the run page that gets opened when you click on the run page link, but they're not the only feature. You can also navigate to the project page (click on the option to the right of **Projects** on the bar at the top of the Wandb page), and see superimposed plots of all the runs in this project. You can also click on the **Table** icon on the left hand sidebar to see a table of all the runs in this project, which contains useful information (e.g. runtime, the most recent values of any logged variables, etc). However, comparing runs like this becomes especially useful when we start doing hyperparameter search.\n",
        "\n",
        "You can also look at the system tab to inspect things like GPU utilization - this is a good way of checking whether you're saturating your GPU or whether you can afford to increase your batch size more. This tab will be especially useful in the next section, when we move onto distributed training."
      ]
    },
    {
      "cell_type": "markdown",
      "metadata": {
        "id": "dWiNq09CAEa0"
      },
      "source": [
        "## Some training heuristics\n",
        "\n",
        "One important skill which every aspiring ML researcher should develop is the ability to play around with hyperparameters and improve a model's training. At times this is more of an art than a science, because frequently rules and heuristics which work most of the time will break down in certain special cases. For example, a common heuristic for number of workers in a `DataLoader` is to set them to be 4 times the number of GPUs you have available (see later sections on distributed computing for more on this). However, setting these values too high can lead to issues where your CPU is bottlenecked by the workers and your epochs take a long time to start - it took me a long time to realize this was happening when I was initially writing these exercises!\n",
        "\n",
        "Sweeping over hyperparameters (which we'll cover shortly) can help remove some of the difficulty here, because you can use sweep methods that guide you towards an optimal set of hyperparameter choices rather than having to manually pick your own. However, here are a few heuristics that you might find useful in a variety of situations:\n",
        "\n",
        "- **Setting batch size**\n",
        "    - Generally you should aim to **saturate your GPU** with data - this means choosing a batch size that's as large as possible without causing memory errors\n",
        "        - You should generally aim for over 70% utilization of your GPU\n",
        "    - Note, this means you should generally try for a larger batch size in your testloader than your trainloader (because evaluation is done without gradients, and so a smaller memory constraint)\n",
        "        - A good starting point is 4x the size, but this will vary between models\n",
        "- **Choosing a learning rate**\n",
        "    - Inspecting loss curves can be a good way of evaluating our learning rate\n",
        "        - If loss is decreasing very slowly & monotonically then this is a sign you should increase the learning rate, whereas very large loss spikes are a sign that you should decrease it\n",
        "    - A common strategy is **warmup**, i.e. having a smaller learning rate for a short period of time at the start of training - we'll do this a lot in later material\n",
        "    - [Jeremy Jordan](https://www.jeremyjordan.me/nn-learning-rate/) has a good blog post on learning rates\n",
        "- **Balancing learning rate and batch size**\n",
        "    - For standard optimizers like `SGD`, it's a good idea to scale the learning rate inversely to the batch size - this way the variance of each parameter step remains the same\n",
        "    - However for **adaptive optimizers** such as `Adam` (where the size of parameter updates automatically adjusts based on the first and second moments of our gradients), this isn't as necessary\n",
        "        - This is why we generally start with default parameters for Adam, and then adjust from there\n",
        "- **Misc. advice**\n",
        "    - If you're training a larger model, it's sometimes a good idea to start with a smaller version of that same model. Good hyperparameters tend to transfer if the architecture & data is the same; the main difference is the larger model may require more regularization to prevent overfitting.\n",
        "    - Bad hyperparameters are usually clearly worse by the end of the first 1-2 epochs. You can manually abort runs that don't look promising (or do it automatically - see discussion of Hyperband in wandb sweeps at the end of this section)\n",
        "    - Overfitting at the start is better than underfitting, because it means your model is capable of learning and has enough capacity"
      ]
    },
    {
      "cell_type": "markdown",
      "metadata": {
        "id": "K9KD4oxcAEa0"
      },
      "source": [
        "## Hyperparameter search\n",
        "\n",
        "One way to search for good hyperparameters is to choose a set of values for each hyperparameter, and then search all combinations of those specific values. This is called **grid search**. The values don't need to be evenly spaced and you can incorporate any knowledge you have about plausible values from similar problems to choose the set of values. Searching the product of sets takes exponential time, so is really only feasible if there are a small number of hyperparameters. I would recommend forgetting about grid search if you have more than 3 hyperparameters, which in deep learning is \"always\".\n",
        "\n",
        "A much better idea is for each hyperparameter, decide on a sampling distribution and then on each trial just sample a random value from that distribution. This is called **random search** and back in 2012, you could get a [publication](https://www.jmlr.org/papers/volume13/bergstra12a/bergstra12a.pdf) for this. The diagram below shows the main reason that random search outperforms grid search. Empirically, some hyperparameters matter more than others, and random search benefits from having tried more distinct values in the important dimensions, increasing the chances of finding a \"peak\" between the grid points.\n",
        "\n",
        "<img src=\"https://raw.githubusercontent.com/callummcdougall/Fundamentals/main/images/grid_vs_random.png\" width=\"540\">\n",
        "\n",
        "\n",
        "It's worth noting that both of these searches are vastly less efficient than gradient descent at finding optima - imagine if you could only train neural networks by randomly initializing them and checking the loss! Either of these search methods without a dose of human (or eventually AI) judgement is just a great way to turn electricity into a bunch of models that don't perform very well."
      ]
    },
    {
      "cell_type": "markdown",
      "metadata": {
        "id": "W4MeXdedAEa0"
      },
      "source": [
        "## Running hyperparameter sweeps with `wandb`\n",
        "\n",
        "Now we've come to one of the most impressive features of `wandb` - being able to perform hyperparameter sweeps. We do this by defining a `sweep_config` dict which tells us how our hyperparameters will be randomly sampled, then we write a `train` function which takes no arguments and launches a training run with our modified hyperparameters. Lastly we use `wandb.sweep` and `wandb.agent` to run our sweep. We'll go through each step of this below."
      ]
    },
    {
      "cell_type": "markdown",
      "metadata": {
        "id": "VgYNiXFKAEa0"
      },
      "source": [
        "### Sweep config syntax\n",
        "\n",
        "The basic syntax for a sweep config looks like this:\n",
        "\n",
        "```python\n",
        "sweep_config = dict(\n",
        "    method = method, # can be \"grid\", \"random\" or \"bayes\"\n",
        "    metric = dict(\n",
        "        name = metric_name, # name of the metric you're optimising (should be a numeric type logged in `wandb.log`)\n",
        "        goal = goal, # either \"maximize\" or \"minimize\"\n",
        "    )),\n",
        "    parameters = dict(\n",
        "        param_1 = dict(...),\n",
        "        param_2 = dict(...),\n",
        "        ...\n",
        "    ),\n",
        ")\n",
        "```\n",
        "\n",
        "The `method` argument determines how we perform search: `grid` is over all combinations, `random` independently samples each hyperparameter, and `bayes` uses Bayesian optimization to sample hyperparameters. The `metric` dict determines what logged variable we're optimizing, and in what direction. Lastly, `parameters` is a list of parameters we're varying, with each dictionary describing how we want that parameter to be sampled. Possible ways to specify distributions include:\n",
        "\n",
        "```python\n",
        "parameters = dict(\n",
        "    param_1 = dict(values = [...]), # uniformly sample from list of values\n",
        "    param_2 = dict(values = [...], probabilities = [...]), # sample from list with given probabilities\n",
        "    param_3 = dict(min = ..., max = ...), # uniform distribution over [min, max), can either be ints or floats\n",
        "    param_4 = dict(min = ..., max = ..., distribution = \"log_uniform_values\"), # use log-uniform distribution instead\n",
        ")\n",
        "```\n",
        "\n",
        "Note on log uniform distribution - this essentially means we return `value` s.t. `log(value)` is uniformly distributed between `log(min)` and `log(max)`. It can be a useful way to sample hyperparameters which take values in a very large range.\n",
        "\n",
        "You can read more about the syntax [here](https://docs.wandb.ai/guides/sweeps/define-sweep-configuration), but the examples we've given you above should be enough to complete the rest of these exercises.\n",
        "\n",
        "<details>\n",
        "<summary>Note on using YAML files for sweeps (optional)</summary>\n",
        "\n",
        "Rather than using a dictionary, you can alternatively store the `sweep_config` data in a YAML file if you prefer. You will then be able to run a sweep via the following terminal commands:\n",
        "\n",
        "```\n",
        "wandb sweep sweep_config.yaml\n",
        "\n",
        "wandb agent <SWEEP_ID>\n",
        "```\n",
        "\n",
        "where `SWEEP_ID` is the value returned from the first terminal command. You will also need to add another line to the YAML file, specifying the program to be run. For instance, your YAML file might start like this:\n",
        "\n",
        "```yaml\n",
        "program: train.py\n",
        "method: random\n",
        "metric:\n",
        "    name: test_accuracy\n",
        "    goal: maximize\n",
        "```\n",
        "\n",
        "For more, see [this link](https://docs.wandb.ai/guides/sweeps/define-sweep-configuration).\n",
        "\n",
        "</details>"
      ]
    },
    {
      "cell_type": "markdown",
      "metadata": {
        "id": "2cz2ImyXAEa0"
      },
      "source": [
        "### Exercise - define a sweep config & update `args`\n",
        "\n",
        "> ```yaml\n",
        "> Difficulty: 🔴🔴⚪⚪⚪\n",
        "> Importance: 🔵🔵🔵⚪⚪\n",
        ">\n",
        "> You should spend up to 10-20 minutes on this exercise.\n",
        "> Learning how to use wandb for sweeps is very useful, so make sure you understand all parts of this code.\n",
        "> ```\n",
        "\n",
        "Using the syntax discussed above, you should define a dictionary `sweep_config` which has the following rules for hyperparameter sweeps:\n",
        "\n",
        "* Hyperparameters are chosen **randomly**, according to the distributions given in the dictionary\n",
        "* Your goal is to **maximize** the **accuracy** metric\n",
        "* The hyperparameters you vary are:\n",
        "    * Learning rate - a log-uniform distribution between 1e-4 and 1e-1\n",
        "    * Batch size - sampled uniformly from (32, 64, 128, 256)\n",
        "    * Weight decay - with 50% probability set to 0, and with 50% probability log-uniform between 1e-4 and 1e-2\n",
        "\n",
        "You should also fill in the `update_args` function, which returns a modified version of `args` based on the hyperparameters sampled by the sweep. In other words, it should take an `args` object and a dictionary of sampled parameters that might look something like `{\"lr\": 0.001, \"batch_size\": 64, ...}`, and return a new `args` object with these fields modified."
      ]
    },
    {
      "cell_type": "code",
      "execution_count": null,
      "metadata": {
        "id": "tnE65MAsAEa1"
      },
      "outputs": [],
      "source": [
        "# YOUR CODE HERE - fill `sweep_config` so it has the requested behaviour\n",
        "sweep_config = dict(\n",
        "    method = ...,\n",
        "    metric = ...,\n",
        "    parameters = ...,\n",
        ")\n",
        "\n",
        "\n",
        "def update_args(args: WandbResNetFinetuningArgs, sampled_parameters: dict) -> WandbResNetFinetuningArgs:\n",
        "    \"\"\"\n",
        "    Returns a new args object with modified values. The dictionary `sampled_parameters` will have the same keys as\n",
        "    your `sweep_config[\"parameters\"]` dict, and values equal to the sampled values of those hyperparameters.\n",
        "    \"\"\"\n",
        "    assert set(sampled_parameters.keys()) == set(sweep_config[\"parameters\"].keys())\n",
        "\n",
        "    # YOUR CODE HERE - update `args` based on `sampled_parameters`\n",
        "    raise NotImplementedError()\n",
        "\n",
        "\n",
        "tests.test_sweep_config(sweep_config)\n",
        "tests.test_update_args(update_args, sweep_config)"
      ]
    },
    {
      "cell_type": "markdown",
      "metadata": {
        "id": "9kvg7YrbAEa1"
      },
      "source": [
        "<details>\n",
        "<summary>Help - I'm not sure how to implement the weight decay distribution that was requested.</summary>\n",
        "\n",
        "The easiest option is to include 2 parameters: one is a boolean and determines whether to use weight decay, one is log-uniform and gives you the value in the cases where it's non-zero. Both parameters are used to set the final value in `args`.\n",
        "\n",
        "</details>\n",
        "\n",
        "<details>\n",
        "<summary>Solution</summary>\n",
        "\n",
        "```python\n",
        "sweep_config = dict(\n",
        "    method=\"random\",\n",
        "    metric=dict(name=\"accuracy\", goal=\"maximize\"),\n",
        "    parameters=dict(\n",
        "        learning_rate=dict(min=1e-4, max=1e-1, distribution=\"log_uniform_values\"),\n",
        "        batch_size=dict(values=[32, 64, 128, 256]),\n",
        "        weight_decay=dict(min=1e-4, max=1e-2, distribution=\"log_uniform_values\"),\n",
        "        weight_decay_bool=dict(values=[True, False]),\n",
        "    ),\n",
        ")\n",
        "\n",
        "def update_args(args: WandbResNetFinetuningArgs, sampled_parameters: dict) -> WandbResNetFinetuningArgs:\n",
        "    assert set(sampled_parameters.keys()) == set(sweep_config[\"parameters\"].keys())\n",
        "\n",
        "    args.learning_rate = sampled_parameters[\"learning_rate\"]\n",
        "    args.batch_size = sampled_parameters[\"batch_size\"]\n",
        "    args.weight_decay = sampled_parameters[\"weight_decay\"] if sampled_parameters[\"weight_decay_bool\"] else 0.0\n",
        "    return args\n",
        "```\n",
        "\n",
        "Alternatively, for a solution with less repetition, you can use the `dataclasses.replace` function to update multiple fields of `args` at once:\n",
        "\n",
        "```python\n",
        "def update_args(args: WandbResNetFinetuningArgs, sampled_parameters: dict) -> WandbResNetFinetuningArgs:\n",
        "    assert set(sampled_parameters.keys()) == set(sweep_config[\"parameters\"].keys())\n",
        "\n",
        "    sampled_parameters[\"weight_decay\"] *= float(sampled_parameters.pop(\"weight_decay_bool\"))\n",
        "    return replace(args, **sampled_parameters)\n",
        "```\n",
        "\n",
        "If you use this solution, you need to be careful that the names of your fields in `sweep_config` match the names of the fields in `WandbResNetFinetuningArgs`.\n",
        "\n",
        "</details>"
      ]
    },
    {
      "cell_type": "markdown",
      "metadata": {
        "id": "QRrlPvR-AEa1"
      },
      "source": [
        "Now we've done this, we'll define a `train` function that takes no arguments and launches a training run with our modified hyperparameters. This is done in the following way:\n",
        "\n",
        "- The train function calls `wandb.init`\n",
        "- Our sampled hyperparameters are now available in `wandb.config`, so we use this object to update `args`\n",
        "- We then launch a training run based on these new hyperparameters\n",
        "\n",
        "The line `sweep_id = wandb.sweep(...)` initializes a hyperparameter sweep (giving it an ID) and the line `wandb.agent(...)` starts an agent that runs the training script `train` 3 times, with different randomly sampled sets of hyperparameters each time.\n",
        "\n",
        "Note that we pass `reinit=False` into our `wandb.init` call - this is so we ignore the second `wandb.init` call that takes place in our pretraining setup when we run `trainer.train()` (so we can avoid the hassle of having to rewrite this method to remove that line)."
      ]
    },
    {
      "cell_type": "code",
      "execution_count": null,
      "metadata": {
        "id": "tcwl0TyXAEa1"
      },
      "outputs": [],
      "source": [
        "def train():\n",
        "    # Define args & initialize wandb\n",
        "    args = WandbResNetFinetuningArgs()\n",
        "    wandb.init(project=args.wandb_project, name=args.wandb_name, reinit=False)\n",
        "\n",
        "    # After initializing wandb, we can update args using `wandb.config`\n",
        "    args = update_args(args, dict(wandb.config))\n",
        "\n",
        "    # Train the model with these new hyperparameters (the second `wandb.init` call will be ignored)\n",
        "    trainer = WandbResNetFinetuner(args)\n",
        "    trainer.train()\n",
        "\n",
        "\n",
        "sweep_id = wandb.sweep(sweep=sweep_config, project=\"day3-resnet-sweep\")\n",
        "wandb.agent(sweep_id=sweep_id, function=train, count=3)\n",
        "wandb.finish()"
      ]
    },
    {
      "cell_type": "markdown",
      "metadata": {
        "id": "yhFAVr27AEa1"
      },
      "source": [
        "When you run this code, you should click on the link which looks like:\n",
        "\n",
        "```\n",
        "View sweep at https://wandb.ai/<USERNAME>/<PROJECT-NAME>/sweeps/<SWEEP-NAME>\n",
        "```\n",
        "\n",
        "This link will bring you to a page comparing each of your sweeps. You'll be able to see overlaid graphs of each of their training loss and test accuracy, as well as a bunch of other cool things like:\n",
        "\n",
        "* Bar charts of the [importance](https://docs.wandb.ai/ref/app/features/panels/parameter-importance) (and correlation) of each hyperparameter wrt the target metric. Note that only looking at the correlation could be misleading - something can have a correlation of 1, but still have a very small effect on the metric.\n",
        "* A [parallel coordinates plot](https://docs.wandb.ai/ref/app/features/panels/parallel-coordinates), which summarises the relationship between the hyperparameters in your config and the model metric you're optimising.\n",
        "\n",
        "What can you infer from these results? Are there any hyperparameters which are especially correlated / anticorrelated with the target metric? Are there any results which suggest the model is being undertrained?\n",
        "\n",
        "You might also want to play around with Bayesian hyperparameter search, if you get the time! Note that wandb sweeps also offer [early termination](https://docs.wandb.ai/guides/sweeps/define-sweep-configuration/#early_terminate) of runs that don't look promising, based on the [Hyperband](https://www.jmlr.org/papers/volume18/16-558/16-558.pdf) algorithm.\n",
        "\n",
        "To conclude - `wandb` is an incredibly useful tool when training models, and you should find yourself using it a fair amount throughout this program. You can always return to this page of exercises if you forget how any part of it works!"
      ]
    },
    {
      "cell_type": "markdown",
      "metadata": {
        "id": "mXVb5HTgAEa1"
      },
      "source": [
        "# 3️⃣ Distributed Training\n",
        "\n",
        "> ##### Learning Objectives\n",
        ">\n",
        "> * Understand the different kinds of parallelization used in deep learning (data, pipeline, tensor)\n",
        "> * Understand how primitive operations in `torch.distributed` work, and how they come together to enable distributed training\n",
        "> * Launch and benchmark your own distributed training runs, to train your implementation of `ResNet34` from scratch"
      ]
    },
    {
      "cell_type": "markdown",
      "metadata": {
        "id": "8K0c67N4AEa1"
      },
      "source": [
        "## Intro to distributed training\n",
        "\n",
        "Distributed training is a model training paradigm that involves spreading training workload across multiple worker nodes, therefore significantly improving the speed of training and model accuracy. While distributed training can be used for any type of ML model training, it is most beneficial to use it for large models and compute demanding tasks as deep learning.\n",
        "\n",
        "There are 2 main families of distributed training methods: **data parallelism** and **model parallelism**. In data parallelism, we split batches of data across different processes, run forward & backward passes on each separately, and accumulate the gradients to update the model parameters. In model parallelism, the model is segmented into different parts that can run concurrently in different nodes, and each one runs on the same data. Model parallelism further splits into horizontal and vertical parallelism depending on whether we're splitting the model up into sequential or parallel parts. Most often horizontal parallelism is called **tensor parallelism** (because it involves splitting up the weights in a single layer across multiple GPUs, into what we commonly call **sharded weights**), and vertical parallelism is called **pipeline parallelism**.\n",
        "\n",
        "<img src=\"https://raw.githubusercontent.com/info-arena/ARENA_img/main/misc/parallelism.png\" width=\"1100\">\n",
        "\n",
        "Data & model parallelism are both widely used, and can be more or less appropriate in different circumstances (e.g. some kind of model parallelism is necessary when your model is too large to fit on a single GPU). However it is possible to create hybrid forms of parallelism by combining these; this is especially common when training large models like current SOTA LLMs. In these exercises, we'll focus on just data parallelism, although we'll suggest a few bonus exercises that explore model parallelism."
      ]
    },
    {
      "cell_type": "markdown",
      "metadata": {
        "id": "yeUkVsj0AEa1"
      },
      "source": [
        "### Summary of exercises\n",
        "\n",
        "The exercises below will take you through **data parallelism**. You'll start by learning how to use the basic send and receive functions in PyTorch's distributed training module `torch.distributed` to transfer tensors between different processes (and different GPUs). Note that **you'll need multiple GPUs for these exercises** - we've included instructions in a dropdown below.\n",
        "\n",
        "<details>\n",
        "<summary>Getting multiple GPUs</summary>\n",
        "\n",
        "The instructions for booting up a machine from vastai can already be found on the Streamlit homepage (i.e. navigate to \"Home\" on the sidebar, then to the section \"Virtual Machines\"). The only extra thing you'll need to do here is filter for an appropriate machine type.\n",
        "\n",
        "We recommend filtering for \"Disk Space To Allocate\" (i.e. the primary slider on the top of the filter menu) of at least 40GB, not for the model (which is actually quite small) but for installing the ARENA dependencies. You should also filter for number of GPUs: we recommend 4x or 8x. You can do this using the options menu at the very top of the list of machines. Lastly, we recommend filtering for a decent PCIE Bandwidth (e.g. at least 20GB/s) - this is important for efficient gradient sychronization between GPUs. We're training a small model today: approx 22m parameters, which translates to ~88MB total size of weights, and so we'll transfer 88MB of data between GPUs per process (since we're transferring the model's gradients, which have the same size as the weights). We don't want this to be a bottleneck, which is why we should filter for this bandwidth.\n",
        "\n",
        "Once you've filtered for this, we recommend picking an RTX 3090 or 4090 machine. These won't be as powerful as an A100, but the purpose today is more to illustrate the basic ideas behind distributed training than to push your model training to its limits. Note that if you were using an A100 then you should filter for a high NVLink Bandwidth rather than PCIE (since A100s use NVLink instead of PCIE).\n",
        "\n",
        "</details>\n",
        "\n",
        "Once you've done this, you'll use those 2 primitive point-to-point functions to build up some more advanced functions: `broadcast` (which gets a tensor from one process to all others), `gather` (which gathers all tensors from different devices to a single device) and `all_reduce` (which combines both `broadcast` and `gather` to make aggregate tensor values across all processes). These functions (`all_reduce` in particular) are key parts of how distributed computing works.\n",
        "\n",
        "Lastly, you'll learn how to use these functions to build a distributed training loop, which will be adapted from the `ResNetTrainer` code from your previous exercises. We also explain how you can use `DistributedDataParallel` to abstract away these low-level operations, which you might find useful later on (although you will benefit from building these components up from scratch, and understanding how they work under the hood)."
      ]
    },
    {
      "cell_type": "markdown",
      "metadata": {
        "id": "32U4j4qZAEa1"
      },
      "source": [
        "### Running these exercises\n",
        "\n",
        "> These exercises can't all be run in a notebook or Colab, because distributed training typically requires spawning multiple processes and Jupyter notebooks run in a single interactive process - they're not designed for this kind of use-case.\n",
        "\n",
        "You have 2 different options:\n",
        "\n",
        "1. **Do everything in a Python file** (either `# %%`-separated cells or [execute on selection](https://stackoverflow.com/questions/38952053/how-can-i-run-text-selected-in-the-active-editor-in-vs-codes-integrated-termina)), but make sure to wrap any execution code in `if __name__ == \"__main__\":` blocks. This makes sure that when you launch multiple processes they don't recursively launch their own processes, and they'll only execute the code you want them to.\n",
        "2. **Write your functions in a Python file, then import & run them in a notebook**. For example in the example code below, you could define the `send_receive` function in a Python file, then import this function & pass it into the `mp.spawn()` call.\n",
        "\n",
        "In either case, make sure when you run `mp.spawn` you're passing in the most updated version of your function. This means saving the Python file after you make changes, and also using something like `importlib.reload()` if you're running the code in a notebook."
      ]
    },
    {
      "cell_type": "code",
      "execution_count": null,
      "metadata": {
        "id": "4B4trcuDAEa1"
      },
      "outputs": [],
      "source": [
        "IN_COLAB = \"google.colab\" in sys.modules\n",
        "assert not IN_COLAB, \"Should be doing these exercises in VS Code\""
      ]
    },
    {
      "cell_type": "markdown",
      "metadata": {
        "id": "S67jv_AKAEa1"
      },
      "source": [
        "## Basic send & receiving\n",
        "\n",
        "The code below is a simplified example that demonstrates distributed communication between multiple processes.\n",
        "\n",
        "At the highest level, `mp.spawn()` launches multiple worker processes, each with a unique rank. For each worker, we create a new Python interpreter (called a \"child process\") which will execute the function passed to `mp.spawn` (which in this case is `send_receive`). The function has to have the type signature `fn(rank, *args)` where `args` is the tuple we pass into `mp.spawn()`. The total number of processes is determined by `world_size`. Note that this isn't the same as the number of GPUs - in fact, in the code below we've not moved any of our data to GPUs, we're just using the distributed API to sync data across multiple processes. We'll introduce GPUs in the code below this!\n",
        "\n",
        "We require the environment variables `MASTER_ADDR` and `MASTER_PORT` to be set before launching & communicating between processes. The former specifies the IP address or hostname of the machine that will act as the central coordinator (the \"master\" node) for setting up and managing the distributed environment, while the latter specifies the port number that the master node will use for communication. In our case we're running all our processes from a single node, so all we need is for this to be an unused port on our machine.\n",
        "\n",
        "Now, breaking down the `send_receive` function line by line:\n",
        "\n",
        "- `dist.init_process_group` initializes each process with a common address and port, and a communication backend. It also gives each process a unique rank, so they know who is sending & receiving data.\n",
        "- If the function is being run by rank 0, then we create a tensor of zeros and send it using `dist.send`.\n",
        "- If the function is being run by rank 1, then we create a tensor of ones and wait to receive a tensor from rank 0 using `dist.recv`. This will overwrite the data in the original tensor that we created, i.e. so we're just left with a tensor of zeros.\n",
        "- `dist.destroy_process_group()` is called at the end of the function to destroy the process group and release resources.\n",
        "\n",
        "The functions `dist.send` and `dist.recv` are the basic primitives for point-to-point communication between processes (we'll look at the primitives for collective communication later on). Each `recv` for a given source process `src` will wait until it receives a `send` from that source to continue, and likewise each `send` to a given destination process `dst` will wait until it receives a `recv` from that process to continue. We call these **blocking operations** (later on we'll look at non-blocking operations)."
      ]
    },
    {
      "cell_type": "code",
      "execution_count": null,
      "metadata": {
        "id": "YsPvdLajAEa1"
      },
      "outputs": [],
      "source": [
        "WORLD_SIZE = t.cuda.device_count()\n",
        "\n",
        "os.environ[\"MASTER_ADDR\"] = \"localhost\"\n",
        "os.environ[\"MASTER_PORT\"] = \"12345\"\n",
        "\n",
        "\n",
        "def send_receive(rank, world_size):\n",
        "    dist.init_process_group(backend=\"gloo\", rank=rank, world_size=world_size)\n",
        "\n",
        "    if rank == 0:\n",
        "        # Send tensor to rank 1\n",
        "        sending_tensor = t.zeros(1)\n",
        "        print(f\"{rank=}, sending {sending_tensor=}\")\n",
        "        dist.send(tensor=sending_tensor, dst=1)\n",
        "    elif rank == 1:\n",
        "        # Receive tensor from rank 0\n",
        "        received_tensor = t.ones(1)\n",
        "        print(f\"{rank=}, creating {received_tensor=}\")\n",
        "        dist.recv(received_tensor, src=0)  # this line overwrites the tensor's data with our `sending_tensor`\n",
        "        print(f\"{rank=}, received {received_tensor=}\")\n",
        "\n",
        "    dist.destroy_process_group()\n",
        "\n",
        "\n",
        "if MAIN:\n",
        "    world_size = 2  # simulate 2 processes\n",
        "    mp.spawn(send_receive, args=(world_size,), nprocs=world_size, join=True)"
      ]
    },
    {
      "cell_type": "markdown",
      "metadata": {
        "id": "JiYxcohgAEa2"
      },
      "source": [
        "Now, let's adapt this toy example to work with our multiple GPUs! You can check how many GPUs you have access to using `torch.cuda.device_count()`."
      ]
    },
    {
      "cell_type": "code",
      "execution_count": null,
      "metadata": {
        "id": "zl9e9jJrAEa2"
      },
      "outputs": [],
      "source": [
        "assert t.cuda.is_available()\n",
        "assert t.cuda.device_count() > 1, \"This example requires at least 2 GPUs per machine\""
      ]
    },
    {
      "cell_type": "markdown",
      "metadata": {
        "id": "jiq_CsQVAEa2"
      },
      "source": [
        "Before writing our new code, let's first return to the `backend` argument for `dist.init_process_group`. There are 3 main backends for distributed training: MPI, GLOO and NCCL. The first two are more general-purpose and support both CPU & GPU tensor communication, while NCCL is a GPU-only protocol optimized specifically for NVIDIA GPUs. It provides better bandwidth and lower latency for GPU-GPU communication, and so we'll be using it for subsequent exercises.\n",
        "\n",
        "When sending & receiving tensors between GPUs with a NCCL backend, there are 3 important things to remember:\n",
        "\n",
        "1. Send & received tensors should be of the same datatype.\n",
        "2. Tensors need to be moved to the GPU before sending or receiving.\n",
        "3. No two processes should be using the same GPU.\n",
        "\n",
        "Because of this third point, each process `rank` will be using the GPU with index `rank` - hence we'll sometimes refer to the process rank and its corresponding GPU index interchangeably. However it's worth emphasizing that this only applies to our specific data parallelism & NCCL backend example, and so this correspondence doesn't have to exist in general.\n",
        "\n",
        "The code below is a slightly modified version of the prior code; all we're doing is changing the backend to NCCL & moving the tensors to the appropriate device before sending or receiving.\n",
        "\n",
        "Note - if at any point during this section you get errors related to the socket, then you can kill the processes by running `kill -9 <pid>` where `<pid>` is the process ID. If the process ID isn't given in the error message, you can find it using `lsof -i :<port>` where `<port>` is the port number specified in `os.environ[\"MASTER_PORT\"]` (note you might have to `sudo apt-get install lsof` before you can run this). If your code is still failing, try changing the port in `os.environ[\"MASTER_PORT\"]` and running it again.\n",
        "\n",
        "<!-- Note - an alternative to explicitly defining the device here is to run the line `torch.cuda.set_device(rank)`, then code like `tensor.cuda()` will automatically send the tensor to the correct device. Which one you use is a matter of preference, however for the solutions & demo code we'll stick with the explicit device definition. -->"
      ]
    },
    {
      "cell_type": "code",
      "execution_count": null,
      "metadata": {
        "id": "VHCH7Ki7AEa2"
      },
      "outputs": [],
      "source": [
        "def send_receive_nccl(rank, world_size):\n",
        "    dist.init_process_group(backend=\"nccl\", rank=rank, world_size=world_size)\n",
        "\n",
        "    device = t.device(f\"cuda:{rank}\")\n",
        "\n",
        "    if rank == 0:\n",
        "        # Create a tensor, send it to rank 1\n",
        "        sending_tensor = t.tensor([rank], device=device)\n",
        "        print(f\"{rank=}, {device=}, sending {sending_tensor=}\")\n",
        "        dist.send(sending_tensor, dst=1)  # Send tensor to CPU before sending\n",
        "    elif rank == 1:\n",
        "        # Receive tensor from rank 0 (it needs to be on the CPU before receiving)\n",
        "        received_tensor = t.tensor([rank], device=device)\n",
        "        print(f\"{rank=}, {device=}, creating {received_tensor=}\")\n",
        "        dist.recv(received_tensor, src=0)  # this line overwrites the tensor's data with our `sending_tensor`\n",
        "        print(f\"{rank=}, {device=}, received {received_tensor=}\")\n",
        "\n",
        "    dist.destroy_process_group()\n",
        "\n",
        "\n",
        "if MAIN:\n",
        "    world_size = 2  # simulate 2 processes\n",
        "    mp.spawn(send_receive_nccl, args=(world_size,), nprocs=world_size, join=True)"
      ]
    },
    {
      "cell_type": "markdown",
      "metadata": {
        "id": "j7OP-fybAEa2"
      },
      "source": [
        "## Collective communication primitives\n",
        "\n",
        "We'll now move from basic point-to-point communication to **collective communication**. This refers to operations that synchronize data across multiple processes, rather than just between a single sender and receiver. There are 3 important kinds of collective communication functions:\n",
        "\n",
        "- **Broadcast**: send a tensor from one process to all other processes\n",
        "- **Gather**: collect tensors from all processes and concatenates them into a single tensor\n",
        "- **Reduce**: like gather, but perform a reduction operation (e.g. sum, mean) rather than concatenation\n",
        "\n",
        "The latter 2 functions have different variants depending on whether you want the final result to be in just a single destination process or in all of them: for example `dist.gather` will gather data to a single destination process, while `dist.all_gather` will make sure every process ends up with all the data.\n",
        "\n",
        "The functions we're most interested in building are `broadcast` and `all_reduce` - the former for making sure all processes have the same initial model parameters, and the latter for aggregating gradients across all processes."
      ]
    },
    {
      "cell_type": "markdown",
      "metadata": {
        "id": "uKk-cvG4AEa2"
      },
      "source": [
        "### Exercise - implement `broadcast`\n",
        "\n",
        "> ```yaml\n",
        "> Difficulty: 🔴🔴🔴⚪⚪\n",
        "> Importance: 🔵🔵🔵⚪⚪\n",
        ">\n",
        "> You should spend up to 10-20 minutes on this exercise.\n",
        "> ```\n",
        "\n",
        "Below, you should implement `broadcast`. If you have tensor $T_i$ on process $i$ for each index, then after running this function you should have $T_s$ on all processes, where $s$ is the source process. If you're confused, you can see exactly what is expected of you by reading the test code in `tests.py`. Again, remember that you should be running tests either from the command line or in the Python interactive terminal, not in a notebook cell."
      ]
    },
    {
      "cell_type": "code",
      "execution_count": null,
      "metadata": {
        "id": "6kS4vb4eAEa2"
      },
      "outputs": [],
      "source": [
        "def broadcast(tensor: Tensor, rank: int, world_size: int, src: int = 0):\n",
        "    \"\"\"\n",
        "    Broadcast averaged gradients from rank 0 to all other ranks.\n",
        "    \"\"\"\n",
        "    raise NotImplementedError()\n",
        "\n",
        "\n",
        "if MAIN:\n",
        "    tests.test_broadcast(broadcast, WORLD_SIZE)"
      ]
    },
    {
      "cell_type": "markdown",
      "metadata": {
        "id": "OfnOVZoxAEa2"
      },
      "source": [
        "<details><summary>Solution</summary>\n",
        "\n",
        "```python\n",
        "def broadcast(tensor: Tensor, rank: int, world_size: int, src: int = 0):\n",
        "    \"\"\"\n",
        "    Broadcast averaged gradients from rank 0 to all other ranks.\n",
        "    \"\"\"\n",
        "    if rank == src:\n",
        "        for other_rank in range(world_size):\n",
        "            if other_rank != src:\n",
        "                dist.send(tensor, dst=other_rank)\n",
        "    else:\n",
        "        received_tensor = t.zeros_like(tensor)\n",
        "        dist.recv(received_tensor, src=src)\n",
        "        tensor.copy_(received_tensor)\n",
        "```\n",
        "</details>"
      ]
    },
    {
      "cell_type": "markdown",
      "metadata": {
        "id": "CXOojlmNAEa2"
      },
      "source": [
        "### Exercise - implement `all_reduce`\n",
        "\n",
        "> ```yaml\n",
        "> Difficulty: 🔴🔴🔴⚪⚪\n",
        "> Importance: 🔵🔵🔵⚪⚪\n",
        ">\n",
        "> You should spend up to 10-20 minutes on this exercise.\n",
        "> ```\n",
        "\n",
        "You should now implement `reduce` and `all_reduce`. The former will aggregate the tensors at some destination process (either sum or mean), and the latter will do the same but then broadcast the result to all processes.\n",
        "\n",
        "Note, more complicated allreduce algorithms exist than this naive one, and you'll be able to look at some of them in the bonus material."
      ]
    },
    {
      "cell_type": "code",
      "execution_count": null,
      "metadata": {
        "id": "bpOrvDISAEa2"
      },
      "outputs": [],
      "source": [
        "def reduce(tensor, rank, world_size, dst=0, op: Literal[\"sum\", \"mean\"] = \"sum\"):\n",
        "    \"\"\"\n",
        "    Reduces gradients to rank `dst`, so this process contains the sum or mean of all tensors across processes.\n",
        "    \"\"\"\n",
        "    raise NotImplementedError()\n",
        "\n",
        "\n",
        "def all_reduce(tensor, rank, world_size, op: Literal[\"sum\", \"mean\"] = \"sum\"):\n",
        "    \"\"\"\n",
        "    Allreduce the tensor across all ranks, using 0 as the initial gathering rank.\n",
        "    \"\"\"\n",
        "    raise NotImplementedError()\n",
        "\n",
        "\n",
        "if MAIN:\n",
        "    tests.test_reduce(reduce, WORLD_SIZE)\n",
        "    tests.test_all_reduce(all_reduce, WORLD_SIZE)"
      ]
    },
    {
      "cell_type": "markdown",
      "metadata": {
        "id": "N5Fj-bSiAEa2"
      },
      "source": [
        "<details><summary>Solution</summary>\n",
        "\n",
        "```python\n",
        "def reduce(tensor, rank, world_size, dst=0, op: Literal[\"sum\", \"mean\"] = \"sum\"):\n",
        "    \"\"\"\n",
        "    Reduces gradients to rank `dst`, so this process contains the sum or mean of all tensors across processes.\n",
        "    \"\"\"\n",
        "    if rank != dst:\n",
        "        dist.send(tensor, dst=dst)\n",
        "    else:\n",
        "        for other_rank in range(world_size):\n",
        "            if other_rank != dst:\n",
        "                received_tensor = t.zeros_like(tensor)\n",
        "                dist.recv(received_tensor, src=other_rank)\n",
        "                tensor += received_tensor\n",
        "    if op == \"mean\":\n",
        "        tensor /= world_size\n",
        "\n",
        "\n",
        "def all_reduce(tensor, rank, world_size, op: Literal[\"sum\", \"mean\"] = \"sum\"):\n",
        "    \"\"\"\n",
        "    Allreduce the tensor across all ranks, using 0 as the initial gathering rank.\n",
        "    \"\"\"\n",
        "    reduce(tensor, rank, world_size, dst=0, op=op)\n",
        "    broadcast(tensor, rank, world_size, src=0)\n",
        "```\n",
        "</details>"
      ]
    },
    {
      "cell_type": "markdown",
      "metadata": {
        "id": "sGseYXXfAEa3"
      },
      "source": [
        "<!-- <pre style=\"white-space:pre;overflow-x:auto;line-height:normal;font-family:Menlo,'DejaVu Sans Mono',consolas,'Courier New',monospace\">Running reduce on dst=0, with initial tensors: [0, 0], [1, 2], [10, 20]\n",
        "Rank 1, op='sum', expected non-reduced tensor([1., 2.]), got tensor([1., 2.])\n",
        "Rank 1, op='mean', expected non-reduced tensor([0.3333, 0.6667]), got tensor([0.3333, 0.6667])\n",
        "Rank 0, op='sum', expected reduced tensor([11., 22.]), got tensor([11., 22.])\n",
        "Rank 2, op='sum', expected non-reduced tensor([10., 20.]), got tensor([10., 20.])\n",
        "Rank 0, op='mean', expected reduced tensor([3.6667, 7.3333]), got tensor([3.6667, 7.3333])\n",
        "Rank 2, op='mean', expected non-reduced tensor([3.3333, 6.6667]), got tensor([3.3333, 6.6667])\n",
        "All tests in `test_reduce` passed!\n",
        "\n",
        "Running all_reduce, with initial tensors: [0, 0], [1, 2], [10, 20]\n",
        "Rank 1, op='sum', expected non-reduced tensor([11., 22.]), got tensor([11., 22.])\n",
        "Rank 2, op='sum', expected non-reduced tensor([11., 22.]), got tensor([11., 22.])\n",
        "Rank 0, op='sum', expected non-reduced tensor([11., 22.]), got tensor([11., 22.])\n",
        "Rank 1, op='mean', expected non-reduced tensor([3.6667, 7.3333]), got tensor([3.6667, 7.3333])\n",
        "Rank 2, op='mean', expected non-reduced tensor([3.6667, 7.3333]), got tensor([3.6667, 7.3333])\n",
        "Rank 0, op='mean', expected non-reduced tensor([3.6667, 7.3333]), got tensor([3.6667, 7.3333])\n",
        "All tests in `test_all_reduce` passed!</pre> -->\n",
        "\n",
        "Once you've passed these tests, you can run the code below to see how this works for a toy example of model training. In this case our model just has a single parameter and we're performing gradient descent using the squared error between its parameters and the input data as our loss function (in other words we're training the model's parameters to equal the mean of the input data).\n",
        "\n",
        "The data in the example below is the same as the rank index, i.e. `r = 0, 1`. For initial parameter `x = 2` this gives us errors of `(x-r).pow(2) = 4, 2` respectively, and gradients of `2x(x-r) = 8, 4`. Averaging these gives us a gradient of `6`, so after a single optimization step with learning rate `lr=0.1` we get our gradients changing to `2.0 - 0.6 = 1.4`."
      ]
    },
    {
      "cell_type": "code",
      "execution_count": null,
      "metadata": {
        "id": "Jp-SQleUAEa3"
      },
      "outputs": [],
      "source": [
        "class SimpleModel(t.nn.Module):\n",
        "    def __init__(self):\n",
        "        super(SimpleModel, self).__init__()\n",
        "        self.param = t.nn.Parameter(t.tensor([2.0]))\n",
        "\n",
        "    def forward(self, x: t.Tensor):\n",
        "        return x - self.param\n",
        "\n",
        "\n",
        "def run_simple_model(rank, world_size):\n",
        "    dist.init_process_group(backend=\"nccl\", rank=rank, world_size=world_size)\n",
        "\n",
        "    device = t.device(f\"cuda:{rank}\")\n",
        "    model = SimpleModel().to(device)  # Move the model to the device corresponding to this process\n",
        "    optimizer = t.optim.SGD(model.parameters(), lr=0.1)\n",
        "\n",
        "    input = t.tensor([rank], dtype=t.float32, device=device)\n",
        "    output = model(input)\n",
        "    loss = output.pow(2).sum()\n",
        "    loss.backward()  # Each rank has separate gradients at this point\n",
        "\n",
        "    print(f\"Rank {rank}, before all_reduce, grads: {model.param.grad=}\")\n",
        "    all_reduce(model.param.grad, rank, world_size)  # Synchronize gradients\n",
        "    print(f\"Rank {rank}, after all_reduce, synced grads (summed over processes): {model.param.grad=}\")\n",
        "\n",
        "    optimizer.step()  # Step with the optimizer (this will update all models the same way)\n",
        "    print(f\"Rank {rank}, new param: {model.param.data}\")\n",
        "\n",
        "    dist.destroy_process_group()\n",
        "\n",
        "\n",
        "if MAIN:\n",
        "    world_size = 2\n",
        "    mp.spawn(run_simple_model, args=(world_size,), nprocs=world_size, join=True)"
      ]
    },
    {
      "cell_type": "markdown",
      "metadata": {
        "id": "YGlFOfIeAEa3"
      },
      "source": [
        "## Full training loop\n",
        "\n",
        "We'll now use everything we've learned to put together a full training loop! Rather than finetuning it which we've been doing so far, you'll be training your resnet from scratch (although still using the same CIFAR10 dataset). We've given you a function `get_untrained_resnet` which uses the `ResNet34` class from yesterday's solutions, although you're encouraged to replace this function with your implementation if you've completed those exercises.\n",
        "\n",
        "There are 4 key elements you'll need to change from the non-distributed version of training:\n",
        "\n",
        "1. **Weight broadcasting at initialization**\n",
        "    - For each process you'll need to initialize your model and move it onto the corresponding GPU, but you also want to make sure each process is working with the same model. You do this by **broadcasting weights in the `__init__` method**, e.g. using process 0 as the shared source process.\n",
        "    - Note - you may find you'll have to brodcast `param.data` rather than `param` when you iterate through the model's parameters, because broadcasting only works for tensors not parameters. Parameters are a special class wrapping around and extending standard PyTorch tensors - we'll look at this in more detail tomorrow!\n",
        "2. **Dataloader sampling at each epoch**\n",
        "    - Distributed training works by splitting each batch of data across all the running processes, and so we need to implement this by splitting each batch randomly across our GPUs.\n",
        "    - Some sample code for this is given below - we recommend you start with this (although you're welcome to play around with some of the parameters here like `num_workers` and `pin_memory`).\n",
        "3. **Parameter syncing after each training step**\n",
        "    - After each `loss.backward()` call but before stepping with the optimizer, you'll need to use `all_reduce` to sync gradients across each parameter in the model.\n",
        "    - Just like in the example we gave above, calling `all_reduce` on `param.grad` should work, because `.grad` is a standard PyTorch tensor.\n",
        "4. **Aggregating correct predictions after each evaluation step**\\*\n",
        "    - We can also split the evaluation step across GPUs - we use `all_reduce` at the end of the `evaluate` method to sum the total number of correct predictions across GPUs.\n",
        "    - This is optional, and often it's not implemented because the evaluation step isn't a bottleneck compared to training, however we've included it in our solutions for completeness.\n",
        "\n",
        "<details>\n",
        "<summary>Dataloader sampling example code</summary>\n",
        "\n",
        "```python\n",
        "self.train_sampler = t.utils.data.DistributedSampler(\n",
        "    self.trainset,\n",
        "    num_replicas=args.world_size, # we'll divide each batch up into this many random sub-batches\n",
        "    rank=self.rank, # this determines which sub-batch this process gets\n",
        ")\n",
        "self.train_loader = t.utils.data.DataLoader(\n",
        "    self.trainset,\n",
        "    self.args.batch_size, # this is the sub-batch size, i.e. the batch size that each GPU gets\n",
        "    sampler=self.train_sampler,\n",
        "    num_workers=2,  # setting this low so as not to risk bottlenecking CPU resources\n",
        "    pin_memory=True,  # this can improve data transfer speed between CPU and GPU\n",
        ")\n",
        "\n",
        "for epoch in range(self.args.epochs):\n",
        "self.train_sampler.set_epoch(epoch)\n",
        "for imgs, labels in self.train_loader:\n",
        "    ...\n",
        "```\n",
        "\n",
        "</details>"
      ]
    },
    {
      "cell_type": "markdown",
      "metadata": {
        "id": "k3yHSAYTAEa3"
      },
      "source": [
        "### Exercise - complete `DistResNetTrainer`\n",
        "\n",
        "> ```yaml\n",
        "> Difficulty: 🔴🔴🔴🔴🔴\n",
        "> Importance: 🔵🔵🔵⚪⚪\n",
        ">\n",
        "> You should spend up to 30-60 minutes on this exercise.\n",
        "> If you get stuck on specific bits, you're encouraged to look at the solutions for guidance.\n",
        "> ```\n",
        "\n",
        "We've given you the function `dist_train_resnet_from_scratch` which you'll be able to pass into `mp.spawn` just like the examples above, and we've given you a very light template for the `DistResNetTrainer` class which you should fill in. Your job is just to make the 4 adjustments described above. We recommend not using inheritance for this, because there are lots of minor modifications you'll need to make to the previous code and so you won't be reducing code duplication by very much.\n",
        "\n",
        "A few last tips before we get started:\n",
        "\n",
        "- If your code is running slowly, we recommend you also `wandb.log` the duration of each stage of the training step from the rank 0 process (fwd pass, bwd pass, and `all_reduce` for parameter syncing), as well as logging the duration of the training & evaluation phases across the epoch. These kinds of logs are generally very helpful for debugging slow code.\n",
        "- Since running this code won't directly return your model as output, it's good practice to save your model at the end of training using `torch.save`.\n",
        "- We recommend you increment `examples_seen` by the total number of examples across processes, i.e. `len(input) * world_size`. This will help when you're comparing across different runs with different world sizes (it's convenient for them to have a consistent x-axis)."
      ]
    },
    {
      "cell_type": "code",
      "execution_count": null,
      "metadata": {
        "id": "DjZMJcE5AEa3"
      },
      "outputs": [],
      "source": [
        "def get_untrained_resnet(n_classes: int) -> ResNet34:\n",
        "    \"\"\"Gets untrained resnet using code from part2_cnns.solutions (you can replace this with your implementation).\"\"\"\n",
        "    resnet = ResNet34()\n",
        "    resnet.out_layers[-1] = Linear(resnet.out_features_per_group[-1], n_classes)\n",
        "    return resnet\n",
        "\n",
        "\n",
        "@dataclass\n",
        "class DistResNetTrainingArgs(WandbResNetFinetuningArgs):\n",
        "    world_size: int = 1\n",
        "    wandb_project: str | None = \"day3-resnet-dist-training\"\n",
        "\n",
        "\n",
        "class DistResNetTrainer:\n",
        "    args: DistResNetTrainingArgs\n",
        "\n",
        "    def __init__(self, args: DistResNetTrainingArgs, rank: int):\n",
        "        self.args = args\n",
        "        self.rank = rank\n",
        "        self.device = t.device(f\"cuda:{rank}\")\n",
        "\n",
        "    def pre_training_setup(self):\n",
        "        raise NotImplementedError()\n",
        "\n",
        "    def training_step(self, imgs: Tensor, labels: Tensor) -> Tensor:\n",
        "        raise NotImplementedError()\n",
        "\n",
        "    @t.inference_mode()\n",
        "    def evaluate(self) -> float:\n",
        "        raise NotImplementedError()\n",
        "\n",
        "    def train(self):\n",
        "        raise NotImplementedError()\n",
        "\n",
        "\n",
        "def dist_train_resnet_from_scratch(rank, world_size):\n",
        "    dist.init_process_group(backend=\"nccl\", rank=rank, world_size=world_size)\n",
        "    args = DistResNetTrainingArgs(world_size=world_size)\n",
        "    trainer = DistResNetTrainer(args, rank)\n",
        "    trainer.train()\n",
        "    dist.destroy_process_group()\n",
        "\n",
        "\n",
        "if MAIN:\n",
        "    world_size = t.cuda.device_count()\n",
        "    mp.spawn(dist_train_resnet_from_scratch, args=(world_size,), nprocs=world_size, join=True)"
      ]
    },
    {
      "cell_type": "markdown",
      "metadata": {
        "id": "7zl2ZsAmAEa3"
      },
      "source": [
        "<details><summary>Solution</summary>\n",
        "\n",
        "```python\n",
        "def get_untrained_resnet(n_classes: int) -> ResNet34:\n",
        "    \"\"\"Gets untrained resnet using code from part2_cnns.solutions (you can replace this with your implementation).\"\"\"\n",
        "    resnet = ResNet34()\n",
        "    resnet.out_layers[-1] = Linear(resnet.out_features_per_group[-1], n_classes)\n",
        "    return resnet\n",
        "\n",
        "\n",
        "@dataclass\n",
        "class DistResNetTrainingArgs(WandbResNetFinetuningArgs):\n",
        "    world_size: int = 1\n",
        "    wandb_project: str | None = \"day3-resnet-dist-training\"\n",
        "\n",
        "\n",
        "class DistResNetTrainer:\n",
        "    args: DistResNetTrainingArgs\n",
        "\n",
        "    def __init__(self, args: DistResNetTrainingArgs, rank: int):\n",
        "        self.args = args\n",
        "        self.rank = rank\n",
        "        self.device = t.device(f\"cuda:{rank}\")\n",
        "\n",
        "    def pre_training_setup(self):\n",
        "        self.model = get_untrained_resnet(self.args.n_classes).to(self.device)\n",
        "        if self.args.world_size > 1:\n",
        "            for param in self.model.parameters():\n",
        "                broadcast(param.data, self.rank, self.args.world_size, src=0)\n",
        "                # dist.broadcast(param.data, src=0)\n",
        "\n",
        "        self.optimizer = t.optim.AdamW(\n",
        "            self.model.parameters(), lr=self.args.learning_rate, weight_decay=self.args.weight_decay\n",
        "        )\n",
        "\n",
        "        self.trainset, self.testset = get_cifar()\n",
        "        self.train_sampler = self.test_sampler = None\n",
        "        if self.args.world_size > 1:\n",
        "            self.train_sampler = DistributedSampler(self.trainset, num_replicas=self.args.world_size, rank=self.rank)\n",
        "            self.test_sampler = DistributedSampler(self.testset, num_replicas=self.args.world_size, rank=self.rank)\n",
        "        dataloader_shared_kwargs = dict(batch_size=self.args.batch_size, num_workers=2, pin_memory=True)\n",
        "        self.train_loader = DataLoader(self.trainset, sampler=self.train_sampler, **dataloader_shared_kwargs)\n",
        "        self.test_loader = DataLoader(self.testset, sampler=self.test_sampler, **dataloader_shared_kwargs)\n",
        "        self.examples_seen = 0\n",
        "\n",
        "        if self.rank == 0:\n",
        "            wandb.init(project=self.args.wandb_project, name=self.args.wandb_name, config=self.args)\n",
        "\n",
        "    def training_step(self, imgs: Tensor, labels: Tensor) -> Tensor:\n",
        "        t0 = time.time()\n",
        "\n",
        "        # Forward pass\n",
        "        imgs, labels = imgs.to(self.device), labels.to(self.device)\n",
        "        logits = self.model(imgs)\n",
        "        t1 = time.time()\n",
        "\n",
        "        # Backward pass\n",
        "        loss = F.cross_entropy(logits, labels)\n",
        "        loss.backward()\n",
        "        t2 = time.time()\n",
        "\n",
        "        # Gradient sychronization\n",
        "        if self.args.world_size > 1:\n",
        "            for param in self.model.parameters():\n",
        "                all_reduce(param.grad, self.rank, self.args.world_size, op=\"mean\")\n",
        "                # dist.all_reduce(param.grad, op=dist.ReduceOp.SUM); param.grad /= self.args.world_size\n",
        "        t3 = time.time()\n",
        "\n",
        "        # Optimizer step, update examples seen & log data\n",
        "        self.optimizer.step()\n",
        "        self.optimizer.zero_grad()\n",
        "        self.examples_seen += imgs.shape[0] * self.args.world_size\n",
        "        if self.rank == 0:\n",
        "            wandb.log(\n",
        "                {\"loss\": loss.item(), \"fwd_time\": (t1 - t0), \"bwd_time\": (t2 - t1), \"dist_time\": (t3 - t2)},\n",
        "                step=self.examples_seen,\n",
        "            )\n",
        "        return loss\n",
        "\n",
        "    @t.inference_mode()\n",
        "    def evaluate(self) -> float:\n",
        "        self.model.eval()\n",
        "        total_correct, total_samples = 0, 0\n",
        "\n",
        "        for imgs, labels in tqdm(self.test_loader, desc=\"Evaluating\", disable=self.rank != 0):\n",
        "            imgs, labels = imgs.to(self.device), labels.to(self.device)\n",
        "            logits = self.model(imgs)\n",
        "            total_correct += (logits.argmax(dim=1) == labels).sum().item()\n",
        "            total_samples += len(imgs)\n",
        "\n",
        "        # Turn total_correct & total_samples into a tensor, so we can use all_reduce to sum them across processes\n",
        "        tensor = t.tensor([total_correct, total_samples], device=self.device)\n",
        "        all_reduce(tensor, self.rank, self.args.world_size, op=\"sum\")\n",
        "        total_correct, total_samples = tensor.tolist()\n",
        "\n",
        "        accuracy = total_correct / total_samples\n",
        "        if self.rank == 0:\n",
        "            wandb.log({\"accuracy\": accuracy}, step=self.examples_seen)\n",
        "        return accuracy\n",
        "\n",
        "    def train(self):\n",
        "        self.pre_training_setup()\n",
        "\n",
        "        accuracy = self.evaluate()  # our evaluate method is the same as parent class\n",
        "\n",
        "        for epoch in range(self.args.epochs):\n",
        "            t0 = time.time()\n",
        "\n",
        "            if self.args.world_size > 1:\n",
        "                self.train_sampler.set_epoch(epoch)\n",
        "                self.test_sampler.set_epoch(epoch)\n",
        "\n",
        "            self.model.train()\n",
        "\n",
        "            pbar = tqdm(self.train_loader, desc=\"Training\", disable=self.rank != 0)\n",
        "            for imgs, labels in pbar:\n",
        "                loss = self.training_step(imgs, labels)\n",
        "                pbar.set_postfix(loss=f\"{loss:.3f}\", ex_seen=f\"{self.examples_seen=:06}\")\n",
        "\n",
        "            accuracy = self.evaluate()\n",
        "\n",
        "            if self.rank == 0:\n",
        "                wandb.log({\"epoch_duration\": time.time() - t0}, step=self.examples_seen)\n",
        "                pbar.set_postfix(loss=f\"{loss:.3f}\", accuracy=f\"{accuracy:.3f}\", ex_seen=f\"{self.examples_seen=:06}\")\n",
        "\n",
        "        if self.rank == 0:\n",
        "            wandb.finish()\n",
        "            t.save(self.model.state_dict(), f\"resnet_{self.rank}.pth\")\n",
        "\n",
        "\n",
        "def dist_train_resnet_from_scratch(rank, world_size):\n",
        "    dist.init_process_group(backend=\"nccl\", rank=rank, world_size=world_size)\n",
        "    args = DistResNetTrainingArgs(world_size=world_size)\n",
        "    trainer = DistResNetTrainer(args, rank)\n",
        "    trainer.train()\n",
        "    dist.destroy_process_group()\n",
        "```\n",
        "</details>"
      ]
    },
    {
      "cell_type": "markdown",
      "metadata": {
        "id": "dDNujSlxAEa3"
      },
      "source": [
        "## Bonus - DDP\n",
        "\n",
        "In practice, the most convenient way to use DDP is to wrap your model in `torch.nn.parallel.DistributedDataParallel`, which removes the need for explicitly calling `broadcast` at the start and `all_reduce` at the end of each training step. When you define a model in this way, it will automatically broadcast its weights to all processes, and the gradients will sync after each `loss.backward()` call. Here's the example `SimpleModel` code from above, rewritten to use these features:"
      ]
    },
    {
      "cell_type": "code",
      "execution_count": null,
      "metadata": {
        "id": "BKAMjzsJAEa3"
      },
      "outputs": [],
      "source": [
        "from torch.nn.parallel import DistributedDataParallel as DDP\n",
        "\n",
        "\n",
        "def run(rank: int, world_size: int):\n",
        "    dist.init_process_group(backend=\"nccl\", rank=rank, world_size=world_size)\n",
        "\n",
        "    device = t.device(f\"cuda:{rank}\")\n",
        "    model = DDP(SimpleModel().to(device), device_ids=[rank])  # Wrap the model with DDP\n",
        "    optimizer = t.optim.SGD(model.parameters(), lr=0.1)\n",
        "\n",
        "    input = t.tensor([rank], dtype=t.float32, device=device)\n",
        "    output = model(input)\n",
        "    loss = output.pow(2).sum()\n",
        "    loss.backward()  # DDP handles gradient synchronization\n",
        "\n",
        "    optimizer.step()\n",
        "    print(f\"Rank {rank}, new param: {model.module.param.data}\")\n",
        "\n",
        "    dist.destroy_process_group()\n",
        "\n",
        "\n",
        "if MAIN:\n",
        "    world_size = 2\n",
        "    mp.spawn(run, args=(world_size,), nprocs=world_size, join=True)"
      ]
    },
    {
      "cell_type": "markdown",
      "metadata": {
        "id": "fBkgQZgVAEa3"
      },
      "source": [
        "Can you use these features to rewrite your ResNet training code? Can you compare it to the code you wrote and see how much faster the built-in DDP version is? Note, you won't be able to separate the time taken for backward passes and gradient synchronization since these happen in the same line, but you can assume that the time taken for the backward pass is approximately unchanged and so any speedup you see is due to the better gradient synchronization."
      ]
    },
    {
      "cell_type": "markdown",
      "metadata": {
        "id": "qWflzwXaAEa3"
      },
      "source": [
        "## Bonus - ring operations\n",
        "\n",
        "Our all reduce operation would scale quite badly when we have a large number of models. It chooses a single process as the source process to receive then send out all data, and so this process risks becoming a bottleneck. One of the most popular alternatives is **ring all-reduce**. Broadly speaking, ring-based algorithms work by sending data in a cyclic pattern (i.e. worker `n` sends it to worker `n+1 % N` where `N` is the total number of workers). After each sending round, we perform a reduction operation to the data that was just sent. [This blog post](https://andrew.gibiansky.com/blog/machine-learning/baidu-allreduce/) illustrates the ring all-reduce algorithm for the sum operation.\n",
        "\n",
        "Can you implement the ring all-reduce algorithm by filling in the function below & passing tests? Once you've implemented it, you can compare the speed of your ring all-reduce vs the all-reduce we implemented earlier - is it faster? Do you expect it to be faster in this particular case?"
      ]
    },
    {
      "cell_type": "code",
      "execution_count": null,
      "metadata": {
        "id": "lEG9jOOJAEa4"
      },
      "outputs": [],
      "source": [
        "def ring_all_reduce(tensor: Tensor, rank, world_size, op: Literal[\"sum\", \"mean\"] = \"sum\") -> None:\n",
        "    \"\"\"\n",
        "    Ring all_reduce implementation using non-blocking send/recv to avoid deadlock.\n",
        "    \"\"\"\n",
        "    raise NotImplementedError()\n",
        "\n",
        "\n",
        "if MAIN:\n",
        "    tests.test_all_reduce(ring_all_reduce)"
      ]
    },
    {
      "cell_type": "markdown",
      "metadata": {
        "id": "_6mCZiklAEa4"
      },
      "source": [
        "<details>\n",
        "<summary>Solution</summary>\n",
        "\n",
        "```python\n",
        "def ring_all_reduce(tensor: Tensor, rank, world_size, op: Literal[\"sum\", \"mean\"] = \"sum\") -> None:\n",
        "    \"\"\"\n",
        "    Ring all_reduce implementation using non-blocking send/recv to avoid deadlock.\n",
        "    \"\"\"\n",
        "    # Clone the tensor as the \"send_chunk\" for initial accumulation\n",
        "    send_chunk = tensor.clone()\n",
        "\n",
        "    # Step 1: Reduce-Scatter phase\n",
        "    for _ in range(world_size - 1):\n",
        "        # Compute the ranks involved in this round of sending/receiving\n",
        "        send_to = (rank + 1) % world_size\n",
        "        recv_from = (rank - 1 + world_size) % world_size\n",
        "\n",
        "        # Prepare a buffer for the received chunk\n",
        "        recv_chunk = t.zeros_like(send_chunk)\n",
        "\n",
        "        # Non-blocking send and receive\n",
        "        send_req = dist.isend(send_chunk, dst=send_to)\n",
        "        recv_req = dist.irecv(recv_chunk, src=recv_from)\n",
        "        send_req.wait()\n",
        "        recv_req.wait()\n",
        "\n",
        "        # Accumulate the received chunk into the tensor\n",
        "        tensor += recv_chunk\n",
        "\n",
        "        # Update send_chunk for the next iteration\n",
        "        send_chunk = recv_chunk\n",
        "\n",
        "    # Step 2: All-Gather phase\n",
        "    send_chunk = tensor.clone()\n",
        "    for _ in range(world_size - 1):\n",
        "        # Compute the ranks involved in this round of sending/receiving\n",
        "        send_to = (rank + 1) % world_size\n",
        "        recv_from = (rank - 1 + world_size) % world_size\n",
        "\n",
        "        # Prepare a buffer for the received chunk\n",
        "        recv_chunk = t.zeros_like(send_chunk)\n",
        "\n",
        "        # Non-blocking send and receive, and wait for completion\n",
        "        send_req = dist.isend(send_chunk, dst=send_to)\n",
        "        recv_req = dist.irecv(recv_chunk, src=recv_from)\n",
        "        send_req.wait()\n",
        "        recv_req.wait()\n",
        "\n",
        "        # Update the tensor with received data\n",
        "        tensor.copy_(recv_chunk)\n",
        "\n",
        "        # Update send_chunk for the next iteration\n",
        "        send_chunk = recv_chunk\n",
        "\n",
        "    # Step 3: Average the final result\n",
        "    if op == \"mean\":\n",
        "        tensor /= world_size\n",
        "```\n",
        "\n",
        "We should expect this algorithm to be better when we scale up the number of GPUs, but it won't always be faster in small-world settings like ours, because the naive allreduce algorithm requires fewer individual communication steps and this could outweigh the benefits brought by the ring-based allreduce.\n",
        "\n",
        "</details>"
      ]
    },
    {
      "cell_type": "markdown",
      "metadata": {
        "id": "1EFxW-a5AEa4"
      },
      "source": [
        "# ☆ Bonus"
      ]
    },
    {
      "cell_type": "markdown",
      "metadata": {
        "id": "VX131e1wAEa4"
      },
      "source": [
        "Congratulations for getting to the end of the main content! This section gives some suggestions for more features of Weights and Biases to explore, or some other experiments you can run."
      ]
    },
    {
      "cell_type": "markdown",
      "metadata": {
        "id": "UuE7yt0lAEa4"
      },
      "source": [
        "## Scaling Laws"
      ]
    },
    {
      "cell_type": "markdown",
      "metadata": {
        "id": "hqjIRo8MAEa4"
      },
      "source": [
        "These bonus exercises are taken directly from Jacob Hilton's [online deep learning curriculum](https://github.com/jacobhilton/deep_learning_curriculum/blob/master/2-Scaling-Laws.md) (which is what the original version of the ARENA course was based on).\n",
        "\n",
        "First, you can start by reading the [Chinchilla paper](https://arxiv.org/abs/2203.15556). This is a correction to the original scaling laws paper: parameter count scales linearly with token budget for compute-optimal models, not ~quadratically. The difference comes from using a separately-tuned learning rate schedule for each token budget, rather than using a single training run to measure performance for every token budget. This highlights the importance of hyperparameter tuning for measuring scaling law exponents.\n",
        "\n",
        "You don't have to read the entire paper, just skim the graphs. Don't worry if they don't all make sense yet (it will be more illuminating when we study LLMs next week). Note that, although it specifically applies to language models, the key underlying ideas of tradeoffs between optimal dataset size and model size are generally applicable.\n",
        "\n",
        "### Suggested exercise\n",
        "\n",
        "Perform your own study of scaling laws for MNIST.\n",
        "\n",
        "- Write a script to train a small CNN on MNIST, or find one you have written previously.\n",
        "- Training for a single epoch only, vary the model size and dataset size. For the model size, multiply the width by powers of sqrt(2) (rounding if necessary - the idea is to vary the amount of compute used per forward pass by powers of 2). For the dataset size, multiply the fraction of the full dataset used by powers of 2 (i.e. 1, 1/2, 1/4, ...). To reduce noise, use a few random seeds and always use the full validation set.\n",
        "- The learning rate will need to vary with model size. Either tune it carefully for each model size, or use the rule of thumb that for Adam, the learning rate should be proportional to the initialization scale, i.e. `1/sqrt(fan_in)` for the standard Kaiming He initialization (which is what PyTorch generally uses by default).\n",
        "    - Note - `fan_in` refers to the variable $N_{in}$, which is `in_features` for a linear layer, and `in_channels * kernel_size * kernel_size` for a convolutional layer - in other words, the number of input parameters/activations we take a sumproduct over to get each output activation.\n",
        "- Plot the amount of compute used (on a log scale) against validation loss. The compute-efficient frontier should follow an approximate power law (straight line on a log scale).\n",
        "How does validation accuracy behave?\n",
        "- Study how the compute-efficient model size varies with compute. This should also follow an approximate power law. Try to estimate its exponent.\n",
        "- Repeat your entire experiment with 20% [dropout](https://pytorch.org/docs/stable/generated/torch.nn.Dropout.html) to see how this affects the scaling exponents."
      ]
    },
    {
      "cell_type": "markdown",
      "metadata": {
        "id": "AWpxYCYAAEa4"
      },
      "source": [
        "## Other WandB features\n",
        "\n",
        "Here are a few more Weights & Biases features you might also want to play around with:\n",
        "\n",
        "* [Logging media and objects in experiments](https://docs.wandb.ai/guides/track/log?fbclid=IwAR3NxKsGpEjZwq3vSwYkohZllMpBwxHgOCc_k0ByuD9XGUsi_Scf5ELvGsQ) - you'll be doing this during the RL week, and it's useful when you're training generative image models like VAEs and diffusion models.\n",
        "* [Code saving](https://docs.wandb.ai/guides/app/features/panels/code?fbclid=IwAR2BkaXbRf7cqEH8kc1VzqH_kOJWGxqjUb_JCBq_SCnXOx1oF-Rt-hHydb4) - this captures all python source code files in the current director and all subdirectories. It's great for reproducibility, and also for sharing your code with others.\n",
        "* [Saving and loading PyTorch models](https://wandb.ai/wandb/common-ml-errors/reports/How-to-Save-and-Load-Models-in-PyTorch--VmlldzozMjg0MTE?fbclid=IwAR1Y9MzFTxIiVBJG06b4ppitwKWR4H5_ncKyT2F_rR5Z_IHawmpBTKskPcQ) - you can do this easily using `torch.save`, but it's also possible to do this directly through Weights and Biases as an **artifact**."
      ]
    },
    {
      "cell_type": "markdown",
      "metadata": {
        "id": "fyG9HFvSAEa4"
      },
      "source": [
        "## The Optimizer's Curse\n",
        "\n",
        "The [optimizer's curse](https://www.lesswrong.com/posts/5gQLrJr2yhPzMCcni/the-optimizer-s-curse-and-how-to-beat-it) applies to tuning hyperparameters. The main take-aways are:\n",
        "\n",
        "- You can expect your best hyperparameter combination to actually underperform in the future. You chose it because it was the best on some metric, but that metric has an element of noise/luck, and the more combinations you test the larger this effect is.\n",
        "- Look at the overall trends and correlations in context and try to make sense of the values you're seeing. Just because you ran a long search process doesn't mean your best output is really the best.\n",
        "\n",
        "For more on this, see [Preventing \"Overfitting\" of Cross-Validation Data](https://ai.stanford.edu/~ang/papers/cv-final.pdf) by Andrew Ng."
      ]
    }
  ],
  "metadata": {
    "language_info": {
      "name": "python"
    },
    "colab": {
      "provenance": []
    },
    "kernelspec": {
      "name": "python3",
      "display_name": "Python 3"
    }
  },
  "nbformat": 4,
  "nbformat_minor": 0
}